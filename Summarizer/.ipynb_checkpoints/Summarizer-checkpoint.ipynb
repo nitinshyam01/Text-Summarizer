{
 "cells": [
  {
   "cell_type": "markdown",
   "id": "954e31ac",
   "metadata": {},
   "source": [
    "### Text Summariser"
   ]
  },
  {
   "cell_type": "code",
   "execution_count": 1,
   "id": "2e0b320d",
   "metadata": {},
   "outputs": [],
   "source": [
    "# !pip install tensorflow_text"
   ]
  },
  {
   "cell_type": "code",
   "execution_count": 1,
   "id": "1b805146",
   "metadata": {},
   "outputs": [],
   "source": [
    "#import Libraries\n",
    "import os\n",
    "import pathlib\n",
    "\n",
    "import numpy as np\n",
    "import pandas as pd\n",
    "import matplotlib.pyplot as plt\n",
    "\n",
    "import tensorflow as tf\n",
    "import tensorflow_datasets as tfds\n",
    "\n"
   ]
  },
  {
   "cell_type": "code",
   "execution_count": 2,
   "id": "b0cb7293",
   "metadata": {},
   "outputs": [],
   "source": [
    "import tensorflow_text as text"
   ]
  },
  {
   "cell_type": "code",
   "execution_count": 3,
   "id": "8cf2737d",
   "metadata": {},
   "outputs": [],
   "source": [
    "# Loading the data\n",
    "Articels = pathlib.Path(\"BBC News Summary/News Articles\")\n",
    "Summary = pathlib.Path(\"BBC News Summary/Summaries\")"
   ]
  },
  {
   "cell_type": "code",
   "execution_count": 4,
   "id": "b616fea3",
   "metadata": {},
   "outputs": [
    {
     "name": "stdout",
     "output_type": "stream",
     "text": [
      "2225\n",
      "2225\n"
     ]
    }
   ],
   "source": [
    "# count the total no of articels\n",
    "art_count = len(list(Articels.glob('*/*.txt')))\n",
    "print(art_count)\n",
    "summary_count = len(list(Summary.glob('*/*.txt')))\n",
    "print(summary_count)"
   ]
  },
  {
   "cell_type": "code",
   "execution_count": 5,
   "id": "58b71ce2",
   "metadata": {},
   "outputs": [
    {
     "name": "stdout",
     "output_type": "stream",
     "text": [
      "[WindowsPath('BBC News Summary/News Articles/business'), WindowsPath('BBC News Summary/News Articles/entertainment'), WindowsPath('BBC News Summary/News Articles/politics'), WindowsPath('BBC News Summary/News Articles/sport'), WindowsPath('BBC News Summary/News Articles/tech')]\n"
     ]
    }
   ],
   "source": [
    "print([path for path in pathlib.Path(Articels).iterdir()])"
   ]
  },
  {
   "cell_type": "code",
   "execution_count": 6,
   "id": "d7431d80",
   "metadata": {},
   "outputs": [
    {
     "data": {
      "text/html": [
       "<div>\n",
       "<style scoped>\n",
       "    .dataframe tbody tr th:only-of-type {\n",
       "        vertical-align: middle;\n",
       "    }\n",
       "\n",
       "    .dataframe tbody tr th {\n",
       "        vertical-align: top;\n",
       "    }\n",
       "\n",
       "    .dataframe thead th {\n",
       "        text-align: right;\n",
       "    }\n",
       "</style>\n",
       "<table border=\"1\" class=\"dataframe\">\n",
       "  <thead>\n",
       "    <tr style=\"text-align: right;\">\n",
       "      <th></th>\n",
       "      <th>Class</th>\n",
       "      <th>No. of Articels</th>\n",
       "    </tr>\n",
       "  </thead>\n",
       "  <tbody>\n",
       "    <tr>\n",
       "      <th>0</th>\n",
       "      <td>business</td>\n",
       "      <td>510</td>\n",
       "    </tr>\n",
       "    <tr>\n",
       "      <th>1</th>\n",
       "      <td>entertainment</td>\n",
       "      <td>386</td>\n",
       "    </tr>\n",
       "    <tr>\n",
       "      <th>2</th>\n",
       "      <td>politics</td>\n",
       "      <td>417</td>\n",
       "    </tr>\n",
       "    <tr>\n",
       "      <th>3</th>\n",
       "      <td>sport</td>\n",
       "      <td>511</td>\n",
       "    </tr>\n",
       "    <tr>\n",
       "      <th>4</th>\n",
       "      <td>tech</td>\n",
       "      <td>401</td>\n",
       "    </tr>\n",
       "  </tbody>\n",
       "</table>\n",
       "</div>"
      ],
      "text/plain": [
       "           Class  No. of Articels\n",
       "0       business              510\n",
       "1  entertainment              386\n",
       "2       politics              417\n",
       "3          sport              511\n",
       "4           tech              401"
      ]
     },
     "execution_count": 6,
     "metadata": {},
     "output_type": "execute_result"
    }
   ],
   "source": [
    "def class_distribution(directory):\n",
    "    \n",
    "    #count number of image in each classes\n",
    "    count= []\n",
    "    path_=[]\n",
    "    for path in pathlib.Path(directory).iterdir():\n",
    "        if path.is_dir():\n",
    "            count.append(len([name for name in os.listdir(path)\n",
    "                               if os.path.isfile(os.path.join(path, name))]))\n",
    "            path_.append([os.path.join(path, name) for name in os.listdir(path)\n",
    "                               if os.path.isfile(os.path.join(path, name))]) \n",
    "    \n",
    "    #name of the classes\n",
    "    Classes = [name for name in os.listdir(directory)\n",
    "                    if os.path.isdir(os.path.join(directory, name))]\n",
    "    \n",
    "    #return dataframe with image count and class.\n",
    "    return pd.DataFrame(list(zip(Classes,count)),columns =['Class', 'No. of Articels']),path_, Classes, count\n",
    "\n",
    "df,path_article,classes, count_category = class_distribution(Articels)\n",
    "df"
   ]
  },
  {
   "cell_type": "code",
   "execution_count": 8,
   "id": "f7f4b37c",
   "metadata": {},
   "outputs": [
    {
     "data": {
      "text/html": [
       "<div>\n",
       "<style scoped>\n",
       "    .dataframe tbody tr th:only-of-type {\n",
       "        vertical-align: middle;\n",
       "    }\n",
       "\n",
       "    .dataframe tbody tr th {\n",
       "        vertical-align: top;\n",
       "    }\n",
       "\n",
       "    .dataframe thead th {\n",
       "        text-align: right;\n",
       "    }\n",
       "</style>\n",
       "<table border=\"1\" class=\"dataframe\">\n",
       "  <thead>\n",
       "    <tr style=\"text-align: right;\">\n",
       "      <th></th>\n",
       "      <th>Class</th>\n",
       "      <th>No. of Articels</th>\n",
       "    </tr>\n",
       "  </thead>\n",
       "  <tbody>\n",
       "    <tr>\n",
       "      <th>0</th>\n",
       "      <td>business</td>\n",
       "      <td>510</td>\n",
       "    </tr>\n",
       "    <tr>\n",
       "      <th>1</th>\n",
       "      <td>entertainment</td>\n",
       "      <td>386</td>\n",
       "    </tr>\n",
       "    <tr>\n",
       "      <th>2</th>\n",
       "      <td>politics</td>\n",
       "      <td>417</td>\n",
       "    </tr>\n",
       "    <tr>\n",
       "      <th>3</th>\n",
       "      <td>sport</td>\n",
       "      <td>511</td>\n",
       "    </tr>\n",
       "    <tr>\n",
       "      <th>4</th>\n",
       "      <td>tech</td>\n",
       "      <td>401</td>\n",
       "    </tr>\n",
       "  </tbody>\n",
       "</table>\n",
       "</div>"
      ],
      "text/plain": [
       "           Class  No. of Articels\n",
       "0       business              510\n",
       "1  entertainment              386\n",
       "2       politics              417\n",
       "3          sport              511\n",
       "4           tech              401"
      ]
     },
     "execution_count": 8,
     "metadata": {},
     "output_type": "execute_result"
    }
   ],
   "source": [
    "# check for consistency of summaries and Articels\n",
    "df1,path_summary,_,_ = class_distribution(Summary)\n",
    "df1"
   ]
  },
  {
   "cell_type": "code",
   "execution_count": 9,
   "id": "0d82bae4",
   "metadata": {},
   "outputs": [
    {
     "name": "stdout",
     "output_type": "stream",
     "text": [
      "BBC News Summary\\News Articles\\tech\\243.txt\n",
      "BBC News Summary\\Summaries\\tech\\243.txt\n"
     ]
    }
   ],
   "source": [
    "# check for consistency of paths\n",
    "import random\n",
    "i=random.randint(0,len(classes)-1)\n",
    "j=random.randint(0,len(path_article[i])-1)\n",
    "print(path_article[i][j])\n",
    "print(path_summary[i][j])"
   ]
  },
  {
   "cell_type": "code",
   "execution_count": 10,
   "id": "ef55f6da",
   "metadata": {},
   "outputs": [
    {
     "name": "stdout",
     "output_type": "stream",
     "text": [
      "Article\n",
      "**************************************************\n",
      "Big guns ease through in San Jose\n",
      "\n",
      "Top-seeded Americans Andy Roddick and Andre Agassi survived minor scares to reach the last eight of the SAP Open.\n",
      "\n",
      "Agassi endured early problems against left-handed Dane Kenneth Carlsen before sealing a 7-5 6-1 victory. And world number three Roddick dropped a set to Korean player Hyung-Taik Lee, before pulling out a 6-3 3-6 6-2 win in San Jose, California. Seventh seed Jurgen Melzer came through 6-3 6-3 against Xavier Malisse - winner in Delray Beach last week. Frenchman Cyril Saulnier, meanwhile, fired 19 aces to secure a 6-1 7-6 win over Czech qualifier Tomas Zib.\n",
      "\n",
      "Roddick broke a racket in frustration in the third game of the second set. and afterwards was unimpressed with his form. \"I'm not playing great,\" he said. \"But I'm through and I'm going to keep battling. \"A lot of people are under the assumption that it's easy to play well every week and it's not.\" It is the 12th time in 13 appearances at the event that Agassi, now 34, has progressed to the quarter-final stage. He came from 0-40 down in the opening game to hold serve and gradually wore Carlsen down after attacking his backhand. Agassi also employed several lobs and charged to the net to unsettle the 31-year-old Dane, ranked 88th in the world. \"As the match went on, I got real patient and waited for my opportunities and felt pretty good,\" said Agassi.\n",
      "\n",
      "\n",
      "\n",
      "Summary\n",
      "**************************************************\n",
      "Top-seeded Americans Andy Roddick and Andre Agassi survived minor scares to reach the last eight of the SAP Open.Agassi also employed several lobs and charged to the net to unsettle the 31-year-old Dane, ranked 88th in the world.Agassi endured early problems against left-handed Dane Kenneth Carlsen before sealing a 7-5 6-1 victory.\"I'm not playing great,\" he said.And world number three Roddick dropped a set to Korean player Hyung-Taik Lee, before pulling out a 6-3 3-6 6-2 win in San Jose, California.\"As the match went on, I got real patient and waited for my opportunities and felt pretty good,\" said Agassi.\n"
     ]
    }
   ],
   "source": [
    "\n",
    "i=random.randint(0,len(classes)-1)\n",
    "j=random.randint(0,len(path_article[i])-1)\n",
    "file_path=path_article[i][j]\n",
    "\n",
    "with open(file_path, \"r\") as f:\n",
    "    article = f.read()\n",
    "    print(\"Article\")\n",
    "    print(\"*\"*50)\n",
    "    print(article)\n",
    "\n",
    "summary_path=path_summary[i][j]\n",
    "with open(summary_path, \"r\") as f:\n",
    "    article = f.read()\n",
    "    print(\"\\n\")\n",
    "    print(\"Summary\")\n",
    "    print(\"*\"*50)\n",
    "    print(article)\n",
    "\n"
   ]
  },
  {
   "cell_type": "code",
   "execution_count": 11,
   "id": "903b731f",
   "metadata": {},
   "outputs": [
    {
     "data": {
      "text/plain": [
       "['business', 'entertainment', 'politics', 'sport', 'tech']"
      ]
     },
     "execution_count": 11,
     "metadata": {},
     "output_type": "execute_result"
    }
   ],
   "source": [
    "classes"
   ]
  },
  {
   "cell_type": "code",
   "execution_count": 12,
   "id": "7af88e83",
   "metadata": {},
   "outputs": [
    {
     "data": {
      "text/plain": [
       "[510, 386, 417, 511, 401]"
      ]
     },
     "execution_count": 12,
     "metadata": {},
     "output_type": "execute_result"
    }
   ],
   "source": [
    "count_category"
   ]
  },
  {
   "cell_type": "code",
   "execution_count": 13,
   "id": "d1eb37d7",
   "metadata": {},
   "outputs": [
    {
     "name": "stdout",
     "output_type": "stream",
     "text": [
      "2225\n",
      "2225\n"
     ]
    }
   ],
   "source": [
    "# reading the data\n",
    "Article_data=[]\n",
    "Summary_data=[]\n",
    "for i,class_ in enumerate(classes):\n",
    "    for j in range(count_category[i]):\n",
    "        file_path=path_article[i][j]\n",
    "        with open(file_path, \"r\") as f:\n",
    "            article = f.read()\n",
    "            Article_data.append(article)\n",
    "            f.close\n",
    "        art_path=path_summary[i][j]\n",
    "        with open(art_path, \"r\") as f:\n",
    "            article = f.read()\n",
    "            Summary_data.append(article)\n",
    "            f.close\n",
    "print(len(Article_data))\n",
    "print(len(Summary_data))              "
   ]
  },
  {
   "cell_type": "code",
   "execution_count": 14,
   "id": "0ba242e8",
   "metadata": {},
   "outputs": [],
   "source": [
    "dataset=(list(zip(Article_data, Summary_data)))"
   ]
  },
  {
   "cell_type": "code",
   "execution_count": 15,
   "id": "0b325a35",
   "metadata": {},
   "outputs": [],
   "source": [
    "random.shuffle(dataset)"
   ]
  },
  {
   "cell_type": "code",
   "execution_count": 16,
   "id": "e1020f7b",
   "metadata": {},
   "outputs": [
    {
     "name": "stdout",
     "output_type": "stream",
     "text": [
      "Australia rates at four year high\n",
      "\n",
      "Australia is raising its benchmark interest rate to its highest level in four years despite signs of a slowdown in the country's economy.\n",
      "\n",
      "The Reserve Bank of Australia lifted interest rates 0.25% to 5.5%, their first upwards move in more than a year. However, shortly after the Bank made its decision, new figures showed a fall in economic growth in the last quarter. The Bank said it had acted to curb inflation but the move was criticised by some analysts.\n",
      "\n",
      "The rate hike was the first since December 2003 and had been well-flagged in advance. However, opposition parties and some analysts said the move was ill-timed given data showing the Australian economy grew just 0.1% between October and December and 1.5% on an annual basis.\n",
      "\n",
      "The figures, representing a decline from the 0.2% growth in GDP seen between July and September, were below market expectations. Consumer spending remains strong, however, and the Bank is concerned about growing inflationary pressures. \"Over recent months it has become increasingly clear that remaining spare capacity in the labour and goods markets is becoming rather limited,\" said Ian Macfarlane, Governor of the Reserve Bank.\n",
      "\n",
      "At 2.6%, inflation remains within the Bank's 2-3% target range. However, exports declined in the second half of 2004, fuelling a rise in the country's current account deficit - the difference in the value of imports compared to exports - to a record Australian dollar 29.4bn. The Australian government said the economy remained strong with unemployment at a near 30 year low. \"The economy has been strong and it is properly moderating but it doesn't look to me like it's slowing in any unreasonable way,\" said Treasurer Peter Costello. Stock markets had factored in the likelihood of a rate rise but analysts still expressed concern about the strength of the economy. \"That 1.5% annual growth rate is the lowest we have seen since the post-election slump we saw back in 2000-1,\" said Michael Blythe, chief economist at the Commonwealth Bank of Australia. \"This suggests the economy really did slow very sharply in the second half of 2004.\"\n",
      "\n",
      "********************\n",
      "The Reserve Bank of Australia lifted interest rates 0.25% to 5.5%, their first upwards move in more than a year.However, opposition parties and some analysts said the move was ill-timed given data showing the Australian economy grew just 0.1% between October and December and 1.5% on an annual basis.\"That 1.5% annual growth rate is the lowest we have seen since the post-election slump we saw back in 2000-1,\" said Michael Blythe, chief economist at the Commonwealth Bank of Australia.The Bank said it had acted to curb inflation but the move was criticised by some analysts.The Australian government said the economy remained strong with unemployment at a near 30 year low.Australia is raising its benchmark interest rate to its highest level in four years despite signs of a slowdown in the country's economy.Stock markets had factored in the likelihood of a rate rise but analysts still expressed concern about the strength of the economy.\n"
     ]
    }
   ],
   "source": [
    "print(dataset[1][0])\n",
    "print(\"*\"*20)\n",
    "print(dataset[1][1])"
   ]
  },
  {
   "cell_type": "code",
   "execution_count": 17,
   "id": "606cee7d",
   "metadata": {},
   "outputs": [
    {
     "data": {
      "text/plain": [
       "1557.0"
      ]
     },
     "execution_count": 17,
     "metadata": {},
     "output_type": "execute_result"
    }
   ],
   "source": [
    "# split the data into test and train\n",
    "np.floor(.7*len(dataset))"
   ]
  },
  {
   "cell_type": "code",
   "execution_count": 18,
   "id": "d92c33ec",
   "metadata": {},
   "outputs": [],
   "source": [
    "\n",
    "train_data=tf.data.Dataset.from_tensor_slices(dataset[0:int(np.floor(.7*len(dataset)))])\n",
    "test_data=tf.data.Dataset.from_tensor_slices(dataset[int(np.floor(.7*len(dataset)))::])"
   ]
  },
  {
   "cell_type": "code",
   "execution_count": 19,
   "id": "883cb2ac",
   "metadata": {},
   "outputs": [],
   "source": [
    "train_X = train_data.map(lambda x : x[0])\n",
    "train_y = train_data.map(lambda x : x[1])"
   ]
  },
  {
   "cell_type": "code",
   "execution_count": 20,
   "id": "f363a91c",
   "metadata": {},
   "outputs": [
    {
     "name": "stdout",
     "output_type": "stream",
     "text": [
      "Article:  Arsenal 'may seek full share listing'\n",
      "\n",
      "Arsenal vice-chairman David Dein has said the club may consider seeking a full listing for its shares on the London Stock Exchange.\n",
      "\n",
      "Speaking at the Soccerex football business forum in Dubai, he said a full listing was \"one of the options\" for funding after the club moves to its new stadium. The club - which is currently listed on the smaller Ofex share exchange - is due to move into its new 60,000-seater Emirates Stadium at Ashburton Grove for the start of the 2006/07 season. Mr Dein also warned the current level of TV coverage of the Premiership may be reaching saturation level, with signs that match attendances have been dropping off in the first few months of this season.\n",
      "\n",
      "When Arsenal moves to its new stadium it will see its proportion of turnover from media earnings drop from 52% this season to 34% in two years' time. The club is hoping to increase matchday earnings from 29% to 40% of turnover, and has not ruled out other money-earning means, including a full share listing. \"When the new stadium opens we will go through a thorough financial review,\" Mr Dein said.\n",
      "\n",
      "\"Listing would be one option, but we are flexible and no decisions have been made on that issue yet. \"We want to be in the best financial health - maybe clubs can do it (listing), Manchester United have been a success.\"\n",
      "\n",
      "Mr Dein said that, although television money and coverage had driven the English game forward in the past 10 years, he feared there might now be too many games being shown. Since the formation of the Premier League in season 1992/93, Premiership clubs have seen their income from television soar. \"Television has been the driving force over the past 10 years... but we must constantly improve if we want to remain as the world's leading league competition. \"We must monitor the quality of the product and ensure attendances do not decline, and we must balance that with the quantity of exposure on TV too. \"I think we have practically reached saturation point... sometimes I think less is more.\"\n",
      "\n",
      "The club is funding its move to Ashburton Grove through a number of sources, including debt from banks, from money it already has and will receive in coming years from sponsors, and from the sale of surplus property, including its Highbury Stadium. It is also looking to create new revenue streams from overseas markets, including Asia. \"We have two executives travelling round Japan and China at the moment building relationships with organisations and clubs, and we know our supporters clubs are growing there too, as they are around the world. \"We have got a very good product, so it is very important we go and look at these markets, and make sure we are on the case.\"\n",
      "\n"
     ]
    }
   ],
   "source": [
    "for art in train_X.take(1):\n",
    "    print(\"Article: \", art.numpy().decode('utf-8'))"
   ]
  },
  {
   "cell_type": "code",
   "execution_count": 21,
   "id": "2893bc04",
   "metadata": {},
   "outputs": [],
   "source": [
    "#import bert_vocab_from_dataset to create vocablary using BERT\n",
    "from tensorflow_text.tools.wordpiece_vocab import bert_vocab_from_dataset as bert_vocab"
   ]
  },
  {
   "cell_type": "code",
   "execution_count": 22,
   "id": "962de68f",
   "metadata": {},
   "outputs": [],
   "source": [
    "# parameters to be passed to bert_vocab\n",
    "bert_tokenizer_params=dict(lower_case=True)\n",
    "reserved_tokens=[\"[PAD]\", \"[UNK]\", \"[START]\", \"[END]\"]\n",
    "\n",
    "bert_vocab_args = dict(\n",
    "    # The target vocabulary size\n",
    "    vocab_size = 8000,\n",
    "    # Reserved tokens that must be included in the vocabulary\n",
    "    reserved_tokens=reserved_tokens,\n",
    "    # Arguments for `text.BertTokenizer`\n",
    "    bert_tokenizer_params=bert_tokenizer_params,\n",
    "    # Arguments for `wordpiece_vocab.wordpiece_tokenizer_learner_lib.learn`\n",
    "    learn_params={},\n",
    ")"
   ]
  },
  {
   "cell_type": "code",
   "execution_count": 23,
   "id": "dd5a9576",
   "metadata": {},
   "outputs": [],
   "source": [
    "# genrate vocab from the training data\n",
    "vocab = bert_vocab.bert_vocab_from_dataset(train_X.batch(1000).prefetch(2),**bert_vocab_args)"
   ]
  },
  {
   "cell_type": "code",
   "execution_count": 24,
   "id": "9b0f8e13",
   "metadata": {},
   "outputs": [
    {
     "name": "stdout",
     "output_type": "stream",
     "text": [
      "6816\n"
     ]
    }
   ],
   "source": [
    "print(len(vocab))"
   ]
  },
  {
   "cell_type": "code",
   "execution_count": 25,
   "id": "c95d03ba",
   "metadata": {},
   "outputs": [
    {
     "name": "stdout",
     "output_type": "stream",
     "text": [
      "['[PAD]', '[UNK]', '[START]', '[END]', '!', '\"', '#', '$', '%', '&']\n",
      "['year', 'its', 'up', 'their', 'more', 'were', 'also', '##ed', 'who', 'us']\n",
      "['selling', '##ey', '##ve', 'aid', 'itself', 'laws', 'newspaper', 'numbers', 'opportunity', 'original']\n",
      "['##/', '##:', '##;', '##=', '##?', '##[', '##]', '##`', '##q', '##£']\n"
     ]
    }
   ],
   "source": [
    "# random check vocab\n",
    "print(vocab[:10])\n",
    "print(vocab[100:110])\n",
    "print(vocab[1000:1010])\n",
    "print(vocab[-10:])"
   ]
  },
  {
   "cell_type": "code",
   "execution_count": 26,
   "id": "ab05e936",
   "metadata": {},
   "outputs": [],
   "source": [
    "def write_vocab_file(filepath, vocab):\n",
    "    with open(filepath, 'w') as f:\n",
    "        for token in vocab:\n",
    "            print(token, file=f)"
   ]
  },
  {
   "cell_type": "code",
   "execution_count": 27,
   "id": "756356a3",
   "metadata": {},
   "outputs": [],
   "source": [
    "# write vocab to text file\n",
    "write_vocab_file('vocab.txt', vocab)"
   ]
  },
  {
   "cell_type": "code",
   "execution_count": 28,
   "id": "6c5d0c10",
   "metadata": {},
   "outputs": [],
   "source": [
    "tokenizer = text.BertTokenizer('vocab.txt', **bert_tokenizer_params)"
   ]
  },
  {
   "cell_type": "code",
   "execution_count": 47,
   "id": "5501fadc",
   "metadata": {},
   "outputs": [
    {
     "name": "stdout",
     "output_type": "stream",
     "text": [
      "(2,)\n",
      "Arsenal 'may seek full share listing'\n",
      "\n",
      "Arsenal vice-chairman David Dein has said the club may consider seeking a full listing for its shares on the London Stock Exchange.\n",
      "\n",
      "Speaking at the Soccerex football business forum in Dubai, he said a full listing was \"one of the options\" for funding after the club moves to its new stadium. The club - which is currently listed on the smaller Ofex share exchange - is due to move into its new 60,000-seater Emirates Stadium at Ashburton Grove for the start of the 2006/07 season. Mr Dein also warned the current level of TV coverage of the Premiership may be reaching saturation level, with signs that match attendances have been dropping off in the first few months of this season.\n",
      "\n",
      "When Arsenal moves to its new stadium it will see its proportion of turnover from media earnings drop from 52% this season to 34% in two years' time. The club is hoping to increase matchday earnings from 29% to 40% of turnover, and has not ruled out other money-earning means, including a full share listing. \"When the new stadium opens we will go through a thorough financial review,\" Mr Dein said.\n",
      "\n",
      "\"Listing would be one option, but we are flexible and no decisions have been made on that issue yet. \"We want to be in the best financial health - maybe clubs can do it (listing), Manchester United have been a success.\"\n",
      "\n",
      "Mr Dein said that, although television money and coverage had driven the English game forward in the past 10 years, he feared there might now be too many games being shown. Since the formation of the Premier League in season 1992/93, Premiership clubs have seen their income from television soar. \"Television has been the driving force over the past 10 years... but we must constantly improve if we want to remain as the world's leading league competition. \"We must monitor the quality of the product and ensure attendances do not decline, and we must balance that with the quantity of exposure on TV too. \"I think we have practically reached saturation point... sometimes I think less is more.\"\n",
      "\n",
      "The club is funding its move to Ashburton Grove through a number of sources, including debt from banks, from money it already has and will receive in coming years from sponsors, and from the sale of surplus property, including its Highbury Stadium. It is also looking to create new revenue streams from overseas markets, including Asia. \"We have two executives travelling round Japan and China at the moment building relationships with organisations and clubs, and we know our supporters clubs are growing there too, as they are around the world. \"We have got a very good product, so it is very important we go and look at these markets, and make sure we are on the case.\"\n",
      "\n",
      "2\n"
     ]
    }
   ],
   "source": [
    "for art in train_X.batch(2).take(1):\n",
    "    print(art.shape)\n",
    "    print(art.numpy()[0].decode(\"utf-8\"))\n",
    "    \n",
    "print(len(art))"
   ]
  },
  {
   "cell_type": "code",
   "execution_count": 30,
   "id": "2086dfa9",
   "metadata": {},
   "outputs": [
    {
     "name": "stdout",
     "output_type": "stream",
     "text": [
      "Speaking at the Soccerex football business forum in Dubai, he said a full listing was \"one of the options\" for funding after the club moves to its new stadium.Arsenal vice-chairman David Dein has said the club may consider seeking a full listing for its shares on the London Stock Exchange.The club - which is currently listed on the smaller Ofex share exchange - is due to move into its new 60,000-seater Emirates Stadium at Ashburton Grove for the start of the 2006/07 season.The club is hoping to increase matchday earnings from 29% to 40% of turnover, and has not ruled out other money-earning means, including a full share listing.\"When the new stadium opens we will go through a thorough financial review,\" Mr Dein said.When Arsenal moves to its new stadium it will see its proportion of turnover from media earnings drop from 52% this season to 34% in two years' time.The club is funding its move to Ashburton Grove through a number of sources, including debt from banks, from money it already has and will receive in coming years from sponsors, and from the sale of surplus property, including its Highbury Stadium.Mr Dein also warned the current level of TV coverage of the Premiership may be reaching saturation level, with signs that match attendances have been dropping off in the first few months of this season.\n"
     ]
    }
   ],
   "source": [
    "for summary in train_y.batch(2).take(1):\n",
    "    print(summary.numpy()[0].decode(\"utf-8\"))"
   ]
  },
  {
   "cell_type": "code",
   "execution_count": 33,
   "id": "b693607b",
   "metadata": {},
   "outputs": [
    {
     "name": "stdout",
     "output_type": "stream",
     "text": [
      "(2, None, None)\n"
     ]
    }
   ],
   "source": [
    "# Tokenize the examples -> (batch, word, word-piece)\n",
    "token_batch = tokenizer.tokenize(art)\n",
    "\n",
    "print(token_batch.shape)"
   ]
  },
  {
   "cell_type": "code",
   "execution_count": 34,
   "id": "b24ea936",
   "metadata": {},
   "outputs": [
    {
     "name": "stdout",
     "output_type": "stream",
     "text": [
      "(2, None)\n",
      "[954, 10, 193, 1588, 483, 612, 2791, 10, 954, 1627, 16, 570, 497, 1295, 362, 80, 73, 63, 322, 193, 1604, 2226, 36, 483, 2791, 68, 101, 459, 72, 63, 286, 788, 912, 17, 970, 82, 63, 142, 5853, 4662, 716, 708, 321, 2967, 67, 3374, 15, 76, 73, 36, 483, 2791, 75, 5, 112, 65, 63, 2478, 5, 68, 2104, 115, 63, 322, 2986, 64, 101, 110, 1343, 17, 63, 322, 16, 97, 69, 484, 3179, 72, 63, 1767, 65, 134, 716, 612, 912, 16, 69, 416, 64, 333, 138, 101, 110, 1396, 15, 170, 16, 2609, 150, 6557, 4250, 1343, 82, 79, 383, 752, 2935, 253, 42, 4952, 134, 68, 63, 339, 65, 63, 863, 18, 19, 802, 487, 17, 91, 1295, 362, 106, 636, 63, 465, 601, 65, 225, 3774, 65, 63, 1181, 193, 77, 2996, 54, 1212, 5238, 926, 601, 15, 78, 2266, 70, 379, 6450, 74, 81, 98, 4767, 204, 67, 63, 127, 460, 276, 65, 92, 487, 17, 128, 954, 2986, 64, 101, 110, 1343, 71, 84, 250, 101, 4838, 65, 5821, 87, 413, 1488, 1333, 87, 4707, 8, 92, 487, 64, 2283, 8, 67, 130, 143, 10, 129, 17, 63, 322, 69, 1670, 64, 462, 379, 3117, 1488, 87, 2562, 8, 64, 854, 8, 65, 5821, 15, 66, 80, 88, 1287, 116, 137, 327, 16, 2853, 585, 15, 300, 36, 483, 612, 2791, 17, 5, 128, 63, 110, 1343, 2988, 93, 84, 214, 255, 36, 55, 4922, 6392, 521, 1502, 15, 5, 91, 1295, 362, 73, 17, 5, 2791, 96, 77, 112, 2421, 15, 85, 93, 86, 41, 574, 716, 1855, 66, 147, 1484, 81, 98, 159, 72, 70, 535, 533, 17, 5, 93, 237, 64, 77, 67, 63, 145, 521, 773, 16, 2592, 1963, 119, 154, 71, 11, 2791, 12, 15, 896, 441, 81, 98, 36, 652, 17, 5, 91, 1295, 362, 73, 70, 15, 405, 714, 327, 66, 3774, 95, 1695, 63, 1140, 166, 647, 67, 63, 392, 233, 143, 15, 76, 1334, 107, 113, 564, 136, 77, 309, 175, 246, 156, 1037, 17, 208, 63, 1900, 433, 65, 63, 2796, 665, 67, 487, 4480, 18, 28, 868, 15, 1181, 1963, 81, 385, 103, 1537, 87, 714, 6735, 17, 5, 714, 80, 98, 63, 2580, 1062, 124, 63, 392, 233, 143, 17, 17, 17, 85, 93, 514, 6030, 1536, 121, 93, 237, 64, 914, 79, 63, 132, 10, 54, 760, 665, 668, 17, 5, 93, 514, 2375, 63, 969, 65, 63, 1339, 66, 892, 6450, 74, 154, 88, 2041, 15, 66, 93, 514, 3140, 70, 78, 63, 52, 6403, 614, 527, 65, 4121, 72, 225, 309, 17, 5, 44, 218, 93, 81, 5751, 131, 1011, 54, 1212, 5238, 926, 595, 17, 17, 17, 2613, 44, 218, 455, 69, 104, 17, 5, 63, 322, 69, 2104, 101, 333, 64, 79, 383, 752, 2935, 253, 42, 4952, 134, 255, 36, 172, 65, 2905, 15, 300, 842, 87, 1214, 15, 87, 327, 71, 259, 80, 66, 84, 1523, 67, 670, 143, 87, 54, 5522, 1829, 1072, 15, 66, 87, 63, 565, 65, 4633, 1679, 15, 300, 101, 231, 2552, 1343, 17, 71, 69, 106, 485, 64, 956, 110, 1620, 6744, 74, 87, 2312, 1017, 15, 300, 1281, 17, 5, 93, 81, 130, 1786, 5147, 848, 558, 66, 365, 82, 63, 1180, 1248, 2068, 74, 78, 2062, 66, 1963, 15, 66, 93, 358, 187, 1407, 1963, 86, 797, 113, 309, 15, 79, 89, 86, 312, 63, 132, 17, 5, 93, 81, 354, 36, 163, 191, 1339, 15, 142, 71, 69, 163, 508, 93, 214, 66, 437, 82, 263, 1017, 15, 66, 153, 789, 93, 86, 72, 63, 464, 17, 5]\n",
      "[950, 611, 82, 241, 100, 231, 950, 69, 2543, 101, 6461, 445, 499, 64, 101, 1336, 601, 67, 241, 143, 357, 2266, 65, 36, 2071, 67, 63, 238, 10, 54, 289, 17, 63, 2734, 313, 65, 950, 4156, 445, 611, 19, 17, 556, 8, 64, 24, 17, 24, 8, 15, 103, 127, 5458, 74, 333, 67, 104, 118, 36, 100, 17, 245, 15, 3855, 115, 63, 313, 159, 101, 343, 15, 110, 346, 723, 36, 757, 67, 316, 278, 67, 63, 125, 420, 17, 63, 313, 73, 71, 95, 606, 107, 64, 38, 1306, 752, 1286, 85, 63, 333, 75, 1332, 83, 141, 396, 17, 63, 499, 2783, 1394, 75, 63, 127, 208, 411, 292, 66, 95, 98, 179, 16, 41, 2753, 3227, 67, 2938, 17, 245, 15, 1221, 813, 66, 141, 396, 73, 63, 333, 75, 4553, 16, 129, 126, 412, 408, 1622, 63, 782, 289, 2105, 146, 19, 17, 20, 8, 230, 711, 66, 411, 66, 20, 17, 24, 8, 72, 94, 701, 2033, 17, 63, 346, 15, 3840, 36, 2041, 87, 63, 19, 17, 21, 8, 278, 67, 2587, 385, 230, 1355, 66, 800, 15, 105, 1481, 189, 1490, 17, 654, 456, 1022, 444, 15, 245, 15, 66, 63, 313, 69, 1196, 114, 797, 1286, 1596, 4595, 17, 5, 124, 451, 276, 71, 80, 386, 2109, 563, 70, 2069, 6227, 1572, 67, 63, 165, 66, 2052, 1017, 69, 1372, 568, 1463, 15, 5, 73, 1868, 1464, 4049, 194, 3714, 134, 15, 6590, 65, 63, 2734, 313, 17, 82, 21, 17, 25, 8, 15, 1286, 1022, 662, 63, 313, 10, 54, 21, 16, 22, 8, 1186, 958, 17, 245, 15, 1174, 3257, 67, 63, 211, 272, 65, 198, 15, 1219, 631, 36, 359, 67, 63, 238, 10, 54, 465, 1370, 1109, 16, 63, 1864, 67, 63, 860, 65, 2867, 856, 64, 1174, 16, 64, 36, 279, 782, 474, 2562, 17, 2193, 17, 63, 782, 139, 73, 63, 289, 1914, 444, 78, 1686, 82, 36, 1254, 538, 100, 531, 17, 5, 63, 289, 80, 98, 444, 66, 71, 69, 3192, 48, 2339, 150, 1056, 85, 71, 1487, 10, 55, 437, 64, 265, 160, 71, 10, 54, 4403, 67, 185, 2813, 754, 1452, 253, 562, 180, 15, 5, 73, 55, 754, 1452, 1100, 194, 1205, 376, 4661, 240, 17, 788, 1017, 95, 2472, 107, 67, 63, 160, 5199, 3893, 65, 36, 499, 359, 85, 396, 212, 2711, 1348, 114, 63, 1851, 65, 63, 289, 17, 5, 70, 20, 17, 24, 8, 701, 278, 499, 69, 63, 2372, 93, 81, 385, 208, 63, 957, 16, 188, 6220, 93, 674, 162, 67, 889, 16, 20, 15, 5, 73, 450, 37, 131, 545, 134, 15, 260, 1696, 82, 63, 6514, 313, 65, 950, 17, 5, 92, 1427, 63, 289, 306, 248, 1649, 163, 4396, 67, 63, 211, 272, 65, 198, 17, 5]\n"
     ]
    }
   ],
   "source": [
    "# tokaniser create a 3d tensor array\n",
    "# Merge the word and word-piece axes -> (batch, tokens)\n",
    "token_batch = token_batch.merge_dims(-2,-1)\n",
    "print(token_batch.shape)\n",
    "for ex in token_batch.to_list():\n",
    "    print(ex)"
   ]
  },
  {
   "cell_type": "code",
   "execution_count": 35,
   "id": "4340ed74",
   "metadata": {},
   "outputs": [],
   "source": [
    "def lookup(token_ids):\n",
    "    txt_tokens = tf.gather(vocab, token_batch)\n",
    "    \n",
    "    return txt_tokens"
   ]
  },
  {
   "cell_type": "code",
   "execution_count": 37,
   "id": "50817935",
   "metadata": {},
   "outputs": [
    {
     "data": {
      "text/plain": [
       "<tf.Tensor: shape=(2,), dtype=string, numpy=\n",
       "array([b'arsenal \\' may seek full share listing \\' arsenal vice - chairman david de ##in has said the club may consider seeking a full listing for its shares on the london stock exchange . speaking at the so ##cc ##ere ##x football business forum in dubai , he said a full listing was \" one of the options \" for funding after the club moves to its new stadium . the club - which is currently listed on the smaller of ##e ##x share exchange - is due to move into its new 60 , 000 - seat ##er emi ##rates stadium at as ##h ##b ##urt ##on g ##rov ##e for the start of the 2006 / 0 ##7 season . mr de ##in also warned the current level of tv coverage of the premiership may be reaching s ##at ##ura ##tion level , with signs that match attendance ##s have been dropping off in the first few months of this season . when arsenal moves to its new stadium it will see its proportion of turnover from media earnings drop from 52 % this season to 34 % in two years \\' time . the club is hoping to increase match ##day earnings from 29 % to 40 % of turnover , and has not ruled out other money - earning means , including a full share listing . \" when the new stadium opens we will go through a t ##ho ##rough financial review , \" mr de ##in said . \" listing would be one option , but we are f ##le ##x ##ible and no decisions have been made on that issue yet . \" we want to be in the best financial health - maybe clubs can do it ( listing ) , manchester united have been a success . \" mr de ##in said that , although television money and coverage had driven the english game forward in the past 10 years , he fear ##ed there might now be too many games being shown . since the format ##ion of the premier league in season 1992 / 9 ##3 , premiership clubs have seen their income from television soar . \" television has been the driving force over the past 10 years . . . but we must constantly improve if we want to remain as the world \\' s leading league competition . \" we must monitor the quality of the product and ensure attendance ##s do not decline , and we must balance that with the q ##ua ##nt ##ity of exposure on tv too . \" i think we have practical ##ly reached s ##at ##ura ##tion point . . . sometimes i think less is more . \" the club is funding its move to as ##h ##b ##urt ##on g ##rov ##e through a number of sources , including debt from banks , from money it already has and will receive in coming years from s ##po ##ns ##ors , and from the sale of surplus property , including its high ##bury stadium . it is also looking to create new revenue stream ##s from overseas markets , including asia . \" we have two executives travelling round japan and china at the moment building relationship ##s with organisations and clubs , and we know our supporters clubs are growing there too , as they are around the world . \" we have got a very good product , so it is very important we go and look at these markets , and make sure we are on the case . \"',\n",
       "       b'australia rates at four year high australia is raising its benchmark interest rate to its highest level in four years despite signs of a slowdown in the country \\' s economy . the reserve bank of australia lifted interest rates 0 . 25 % to 5 . 5 % , their first upward ##s move in more than a year . however , shortly after the bank made its decision , new figures showed a fall in economic growth in the last quarter . the bank said it had act ##ed to c ##ur ##b inflation but the move was criticised by some analysts . the rate hi ##ke was the first since december 2003 and had been well - f ##la ##gged in advance . however , opposition parties and some analysts said the move was ill - time ##d given data showing the australian economy grew just 0 . 1 % between october and december and 1 . 5 % on an annual basis . the figures , representing a decline from the 0 . 2 % growth in gdp seen between july and september , were below market expectations . consumer spending remains strong , however , and the bank is concerned about growing inflation ##ary pressures . \" over recent months it has become increasingly clear that remaining spare capacity in the labour and goods markets is becoming rather limited , \" said ian mac ##fa ##r ##lan ##e , governor of the reserve bank . at 2 . 6 % , inflation remains within the bank \\' s 2 - 3 % target range . however , exports declined in the second half of 2004 , fuel ##ling a rise in the country \\' s current account deficit - the difference in the value of imports compared to exports - to a record australian dollar 29 . 4bn . the australian government said the economy remained strong with unemployment at a near 30 year low . \" the economy has been strong and it is properly m ##od ##er ##ating but it doesn \\' t look to me like it \\' s slowing in any un ##re ##as ##on ##able way , \" said t ##re ##as ##ure ##r peter cost ##ell ##o . stock markets had factor ##ed in the like ##li ##hood of a rate rise but analysts still expressed concern about the strength of the economy . \" that 1 . 5 % annual growth rate is the lowest we have seen since the post - election slump we saw back in 2000 - 1 , \" said michael b ##ly ##th ##e , chief economist at the commonwealth bank of australia . \" this suggests the economy really did slow very sharply in the second half of 2004 . \"'],\n",
       "      dtype=object)>"
      ]
     },
     "execution_count": 37,
     "metadata": {},
     "output_type": "execute_result"
    }
   ],
   "source": [
    "txt_tokens = tf.gather(vocab, token_batch)\n",
    "# Join with spaces.\n",
    "tf.strings.reduce_join(txt_tokens, separator=' ', axis=-1)"
   ]
  },
  {
   "cell_type": "code",
   "execution_count": 43,
   "id": "ab4a02d3",
   "metadata": {},
   "outputs": [
    {
     "data": {
      "text/plain": [
       "'arsenal \\' may seek full share listing \\' arsenal vice - chairman david dein has said the club may consider seeking a full listing for its shares on the london stock exchange . speaking at the soccerex football business forum in dubai , he said a full listing was \" one of the options \" for funding after the club moves to its new stadium . the club - which is currently listed on the smaller ofex share exchange - is due to move into its new 60 , 000 - seater emirates stadium at ashburton grove for the start of the 2006 / 07 season . mr dein also warned the current level of tv coverage of the premiership may be reaching saturation level , with signs that match attendances have been dropping off in the first few months of this season . when arsenal moves to its new stadium it will see its proportion of turnover from media earnings drop from 52 % this season to 34 % in two years \\' time . the club is hoping to increase matchday earnings from 29 % to 40 % of turnover , and has not ruled out other money - earning means , including a full share listing . \" when the new stadium opens we will go through a thorough financial review , \" mr dein said . \" listing would be one option , but we are flexible and no decisions have been made on that issue yet . \" we want to be in the best financial health - maybe clubs can do it ( listing ) , manchester united have been a success . \" mr dein said that , although television money and coverage had driven the english game forward in the past 10 years , he feared there might now be too many games being shown . since the formation of the premier league in season 1992 / 93 , premiership clubs have seen their income from television soar . \" television has been the driving force over the past 10 years . . . but we must constantly improve if we want to remain as the world \\' s leading league competition . \" we must monitor the quality of the product and ensure attendances do not decline , and we must balance that with the quantity of exposure on tv too . \" i think we have practically reached saturation point . . . sometimes i think less is more . \" the club is funding its move to ashburton grove through a number of sources , including debt from banks , from money it already has and will receive in coming years from sponsors , and from the sale of surplus property , including its highbury stadium . it is also looking to create new revenue streams from overseas markets , including asia . \" we have two executives travelling round japan and china at the moment building relationships with organisations and clubs , and we know our supporters clubs are growing there too , as they are around the world . \" we have got a very good product , so it is very important we go and look at these markets , and make sure we are on the case . \"'"
      ]
     },
     "execution_count": 43,
     "metadata": {},
     "output_type": "execute_result"
    }
   ],
   "source": [
    "words = tokenizer.detokenize(token_batch)\n",
    "words=tf.strings.reduce_join(words, separator=' ', axis=-1)\n",
    "words.numpy()[0].decode(\"utf-8\")"
   ]
  },
  {
   "cell_type": "code",
   "execution_count": 48,
   "id": "843cb9a3",
   "metadata": {},
   "outputs": [],
   "source": [
    "# adding [START] and [END] tokens to the input data.\n",
    "START = tf.argmax(tf.constant(reserved_tokens) == \"[START]\")\n",
    "END = tf.argmax(tf.constant(reserved_tokens) == \"[END]\")\n",
    "\n",
    "def add_start_end(ragged):\n",
    "    count = ragged.bounding_shape()[0]\n",
    "    starts = tf.fill([count,1], START)\n",
    "    ends = tf.fill([count,1], END)\n",
    "    return tf.concat([starts, ragged, ends], axis=1)"
   ]
  },
  {
   "cell_type": "code",
   "execution_count": 49,
   "id": "83bc4577",
   "metadata": {},
   "outputs": [
    {
     "data": {
      "text/plain": [
       "<tf.Tensor: shape=(2,), dtype=string, numpy=\n",
       "array([b'[START] arsenal \\' may seek full share listing \\' arsenal vice - chairman david dein has said the club may consider seeking a full listing for its shares on the london stock exchange . speaking at the soccerex football business forum in dubai , he said a full listing was \" one of the options \" for funding after the club moves to its new stadium . the club - which is currently listed on the smaller ofex share exchange - is due to move into its new 60 , 000 - seater emirates stadium at ashburton grove for the start of the 2006 / 07 season . mr dein also warned the current level of tv coverage of the premiership may be reaching saturation level , with signs that match attendances have been dropping off in the first few months of this season . when arsenal moves to its new stadium it will see its proportion of turnover from media earnings drop from 52 % this season to 34 % in two years \\' time . the club is hoping to increase matchday earnings from 29 % to 40 % of turnover , and has not ruled out other money - earning means , including a full share listing . \" when the new stadium opens we will go through a thorough financial review , \" mr dein said . \" listing would be one option , but we are flexible and no decisions have been made on that issue yet . \" we want to be in the best financial health - maybe clubs can do it ( listing ) , manchester united have been a success . \" mr dein said that , although television money and coverage had driven the english game forward in the past 10 years , he feared there might now be too many games being shown . since the formation of the premier league in season 1992 / 93 , premiership clubs have seen their income from television soar . \" television has been the driving force over the past 10 years . . . but we must constantly improve if we want to remain as the world \\' s leading league competition . \" we must monitor the quality of the product and ensure attendances do not decline , and we must balance that with the quantity of exposure on tv too . \" i think we have practically reached saturation point . . . sometimes i think less is more . \" the club is funding its move to ashburton grove through a number of sources , including debt from banks , from money it already has and will receive in coming years from sponsors , and from the sale of surplus property , including its highbury stadium . it is also looking to create new revenue streams from overseas markets , including asia . \" we have two executives travelling round japan and china at the moment building relationships with organisations and clubs , and we know our supporters clubs are growing there too , as they are around the world . \" we have got a very good product , so it is very important we go and look at these markets , and make sure we are on the case . \" [END]',\n",
       "       b'[START] australia rates at four year high australia is raising its benchmark interest rate to its highest level in four years despite signs of a slowdown in the country \\' s economy . the reserve bank of australia lifted interest rates 0 . 25 % to 5 . 5 % , their first upwards move in more than a year . however , shortly after the bank made its decision , new figures showed a fall in economic growth in the last quarter . the bank said it had acted to curb inflation but the move was criticised by some analysts . the rate hike was the first since december 2003 and had been well - flagged in advance . however , opposition parties and some analysts said the move was ill - timed given data showing the australian economy grew just 0 . 1 % between october and december and 1 . 5 % on an annual basis . the figures , representing a decline from the 0 . 2 % growth in gdp seen between july and september , were below market expectations . consumer spending remains strong , however , and the bank is concerned about growing inflationary pressures . \" over recent months it has become increasingly clear that remaining spare capacity in the labour and goods markets is becoming rather limited , \" said ian macfarlane , governor of the reserve bank . at 2 . 6 % , inflation remains within the bank \\' s 2 - 3 % target range . however , exports declined in the second half of 2004 , fuelling a rise in the country \\' s current account deficit - the difference in the value of imports compared to exports - to a record australian dollar 29 . 4bn . the australian government said the economy remained strong with unemployment at a near 30 year low . \" the economy has been strong and it is properly moderating but it doesn \\' t look to me like it \\' s slowing in any unreasonable way , \" said treasurer peter costello . stock markets had factored in the likelihood of a rate rise but analysts still expressed concern about the strength of the economy . \" that 1 . 5 % annual growth rate is the lowest we have seen since the post - election slump we saw back in 2000 - 1 , \" said michael blythe , chief economist at the commonwealth bank of australia . \" this suggests the economy really did slow very sharply in the second half of 2004 . \" [END]'],\n",
       "      dtype=object)>"
      ]
     },
     "execution_count": 49,
     "metadata": {},
     "output_type": "execute_result"
    }
   ],
   "source": [
    "words = tokenizer.detokenize(add_start_end(token_batch))\n",
    "tf.strings.reduce_join(words, separator=' ', axis=-1)"
   ]
  },
  {
   "cell_type": "code",
   "execution_count": 50,
   "id": "38e0dea0",
   "metadata": {},
   "outputs": [],
   "source": [
    "\n",
    "import re\n",
    "def cleanup_text(reserved_tokens, token_txt):\n",
    "    # Drop the reserved tokens, except for \"[UNK]\".\n",
    "    bad_tokens = [re.escape(tok) for tok in reserved_tokens if tok != \"[UNK]\"]\n",
    "    bad_token_re = \"|\".join(bad_tokens)\n",
    "\n",
    "    bad_cells = tf.strings.regex_full_match(token_txt, bad_token_re)\n",
    "    result = tf.ragged.boolean_mask(token_txt, ~bad_cells)\n",
    "\n",
    "    # Join them into strings.\n",
    "    result = tf.strings.reduce_join(result, separator=' ', axis=-1)\n",
    "\n",
    "    \n",
    "  \n",
    "  \n",
    "    return result"
   ]
  },
  {
   "cell_type": "code",
   "execution_count": 51,
   "id": "3c09d80a",
   "metadata": {},
   "outputs": [
    {
     "data": {
      "text/plain": [
       "'\\\\[PAD\\\\]|\\\\[START\\\\]|\\\\[END\\\\]'"
      ]
     },
     "execution_count": 51,
     "metadata": {},
     "output_type": "execute_result"
    }
   ],
   "source": [
    "bad_tokens = [re.escape(tok) for tok in reserved_tokens if tok != \"[UNK]\"]\n",
    "bad_tokens\n"
   ]
  },
  {
   "cell_type": "code",
   "execution_count": 53,
   "id": "ed2242b5",
   "metadata": {},
   "outputs": [
    {
     "name": "stdout",
     "output_type": "stream",
     "text": [
      "**************************************************\n",
      "**************************************************\n"
     ]
    }
   ],
   "source": [
    "# check length of each article and its corresponding summary\n",
    "lengths_art = []\n",
    "lengths_summ=[]\n",
    "\n",
    "for Art in train_X.batch(1024):\n",
    "    art_tokens = tokenizer.tokenize(Art)\n",
    "    lengths_art.append(art_tokens.row_lengths())\n",
    "    print(\"*\"*50)\n",
    "\n",
    "\n",
    "for summ in train_y.batch(1024):\n",
    "  \n",
    "    sum_tokens = tokenizer.tokenize(summ)\n",
    "    lengths_summ.append(sum_tokens.row_lengths())"
   ]
  },
  {
   "cell_type": "code",
   "execution_count": 54,
   "id": "13acb2f2",
   "metadata": {},
   "outputs": [],
   "source": [
    "lengths_art = np.concatenate(lengths_art)\n",
    "lengths_summ = np.concatenate(lengths_summ)"
   ]
  },
  {
   "cell_type": "code",
   "execution_count": 55,
   "id": "52765cd6",
   "metadata": {},
   "outputs": [
    {
     "data": {
      "image/png": "[encoded data removed]",
      "text/plain": [
       "<Figure size 640x480 with 1 Axes>"
      ]
     },
     "metadata": {},
     "output_type": "display_data"
    }
   ],
   "source": [
    "plt.hist(lengths_art, np.linspace(0, 5000, 101))\n",
    "plt.ylim(plt.ylim())\n",
    "max_length = max(lengths_art)\n",
    "plt.plot([max_length, max_length], plt.ylim())\n",
    "plt.title(f'Maximum tokens per example: {max_length}');"
   ]
  },
  {
   "cell_type": "code",
   "execution_count": 56,
   "id": "b8e2846e",
   "metadata": {},
   "outputs": [
    {
     "data": {
      "image/png": "[encoded data removed]",
      "text/plain": [
       "<Figure size 640x480 with 1 Axes>"
      ]
     },
     "metadata": {},
     "output_type": "display_data"
    }
   ],
   "source": [
    "plt.hist(lengths_summ, np.linspace(0, 2500, 101))\n",
    "plt.ylim(plt.ylim())\n",
    "max_length = max(lengths_summ)\n",
    "plt.plot([max_length, max_length], plt.ylim())\n",
    "plt.title(f'Maximum tokens per example: {max_length}');"
   ]
  },
  {
   "cell_type": "code",
   "execution_count": 45,
   "id": "1e6bd151",
   "metadata": {},
   "outputs": [],
   "source": [
    "#train_x=[]\n",
    "#for Art,summ in train_data.batch(1).take(1):\n",
    "#    art_tokens = tokenizer.tokenize(Art)\n",
    "#    print(Art.shape)\n",
    "#    print(type(Art))\n",
    "#    print(Art.numpy()[0])\n",
    "#    print(type(art_tokens))\n",
    "#    print(art_tokens.get_shape())"
   ]
  },
  {
   "cell_type": "code",
   "execution_count": 57,
   "id": "e2fa388c",
   "metadata": {},
   "outputs": [],
   "source": [
    "# keeping articels and summaries with tokens<=512, to keep the model light\n",
    "train_x=[]\n",
    "train_y=[]\n",
    "\n",
    "summ_max_length =0\n",
    "for Art,summ in train_data:\n",
    "    art_tokens = tokenizer.tokenize(Art)\n",
    "    summ_tokens = tokenizer.tokenize(summ)\n",
    "    if art_tokens.row_lengths()<=512:\n",
    "        train_x.append(Art.numpy())\n",
    "        train_y.append(summ.numpy())\n",
    "        if summ_tokens.row_lengths()>summ_max_length:\n",
    "            summ_max_length= summ_tokens.row_lengths()\n",
    "            \n",
    "  \n",
    "    \n",
    "\n",
    "\n"
   ]
  },
  {
   "cell_type": "code",
   "execution_count": 58,
   "id": "40b606d7",
   "metadata": {},
   "outputs": [],
   "source": [
    "test_x=[]\n",
    "test_y=[]\n",
    "\n",
    "summ_max_length =0\n",
    "for Art,summ in test_data:\n",
    "    art_tokens = tokenizer.tokenize(Art)\n",
    "    summ_tokens = tokenizer.tokenize(summ)\n",
    "    if art_tokens.row_lengths()<=512:\n",
    "        test_x.append(Art.numpy())\n",
    "        test_y.append(summ.numpy())\n",
    "        if summ_tokens.row_lengths()>summ_max_length:\n",
    "            summ_max_length= summ_tokens.row_lengths()\n",
    "            "
   ]
  },
  {
   "cell_type": "code",
   "execution_count": 59,
   "id": "e5714e9c",
   "metadata": {},
   "outputs": [
    {
     "name": "stdout",
     "output_type": "stream",
     "text": [
      "1090\n",
      "1090\n"
     ]
    }
   ],
   "source": [
    "print(len(train_x))\n",
    "print(len(train_y))"
   ]
  },
  {
   "cell_type": "code",
   "execution_count": 60,
   "id": "2e16dba4",
   "metadata": {},
   "outputs": [
    {
     "name": "stdout",
     "output_type": "stream",
     "text": [
      "449\n",
      "449\n"
     ]
    }
   ],
   "source": [
    "print(len(test_x))\n",
    "print(len(test_y))"
   ]
  },
  {
   "cell_type": "code",
   "execution_count": 61,
   "id": "81a08f0d",
   "metadata": {},
   "outputs": [
    {
     "data": {
      "text/plain": [
       "<tf.Tensor: shape=(1,), dtype=int64, numpy=array([256], dtype=int64)>"
      ]
     },
     "execution_count": 61,
     "metadata": {},
     "output_type": "execute_result"
    }
   ],
   "source": [
    "summ_max_length"
   ]
  },
  {
   "cell_type": "code",
   "execution_count": 62,
   "id": "025dfe92",
   "metadata": {},
   "outputs": [],
   "source": [
    "lengths_art = []\n",
    "\n",
    "for Art in train_x:\n",
    "    art_tokens = tokenizer.tokenize(Art)\n",
    "    lengths_art.append(art_tokens.row_lengths().numpy()[0])\n",
    "\n",
    "lengths_summ=[]\n",
    "\n",
    "for summ in train_y:\n",
    "  \n",
    "    sum_tokens = tokenizer.tokenize(summ)\n",
    "    lengths_summ.append(sum_tokens.row_lengths().numpy()[0])"
   ]
  },
  {
   "cell_type": "code",
   "execution_count": 63,
   "id": "01618674",
   "metadata": {},
   "outputs": [
    {
     "data": {
      "image/png": "[encoded data removed]",
      "text/plain": [
       "<Figure size 640x480 with 1 Axes>"
      ]
     },
     "metadata": {},
     "output_type": "display_data"
    }
   ],
   "source": [
    "plt.hist(lengths_art, np.linspace(0, 600, 101))\n",
    "plt.ylim(plt.ylim())\n",
    "max_length = max(lengths_art)\n",
    "plt.plot([max_length, max_length], plt.ylim())\n",
    "plt.title(f'Maximum tokens per example: {max_length}');"
   ]
  },
  {
   "cell_type": "code",
   "execution_count": 64,
   "id": "ba8228bf",
   "metadata": {},
   "outputs": [
    {
     "data": {
      "image/png": "[encoded data removed]",
      "text/plain": [
       "<Figure size 640x480 with 1 Axes>"
      ]
     },
     "metadata": {},
     "output_type": "display_data"
    }
   ],
   "source": [
    "plt.hist(lengths_summ, np.linspace(0, 350, 101))\n",
    "plt.ylim(plt.ylim())\n",
    "max_length = max(lengths_summ)\n",
    "plt.plot([max_length, max_length], plt.ylim())\n",
    "plt.title(f'Maximum tokens per example: {max_length}');"
   ]
  },
  {
   "cell_type": "code",
   "execution_count": 65,
   "id": "cd7f691d",
   "metadata": {},
   "outputs": [],
   "source": [
    "train_data=tf.data.Dataset.from_tensor_slices((train_x,train_y))"
   ]
  },
  {
   "cell_type": "code",
   "execution_count": 66,
   "id": "78c31981",
   "metadata": {},
   "outputs": [],
   "source": [
    "test_data=tf.data.Dataset.from_tensor_slices((test_x,test_y))"
   ]
  },
  {
   "cell_type": "code",
   "execution_count": 67,
   "id": "bef77741",
   "metadata": {},
   "outputs": [
    {
     "data": {
      "text/plain": [
       "(TensorSpec(shape=(), dtype=tf.string, name=None),\n",
       " TensorSpec(shape=(), dtype=tf.string, name=None))"
      ]
     },
     "execution_count": 67,
     "metadata": {},
     "output_type": "execute_result"
    }
   ],
   "source": [
    "train_data.element_spec"
   ]
  },
  {
   "cell_type": "code",
   "execution_count": 68,
   "id": "c1e45f21",
   "metadata": {},
   "outputs": [],
   "source": [
    "MAX_TOKENS_X=512\n",
    "MAX_TOKENS_Y=256\n",
    "\n",
    "def prepare_batch(x, y):\n",
    "    x = tokenizer.tokenize(x)      # Output is ragged.\n",
    "    x=x.merge_dims(-2,-1)\n",
    "    x= add_start_end(x)\n",
    "    x = x[:, :MAX_TOKENS_X]    # Trim to MAX_TOKENS.\n",
    "  \n",
    "    x = x.to_tensor()  # Convert to 0-padded dense Tensor\n",
    "    \n",
    "\n",
    "    y = tokenizer.tokenize(y)\n",
    "    y=y.merge_dims(-2,-1)\n",
    "    y= add_start_end(y)\n",
    "    y = y[:, :(MAX_TOKENS_Y+1)]\n",
    "    y_inp = y[:, :-1].to_tensor()  # Drop the [END] tokens\n",
    "    y_out = y[:, 1:].to_tensor()   # Drop the [START] tokens\n",
    "\n",
    "    return (x,y_inp), y_out"
   ]
  },
  {
   "cell_type": "code",
   "execution_count": 69,
   "id": "322d051f",
   "metadata": {},
   "outputs": [],
   "source": [
    "BUFFER_SIZE = 1000\n",
    "BATCH_SIZE = 64\n",
    "def make_batches(ds):\n",
    "    return (\n",
    "        ds.shuffle(BUFFER_SIZE).batch(BATCH_SIZE)\n",
    "        .map(prepare_batch, tf.data.AUTOTUNE)\n",
    "        .prefetch(buffer_size=tf.data.AUTOTUNE))"
   ]
  },
  {
   "cell_type": "code",
   "execution_count": 70,
   "id": "db107a0f",
   "metadata": {},
   "outputs": [],
   "source": [
    "train_batches = make_batches(train_data)"
   ]
  },
  {
   "cell_type": "code",
   "execution_count": 71,
   "id": "2bc29f5d",
   "metadata": {},
   "outputs": [],
   "source": [
    "test_batches = make_batches(test_data)"
   ]
  },
  {
   "cell_type": "code",
   "execution_count": 72,
   "id": "32e34310",
   "metadata": {},
   "outputs": [
    {
     "name": "stdout",
     "output_type": "stream",
     "text": [
      "(64, 512)\n",
      "(64, 256)\n",
      "(64, 256)\n"
     ]
    }
   ],
   "source": [
    "for (art, summ), out in train_batches.take(1):\n",
    "    break\n",
    "\n",
    "print(art.shape)\n",
    "print(summ.shape)\n",
    "print(out.shape)\n",
    "\n"
   ]
  },
  {
   "cell_type": "markdown",
   "id": "09468958",
   "metadata": {},
   "source": [
    "## Define the components"
   ]
  },
  {
   "cell_type": "markdown",
   "id": "92cfa64d",
   "metadata": {},
   "source": [
    "### Positional Encoding"
   ]
  },
  {
   "cell_type": "code",
   "execution_count": 73,
   "id": "b4600b90",
   "metadata": {},
   "outputs": [],
   "source": [
    "def positional_encoding(length, emb_dim):\n",
    "    depth = emb_dim/2\n",
    "\n",
    "    positions = np.arange(length)[:, np.newaxis]     # (seq, 1)\n",
    "    depths = np.arange(depth)[np.newaxis, :]/depth   # (1, depth)\n",
    "\n",
    "    angle_rates = 1 / (10000**depths)         # (1, depth)\n",
    "    angle_rads = positions * angle_rates      # (pos, depth)\n",
    "    pos_encoding=np.zeros((length,emb_dim))\n",
    "    sin_angels= np.sin(angle_rads) \n",
    "    cos_angels= np.cos(angle_rads)\n",
    "   \n",
    "    pos_encoding[:,0::2]=cos_angels\n",
    "    pos_encoding[:,1::2]=sin_angels\n",
    "\n",
    "    return tf.cast(pos_encoding, dtype=tf.float32)"
   ]
  },
  {
   "cell_type": "markdown",
   "id": "d2483f71",
   "metadata": {},
   "source": [
    "## Positional Embeddings"
   ]
  },
  {
   "cell_type": "code",
   "execution_count": 74,
   "id": "ce866097",
   "metadata": {},
   "outputs": [],
   "source": [
    "class PositionalEmbedding(tf.keras.layers.Layer):\n",
    "    \n",
    "    def __init__(self, vocab_size, d_model):\n",
    "        \n",
    "        super().__init__()\n",
    "        self.d_model = d_model\n",
    "        self.embedding = tf.keras.layers.Embedding(vocab_size, d_model, mask_zero=True) \n",
    "        self.pos_encoding = positional_encoding(length=2048, emb_dim=d_model)\n",
    "\n",
    "    def compute_mask(self, *args, **kwargs):\n",
    "        return self.embedding.compute_mask(*args, **kwargs)\n",
    "\n",
    "    def call(self, x):\n",
    "        length = tf.shape(x)[1]\n",
    "        x = self.embedding(x)\n",
    "        # This factor sets the relative scale of the embedding and positonal_encoding.\n",
    "        x *= tf.math.sqrt(tf.cast(self.d_model, tf.float32))\n",
    "        x = x + self.pos_encoding[tf.newaxis, :length, :]\n",
    "        return x"
   ]
  },
  {
   "cell_type": "code",
   "execution_count": 75,
   "id": "81f29f5b",
   "metadata": {},
   "outputs": [],
   "source": [
    "embedings = PositionalEmbedding(vocab_size=len(vocab), d_model=512)"
   ]
  },
  {
   "cell_type": "markdown",
   "id": "ee906f97",
   "metadata": {},
   "source": [
    "### Base Attention Layer\n",
    "this serves as base later for all attention heads"
   ]
  },
  {
   "cell_type": "code",
   "execution_count": 76,
   "id": "95326453",
   "metadata": {},
   "outputs": [],
   "source": [
    "class BaseAttention(tf.keras.layers.Layer):\n",
    "    def __init__(self, num_heads, key_dims):\n",
    "        super().__init__()\n",
    "        self.mha = tf.keras.layers.MultiHeadAttention(num_heads=num_heads,key_dim=key_dims)\n",
    "        self.layernorm = tf.keras.layers.LayerNormalization()\n",
    "        self.add = tf.keras.layers.Add()\n",
    "    def call(self,*args,**kwargs):\n",
    "        encoder = kwargs[\"encoder\"]\n",
    "        use_causal_mask = kwargs[\"mask_value\"]\n",
    "        \n",
    "        if encoder:\n",
    "            x=args[0]\n",
    "            attn_output, attn_scores = self.mha(query=x,key=x, value=x,return_attention_scores = True,\n",
    "                                                use_causal_mask = False )\n",
    "        elif use_causal_mask:\n",
    "            x=args[0]\n",
    "            attn_output, attn_scores = self.mha(query=x,key=x, value=x,\n",
    "                                                return_attention_scores = True, use_causal_mask = True)\n",
    "        else :\n",
    "            x=args[0]\n",
    "            context=args[1]\n",
    "            attn_output, attn_scores = self.mha(query=x,key=context,value=context,\n",
    "                                                return_attention_scores = True,use_causal_mask = False)\n",
    "            \n",
    "        x = self.add([x, attn_output])\n",
    "        x = self.layernorm(x) \n",
    "        \n",
    "\n",
    "        return x, attn_scores"
   ]
  },
  {
   "cell_type": "code",
   "execution_count": 77,
   "id": "b5e2ee83",
   "metadata": {},
   "outputs": [],
   "source": [
    "class FeedForward(tf.keras.layers.Layer):\n",
    "    def __init__(self, d_model, dff, dropout_rate=0.1):\n",
    "        super().__init__()\n",
    "        self.seq = tf.keras.Sequential([\n",
    "            tf.keras.layers.Dense(dff, activation='relu'),\n",
    "            tf.keras.layers.Dense(d_model),\n",
    "            tf.keras.layers.Dropout(dropout_rate)\n",
    "        ])\n",
    "        self.add = tf.keras.layers.Add()\n",
    "        self.layer_norm = tf.keras.layers.LayerNormalization()\n",
    "\n",
    "    def call(self, x):\n",
    "        x = self.add([x, self.seq(x)])\n",
    "        x=self.layer_norm(x)\n",
    "        \n",
    "        return x"
   ]
  },
  {
   "cell_type": "code",
   "execution_count": 78,
   "id": "8e6b50c7",
   "metadata": {},
   "outputs": [],
   "source": [
    "class Encoder(tf.keras.layers.Layer):\n",
    "    def __init__(self, d_model,num_heads, num_layers,dff,dropout_rate=.1):\n",
    "        super().__init__()\n",
    "        self.d_model = d_model\n",
    "        self.num_layers = num_layers\n",
    "        \n",
    "        self.enc_layers= [\n",
    "            BaseAttention(key_dims= d_model,\n",
    "                         num_heads=num_heads)\n",
    "            for _ in range(num_layers)]\n",
    "        self.ffn_layers= [\n",
    "            FeedForward(d_model=d_model,dff=dff)\n",
    "            for _ in range(num_layers)]\n",
    "        self.dropout = tf.keras.layers.Dropout(rate = dropout_rate)\n",
    "    def call(self, x):\n",
    "        \n",
    "        \n",
    "\n",
    "        # Add dropout.\n",
    "        x = self.dropout(x)\n",
    "\n",
    "        for i in range(self.num_layers):\n",
    "            x, _ = self.enc_layers[i](x, mask_value =False, encoder =True)\n",
    "            x    = self.ffn_layers[i](x)\n",
    "            \n",
    "        return x\n"
   ]
  },
  {
   "cell_type": "code",
   "execution_count": 79,
   "id": "e3ba4ee4",
   "metadata": {},
   "outputs": [],
   "source": [
    "class Decoder(tf.keras.layers.Layer):\n",
    "    def __init__(self, d_model,num_heads, num_layers,dff,dropout_rate=.1):\n",
    "        super().__init__()\n",
    "        self.d_model = d_model\n",
    "        self.num_layers = num_layers\n",
    "        \n",
    "        self.casual_attn_layers= [\n",
    "            BaseAttention(key_dims= d_model,\n",
    "                         num_heads=num_heads)\n",
    "            for _ in range(num_layers)]\n",
    "        self.ffn_layers_1= [\n",
    "            FeedForward(d_model=d_model,dff=dff)\n",
    "            for _ in range(num_layers)]\n",
    "        self.decoder_layers= [\n",
    "            BaseAttention(key_dims= d_model,\n",
    "                         num_heads=num_heads)\n",
    "            \n",
    "            for _ in range(num_layers)]\n",
    "        \n",
    "        self.ffn_layers_2= [\n",
    "            FeedForward(d_model=d_model,dff=dff)\n",
    "            for _ in range(num_layers)]\n",
    "        self.dropout = tf.keras.layers.Dropout(rate=dropout_rate)\n",
    "        self.last_attn_scores = None\n",
    "    def call(self, x, context):\n",
    "        \n",
    "      \n",
    "        # Add dropout.\n",
    "        x = self.dropout(x)\n",
    "\n",
    "        for i in range(self.num_layers):\n",
    "            x, _ = self.casual_attn_layers[i](x, mask_value=True, encoder=False)\n",
    "            x    = self.ffn_layers_1[i](x)\n",
    "            x, final_attn_scores = self.decoder_layers[i](x,context, mask_value=False, encoder=False)\n",
    "            x    = self.ffn_layers_2[i](x)\n",
    "        self.last_attn_scores = final_attn_scores    \n",
    "        return x"
   ]
  },
  {
   "cell_type": "code",
   "execution_count": 80,
   "id": "fca7830b",
   "metadata": {},
   "outputs": [],
   "source": [
    "class Transformer(tf.keras.Model):\n",
    "    def __init__(self,*,vocab_size, d_model,num_heads, num_layers,dff,dropout_rate=.1):\n",
    "        super().__init__()\n",
    "        self.emb = PositionalEmbedding(vocab_size=vocab_size, d_model=d_model)\n",
    "        \n",
    "        self.encoder = Encoder(d_model=d_model,num_heads=num_heads,\n",
    "                               num_layers=num_layers,dff=dff,dropout_rate=.1)\n",
    "        \n",
    "        self.decoder  = Decoder(d_model=d_model,num_heads=num_heads,\n",
    "                               num_layers=num_layers,dff=dff,dropout_rate=.1)\n",
    "        self.final_layer = tf.keras.layers.Dense(vocab_size)\n",
    "\n",
    "    def call(self, inputs):\n",
    "        context , x = inputs\n",
    "        context     = self.emb(context)\n",
    "        x           = self.emb(x)\n",
    "        context     = self.encoder(context)\n",
    "        x           = self.decoder (x, context)\n",
    "        logits      = self.final_layer(x)\n",
    "        try:\n",
    "            # Drop the keras mask, so it doesn't scale the losses/metrics.\n",
    "            # b/250038731\n",
    "            del logits._keras_mask\n",
    "            \n",
    "        except AttributeError:\n",
    "            pass\n",
    "\n",
    "        # Return the final output and the attention weights.\n",
    "        return logits\n",
    "        \n",
    "    "
   ]
  },
  {
   "cell_type": "code",
   "execution_count": 81,
   "id": "ecf7c949",
   "metadata": {},
   "outputs": [],
   "source": [
    "num_layers = 3\n",
    "d_model = 128\n",
    "dff = 512\n",
    "num_heads = 4\n"
   ]
  },
  {
   "cell_type": "code",
   "execution_count": 82,
   "id": "16871125",
   "metadata": {},
   "outputs": [],
   "source": [
    "transformer =Transformer(vocab_size=len(vocab),d_model=d_model,num_layers=num_layers, num_heads=num_heads,dff=dff)"
   ]
  },
  {
   "cell_type": "code",
   "execution_count": 83,
   "id": "6e93b622",
   "metadata": {},
   "outputs": [],
   "source": [
    "for inputs, out in train_batches.take(1):\n",
    "    output= transformer(inputs)\n",
    "    "
   ]
  },
  {
   "cell_type": "code",
   "execution_count": 84,
   "id": "1b22da54",
   "metadata": {},
   "outputs": [
    {
     "name": "stdout",
     "output_type": "stream",
     "text": [
      "Model: \"transformer\"\n",
      "_________________________________________________________________\n",
      " Layer (type)                Output Shape              Param #   \n",
      "=================================================================\n",
      " positional_embedding_1 (Pos  multiple                 872448    \n",
      " itionalEmbedding)                                               \n",
      "                                                                 \n",
      " encoder (Encoder)           multiple                  1188096   \n",
      "                                                                 \n",
      " decoder (Decoder)           multiple                  2376192   \n",
      "                                                                 \n",
      " dense_18 (Dense)            multiple                  879264    \n",
      "                                                                 \n",
      "=================================================================\n",
      "Total params: 5,316,000\n",
      "Trainable params: 5,316,000\n",
      "Non-trainable params: 0\n",
      "_________________________________________________________________\n"
     ]
    }
   ],
   "source": [
    "transformer.summary()"
   ]
  },
  {
   "cell_type": "code",
   "execution_count": 106,
   "id": "be2d55b7",
   "metadata": {},
   "outputs": [],
   "source": [
    "class CustomSchedule(tf.keras.optimizers.schedules.LearningRateSchedule):\n",
    "    def __init__(self, d_model, warmup_steps=10):\n",
    "        \n",
    "        super().__init__()\n",
    "\n",
    "        self.d_model = d_model\n",
    "        self.d_model = tf.cast(self.d_model, tf.float32)\n",
    "\n",
    "        self.warmup_steps = warmup_steps\n",
    "\n",
    "    def __call__(self, step):\n",
    "        step=step+35\n",
    "        step = tf.cast(step, dtype=tf.float32)\n",
    "        arg1 = tf.math.rsqrt(step)\n",
    "        arg2 = step * (self.warmup_steps ** -1.5)\n",
    "\n",
    "        return tf.math.rsqrt(self.d_model) * tf.math.minimum(arg1, arg2)"
   ]
  },
  {
   "cell_type": "code",
   "execution_count": 107,
   "id": "1a41d0b7",
   "metadata": {},
   "outputs": [],
   "source": [
    "learning_rate = CustomSchedule(d_model)"
   ]
  },
  {
   "cell_type": "code",
   "execution_count": 108,
   "id": "00d17a3d",
   "metadata": {},
   "outputs": [
    {
     "data": {
      "text/plain": [
       "Text(0.5, 0, 'Train Step')"
      ]
     },
     "execution_count": 108,
     "metadata": {},
     "output_type": "execute_result"
    },
    {
     "data": {
      "image/png": "[encoded data removed]",
      "text/plain": [
       "<Figure size 640x480 with 1 Axes>"
      ]
     },
     "metadata": {},
     "output_type": "display_data"
    }
   ],
   "source": [
    "plt.plot(learning_rate(tf.range(400, dtype=tf.float32)))\n",
    "plt.ylabel('Learning Rate')\n",
    "plt.xlabel('Train Step')"
   ]
  },
  {
   "cell_type": "code",
   "execution_count": 109,
   "id": "c9b20d7f",
   "metadata": {},
   "outputs": [],
   "source": [
    "optimizer = tf.keras.optimizers.Adam(learning_rate, beta_1=0.9, beta_2=0.98,\n",
    "                                     epsilon=1e-9)"
   ]
  },
  {
   "cell_type": "code",
   "execution_count": 110,
   "id": "7f689096",
   "metadata": {},
   "outputs": [],
   "source": [
    "def masked_loss(label, pred):\n",
    "    mask = label != 0\n",
    "    loss_object = tf.keras.losses.SparseCategoricalCrossentropy(\n",
    "        from_logits=True, reduction=\"none\")\n",
    "    loss = loss_object(label, pred)\n",
    "\n",
    "    mask = tf.cast(mask, dtype=loss.dtype)\n",
    "    loss *= mask\n",
    "\n",
    "    loss = tf.reduce_sum(loss)/tf.reduce_sum(mask)\n",
    "    return loss\n",
    "\n",
    "\n",
    "def masked_accuracy(label, pred):\n",
    "    pred = tf.argmax(pred, axis=2)\n",
    "    label = tf.cast(label, pred.dtype)\n",
    "    match = label == pred\n",
    "\n",
    "    mask = label != 0\n",
    "\n",
    "    match = match & mask\n",
    " \n",
    "    match = tf.cast(match, dtype=tf.float32)\n",
    "    mask = tf.cast(mask, dtype=tf.float32)\n",
    "    return tf.reduce_sum(match)/tf.reduce_sum(mask)"
   ]
  },
  {
   "cell_type": "code",
   "execution_count": 111,
   "id": "9ab21102",
   "metadata": {},
   "outputs": [],
   "source": [
    "transformer.compile(\n",
    "    loss=masked_loss,\n",
    "    optimizer=optimizer, \n",
    "    metrics=[masked_accuracy])"
   ]
  },
  {
   "cell_type": "code",
   "execution_count": 215,
   "id": "46aba933",
   "metadata": {},
   "outputs": [
    {
     "name": "stdout",
     "output_type": "stream",
     "text": [
      "Epoch 1/2\n",
      "18/18 [==============================] - 959s 49s/step - loss: 6.8113 - masked_accuracy: 0.0480\n",
      "Epoch 2/2\n",
      "18/18 [==============================] - 612s 34s/step - loss: 6.8109 - masked_accuracy: 0.0469\n"
     ]
    },
    {
     "data": {
      "text/plain": [
       "<keras.callbacks.History at 0x1fd5450b040>"
      ]
     },
     "execution_count": 215,
     "metadata": {},
     "output_type": "execute_result"
    }
   ],
   "source": [
    "transformer.fit(train_batches,\n",
    "                epochs=2)"
   ]
  },
  {
   "cell_type": "code",
   "execution_count": 216,
   "id": "cce879c8",
   "metadata": {},
   "outputs": [
    {
     "name": "stdout",
     "output_type": "stream",
     "text": [
      "2/2 [==============================] - 15s 7s/step\n"
     ]
    }
   ],
   "source": [
    "  \n",
    "for inp, out in train_batches.take(1):\n",
    "    \n",
    "    prediction=transformer.predict(inp)\n",
    "        \n",
    "    \n",
    "    break\n",
    "\n"
   ]
  },
  {
   "cell_type": "code",
   "execution_count": 224,
   "id": "bae68bdd",
   "metadata": {},
   "outputs": [
    {
     "name": "stdout",
     "output_type": "stream",
     "text": [
      "Article\n",
      "**************************************************\n"
     ]
    },
    {
     "data": {
      "text/plain": [
       "b\"animation charms japan box office oscar - winning director hayao miyazaki ' s latest film has set a new japanese box office record , with 1 . 5bn yen ( $ 14 . 3m ) in two days , according to reports . howl ' s moving castle is the follow - up to miyazaki ' s spirited away , which won best animation at last year ' s oscars . it is based on the children ' s book by english writer diana wynne jones . it has registered the highest opening weekend takings of any japanese film in the country , according to trade publication screen daily . the film is about an 18 - year - old girl who is trapped in an old woman ' s body after being put under a spell by a witch . its two - day takings represented 1 . 1 million cinema admissions , screen daily said . the film ' s distributor toho expects 40 million people to see it in total - almost one third of the country ' s population - it added . the film won the golden osella for outstanding technical contribution at this year ' s venice film festival .\""
      ]
     },
     "execution_count": 224,
     "metadata": {},
     "output_type": "execute_result"
    }
   ],
   "source": [
    "words = tokenizer.detokenize(inp[0])\n",
    "\n",
    "print(\"Article\")\n",
    "print(\"*\"*50)\n",
    "words.numpy()[0]\n",
    "\n"
   ]
  },
  {
   "cell_type": "code",
   "execution_count": 225,
   "id": "fc43dab1",
   "metadata": {},
   "outputs": [
    {
     "data": {
      "text/plain": [
       "\"it has registered the highest opening weekend takings of any japanese film in the country , according to trade publication screen daily . the film won the golden osella for outstanding technical contribution at this year ' s venice film festival . oscar - winning director hayao miyazaki ' s latest film has set a new japanese box office record , with 1 . 5bn yen ( $ 14 . 3m ) in two days , according to reports . its two - day takings represented 1 . 1 million cinema admissions , screen daily said .\""
      ]
     },
     "execution_count": 225,
     "metadata": {},
     "output_type": "execute_result"
    }
   ],
   "source": [
    "words = tokenizer.detokenize(inp[1])\n",
    "\n",
    "words.numpy()[0].decode(\"utf_8\")"
   ]
  },
  {
   "cell_type": "code",
   "execution_count": 226,
   "id": "96849f4e",
   "metadata": {},
   "outputs": [
    {
     "data": {
      "text/plain": [
       "'the the the the the the the the the the the the the the the the the the the the the the the the the the the the the the the the the the the the the the the the the the the the the the the the the the the the the the the the the the the the the the the the the the the the the the the the the the the the the the the the the the the the the the the the the the the the the the the the the the the the the the the the the the the the the the the the the the the the the the the the the the the the the the the the the the the the the the the the the the the the the the the the the the the the the the the the the the the the the the the the the the the the the the the the the the the the the the the the the the the the the the the the the the the the the the the the the the the the the the the the the the the the the the the the the the the the the the the the the the the the the the the the the the the the the the the the the the the the the the the the the the the the the the the the the the the the the the the the'"
      ]
     },
     "execution_count": 226,
     "metadata": {},
     "output_type": "execute_result"
    }
   ],
   "source": [
    "prediction= tf.argmax(prediction,axis=-1)\n",
    "words = tokenizer.detokenize(prediction)\n",
    "\n",
    "\n",
    "words.numpy()[0].decode(\"utf_8\")"
   ]
  },
  {
   "cell_type": "code",
   "execution_count": 227,
   "id": "c5ee5978",
   "metadata": {},
   "outputs": [],
   "source": [
    "class CustomTokenizer(tf.Module):\n",
    "    def __init__(self, reserved_tokens, vocab_path,name=None):\n",
    "        super().__init__(name=name)\n",
    "        self.tokenizer = text.BertTokenizer(vocab_path, lower_case=True)\n",
    "        self._reserved_tokens = reserved_tokens\n",
    "        self._vocab_path = tf.saved_model.Asset(vocab_path)\n",
    "\n",
    "        vocab = pathlib.Path(vocab_path).read_text().splitlines()\n",
    "        self.vocab = tf.Variable(vocab)\n",
    "\n",
    "        ## Create the signatures for export:   \n",
    "\n",
    "        # Include a tokenize signature for a batch of strings. \n",
    "        self.tokenize.get_concrete_function(\n",
    "            tf.TensorSpec(shape=[None], dtype=tf.string))\n",
    "\n",
    "        # Include `detokenize` and `lookup` signatures for:\n",
    "        #   * `Tensors` with shapes [tokens] and [batch, tokens]\n",
    "        #   * `RaggedTensors` with shape [batch, tokens]\n",
    "        self.detokenize.get_concrete_function(\n",
    "            tf.TensorSpec(shape=[None, None], dtype=tf.int64))\n",
    "        self.detokenize.get_concrete_function(\n",
    "              tf.RaggedTensorSpec(shape=[None, None], dtype=tf.int64))\n",
    "\n",
    "        self.lookup.get_concrete_function(\n",
    "            tf.TensorSpec(shape=[None, None], dtype=tf.int64))\n",
    "        self.lookup.get_concrete_function(\n",
    "              tf.RaggedTensorSpec(shape=[None, None], dtype=tf.int64))\n",
    "\n",
    "        # These `get_*` methods take no arguments\n",
    "        self.get_vocab_size.get_concrete_function()\n",
    "        self.get_vocab_path.get_concrete_function()\n",
    "        self.get_reserved_tokens.get_concrete_function()\n",
    "\n",
    "    @tf.function\n",
    "    def tokenize(self, strings):\n",
    "        enc = self.tokenizer.tokenize(strings)\n",
    "        # Merge the `word` and `word-piece` axes.\n",
    "        enc = enc.merge_dims(-2,-1)\n",
    "        enc = add_start_end(enc)\n",
    "        return enc\n",
    "\n",
    "    @tf.function\n",
    "    def detokenize(self, tokenized):\n",
    "        words = self.tokenizer.detokenize(tokenized)\n",
    "        return cleanup_text(self._reserved_tokens, words)\n",
    "\n",
    "    @tf.function\n",
    "    def lookup(self, token_ids):\n",
    "        return tf.gather(self.vocab, token_ids)\n",
    "\n",
    "    @tf.function\n",
    "    def get_vocab_size(self):\n",
    "        return tf.shape(self.vocab)[0]\n",
    "\n",
    "    @tf.function\n",
    "    def get_vocab_path(self):\n",
    "        return self._vocab_path\n",
    "\n",
    "    @tf.function\n",
    "    def get_reserved_tokens(self):\n",
    "        return tf.constant(self._reserved_tokens)"
   ]
  },
  {
   "cell_type": "code",
   "execution_count": 228,
   "id": "318c9722",
   "metadata": {},
   "outputs": [],
   "source": [
    "tokenizer = CustomTokenizer(reserved_tokens, 'vocab.txt')"
   ]
  },
  {
   "cell_type": "code",
   "execution_count": 367,
   "id": "f6a179e0",
   "metadata": {},
   "outputs": [],
   "source": [
    "class Summarizer(tf.Module):\n",
    "    def __init__(self, tokenizer, transformer):\n",
    "        super().__init__()\n",
    "        \n",
    "        self.tokenizer = tokenizer\n",
    "        self.transformer = transformer\n",
    "\n",
    "    def __call__(self, sentence, max_length=256):\n",
    "        # The input sentence is Portuguese, hence adding the `[START]` and `[END]` tokens.\n",
    "        assert isinstance(sentence, tf.Tensor)\n",
    "        if len(sentence.shape) == 0:\n",
    "            sentence = sentence[tf.newaxis]\n",
    "\n",
    "        sentence = self.tokenizer.tokenize(sentence).to_tensor()\n",
    "\n",
    "        inp      = sentence\n",
    "\n",
    "        # As the output language is English, initialize the output with the\n",
    "        # English `[START]` token.\n",
    "        start_end = self.tokenizer.tokenize([''])[0]\n",
    "        start = start_end[0][tf.newaxis]  # shape(1,)\n",
    "        end = start_end[1][tf.newaxis]    # shape(1,)\n",
    "\n",
    "        # `tf.TensorArray` is required here (instead of a Python list), so that the\n",
    "        # dynamic-loop can be traced by `tf.function`.\n",
    "        output_array = tf.TensorArray(dtype=tf.int64, size=0, dynamic_size=True)\n",
    "        output_array = output_array.write(0, start)\n",
    "\n",
    "        for i in tf.range(max_length):\n",
    "            \n",
    "            output = tf.transpose(output_array.stack())\n",
    "            predictions = self.transformer([inp, output], training=False)\n",
    "\n",
    "            # Select the last token from the `seq_len` dimension.\n",
    "            predictions = predictions[:, -1:, :]  # Shape `(batch_size, 1, vocab_size)`.\n",
    "\n",
    "            predicted_id = tf.argmax(predictions, axis=-1)\n",
    "            \n",
    "\n",
    "            # Concatenate the `predicted_id` to the output which is given to the\n",
    "            # decoder as its input.\n",
    "            output_array = output_array.write(i+1, predicted_id[0])\n",
    "\n",
    "            if predicted_id == end:\n",
    "                break\n",
    "\n",
    "        output = tf.transpose(output_array.stack())\n",
    "        # The output shape is `(1, tokens)`.\n",
    "        text = tokenizer.detokenize(output)[0]  # Shape: `()`.\n",
    "\n",
    "        tokens = tokenizer.lookup(output)[0]\n",
    "\n",
    "        # `tf.function` prevents us from using the attention_weights that were\n",
    "        # calculated on the last iteration of the loop.\n",
    "        # So, recalculate them outside the loop.\n",
    "        self.transformer([inp, output[:,:-1]], training=False)\n",
    "        attention_weights = self.transformer.decoder.last_attn_scores\n",
    "\n",
    "        return text, tokens, attention_weights"
   ]
  },
  {
   "cell_type": "code",
   "execution_count": 368,
   "id": "d8c55d4f",
   "metadata": {},
   "outputs": [],
   "source": [
    "summarizer = Summarizer(tokenizer, transformer)"
   ]
  },
  {
   "cell_type": "code",
   "execution_count": 369,
   "id": "c1706abe",
   "metadata": {},
   "outputs": [],
   "source": [
    "translated_text, translated_tokens, attention_weights=summarizer(tf.constant(Article_data[1]))"
   ]
  },
  {
   "cell_type": "code",
   "execution_count": 370,
   "id": "69d29c0b",
   "metadata": {},
   "outputs": [
    {
     "data": {
      "text/plain": [
       "<tf.Tensor: shape=(), dtype=string, numpy=b'the the the the the the the the the the the the the the the the the the the the the the the the the the the the the the the the the the the the the the the the the the the the the the the the the the the the the the the the the the the the the the the the the the the the the the the the the the the the the the the the the the the the the the the the the the the the the the the the the the the the the the the the the the the the the the the the the the the the the the the the the the the the the the the the the the the the the the the the the the the the the the the the the the the the the the the the the the the the the the the the the the the the the the the the the the the the the the the the the the the the the the the the the the the the the the the the the the the the the the the the the the the the the the the the the the the the the the the the the the the the the the the the the the the the the the the the the the the the the the the the the the the the the the the the the the the the the the the the'>"
      ]
     },
     "execution_count": 370,
     "metadata": {},
     "output_type": "execute_result"
    }
   ],
   "source": [
    "translated_text"
   ]
  },
  {
   "cell_type": "code",
   "execution_count": 371,
   "id": "a64f423d",
   "metadata": {},
   "outputs": [
    {
     "data": {
      "text/plain": [
       "'Dollar gains on Greenspan speech\\n\\nThe dollar has hit its highest level against the euro in almost three months after the Federal Reserve head said the US trade deficit is set to stabilise.\\n\\nAnd Alan Greenspan highlighted the US government\\'s willingness to curb spending and rising household savings as factors which may help to reduce it. In late trading in New York, the dollar reached $1.2871 against the euro, from $1.2974 on Thursday. Market concerns about the deficit has hit the greenback in recent months. On Friday, Federal Reserve chairman Mr Greenspan\\'s speech in London ahead of the meeting of G7 finance ministers sent the dollar higher after it had earlier tumbled on the back of worse-than-expected US jobs data. \"I think the chairman\\'s taking a much more sanguine view on the current account deficit than he\\'s taken for some time,\" said Robert Sinche, head of currency strategy at Bank of America in New York. \"He\\'s taking a longer-term view, laying out a set of conditions under which the current account deficit can improve this year and next.\"\\n\\nWorries about the deficit concerns about China do, however, remain. China\\'s currency remains pegged to the dollar and the US currency\\'s sharp falls in recent months have therefore made Chinese export prices highly competitive. But calls for a shift in Beijing\\'s policy have fallen on deaf ears, despite recent comments in a major Chinese newspaper that the \"time is ripe\" for a loosening of the peg. The G7 meeting is thought unlikely to produce any meaningful movement in Chinese policy. In the meantime, the US Federal Reserve\\'s decision on 2 February to boost interest rates by a quarter of a point - the sixth such move in as many months - has opened up a differential with European rates. The half-point window, some believe, could be enough to keep US assets looking more attractive, and could help prop up the dollar. The recent falls have partly been the result of big budget deficits, as well as the US\\'s yawning current account gap, both of which need to be funded by the buying of US bonds and assets by foreign firms and governments. The White House will announce its budget on Monday, and many commentators believe the deficit will remain at close to half a trillion dollars.\\n'"
      ]
     },
     "execution_count": 371,
     "metadata": {},
     "output_type": "execute_result"
    }
   ],
   "source": [
    "Article_data[1]"
   ]
  },
  {
   "cell_type": "code",
   "execution_count": 372,
   "id": "8aa8d564",
   "metadata": {},
   "outputs": [],
   "source": [
    "def print_summary(sentence, tokens, ground_truth):\n",
    "    print(f'{\"Input:\":15s}: {sentence}')\n",
    "    print(f'{\"Prediction\":15s}: {tokens.numpy().decode(\"utf-8\")}')\n",
    "    print(f'{\"Ground truth\":15s}: {ground_truth}')"
   ]
  },
  {
   "cell_type": "code",
   "execution_count": 373,
   "id": "ee8f3739",
   "metadata": {},
   "outputs": [],
   "source": [
    "class ExportSummarizer(tf.Module):\n",
    "    def __init__(self, summarizer):\n",
    "        self.summarizer = summarizer\n",
    "\n",
    "    @tf.function(input_signature=[tf.TensorSpec(shape=[], dtype=tf.string)])\n",
    "    def __call__(self, sentence):\n",
    "        \n",
    "        (result,\n",
    "        tokens,\n",
    "        attention_weights) = self.summarizer(sentence, max_length=256)\n",
    "\n",
    "        return result"
   ]
  },
  {
   "cell_type": "code",
   "execution_count": 374,
   "id": "5023668c",
   "metadata": {},
   "outputs": [],
   "source": [
    "summarizer = ExportSummarizer(summarizer)"
   ]
  },
  {
   "cell_type": "code",
   "execution_count": 375,
   "id": "68018af6",
   "metadata": {},
   "outputs": [
    {
     "name": "stderr",
     "output_type": "stream",
     "text": [
      "WARNING:absl:Found untraced functions such as embedding_1_layer_call_fn, embedding_1_layer_call_and_return_conditional_losses, dropout_3_layer_call_fn, dropout_3_layer_call_and_return_conditional_losses, dropout_10_layer_call_fn while saving (showing 5 of 240). These functions will not be directly callable after loading.\n"
     ]
    },
    {
     "name": "stdout",
     "output_type": "stream",
     "text": [
      "INFO:tensorflow:Assets written to: summarizer\\assets\n"
     ]
    },
    {
     "name": "stderr",
     "output_type": "stream",
     "text": [
      "INFO:tensorflow:Assets written to: summarizer\\assets\n"
     ]
    }
   ],
   "source": [
    "tf.saved_model.save(summarizer, export_dir='summarizer')"
   ]
  }
 ],
 "metadata": {
  "kernelspec": {
   "display_name": "Python 3 (ipykernel)",
   "language": "python",
   "name": "python3"
  },
  "language_info": {
   "codemirror_mode": {
    "name": "ipython",
    "version": 3
   },
   "file_extension": ".py",
   "mimetype": "text/x-python",
   "name": "python",
   "nbconvert_exporter": "python",
   "pygments_lexer": "ipython3",
   "version": "3.9.16"
  }
 },
 "nbformat": 4,
 "nbformat_minor": 5
}
