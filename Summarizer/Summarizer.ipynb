{
 "cells": [
  {
   "cell_type": "markdown",
   "id": "954e31ac",
   "metadata": {},
   "source": [
    "### Text Summariser"
   ]
  },
  {
   "cell_type": "code",
   "execution_count": 1,
   "id": "2e0b320d",
   "metadata": {},
   "outputs": [],
   "source": [
    "# !pip install tensorflow_text"
   ]
  },
  {
   "cell_type": "code",
   "execution_count": 1,
   "id": "1b805146",
   "metadata": {},
   "outputs": [],
   "source": [
    "#import Libraries\n",
    "import os\n",
    "import pathlib\n",
    "\n",
    "import numpy as np\n",
    "import pandas as pd\n",
    "import matplotlib.pyplot as plt\n",
    "\n",
    "import tensorflow as tf\n",
    "import tensorflow_datasets as tfds\n",
    "\n"
   ]
  },
  {
   "cell_type": "code",
   "execution_count": 2,
   "id": "b0cb7293",
   "metadata": {},
   "outputs": [],
   "source": [
    "import tensorflow_text as text"
   ]
  },
  {
   "cell_type": "code",
   "execution_count": 3,
   "id": "8cf2737d",
   "metadata": {},
   "outputs": [],
   "source": [
    "# Loading the data\n",
    "Articels = pathlib.Path(\"BBC News Summary/News Articles\")\n",
    "Summary = pathlib.Path(\"BBC News Summary/Summaries\")"
   ]
  },
  {
   "cell_type": "code",
   "execution_count": 4,
   "id": "b616fea3",
   "metadata": {},
   "outputs": [
    {
     "name": "stdout",
     "output_type": "stream",
     "text": [
      "2225\n",
      "2225\n"
     ]
    }
   ],
   "source": [
    "# count the total no of articels\n",
    "art_count = len(list(Articels.glob('*/*.txt')))\n",
    "print(art_count)\n",
    "summary_count = len(list(Summary.glob('*/*.txt')))\n",
    "print(summary_count)"
   ]
  },
  {
   "cell_type": "code",
   "execution_count": 5,
   "id": "58b71ce2",
   "metadata": {},
   "outputs": [
    {
     "name": "stdout",
     "output_type": "stream",
     "text": [
      "[WindowsPath('BBC News Summary/News Articles/business'), WindowsPath('BBC News Summary/News Articles/entertainment'), WindowsPath('BBC News Summary/News Articles/politics'), WindowsPath('BBC News Summary/News Articles/sport'), WindowsPath('BBC News Summary/News Articles/tech')]\n"
     ]
    }
   ],
   "source": [
    "print([path for path in pathlib.Path(Articels).iterdir()])"
   ]
  },
  {
   "cell_type": "code",
   "execution_count": 6,
   "id": "d7431d80",
   "metadata": {},
   "outputs": [
    {
     "data": {
      "text/html": [
       "<div>\n",
       "<style scoped>\n",
       "    .dataframe tbody tr th:only-of-type {\n",
       "        vertical-align: middle;\n",
       "    }\n",
       "\n",
       "    .dataframe tbody tr th {\n",
       "        vertical-align: top;\n",
       "    }\n",
       "\n",
       "    .dataframe thead th {\n",
       "        text-align: right;\n",
       "    }\n",
       "</style>\n",
       "<table border=\"1\" class=\"dataframe\">\n",
       "  <thead>\n",
       "    <tr style=\"text-align: right;\">\n",
       "      <th></th>\n",
       "      <th>Class</th>\n",
       "      <th>No. of Articels</th>\n",
       "    </tr>\n",
       "  </thead>\n",
       "  <tbody>\n",
       "    <tr>\n",
       "      <th>0</th>\n",
       "      <td>business</td>\n",
       "      <td>510</td>\n",
       "    </tr>\n",
       "    <tr>\n",
       "      <th>1</th>\n",
       "      <td>entertainment</td>\n",
       "      <td>386</td>\n",
       "    </tr>\n",
       "    <tr>\n",
       "      <th>2</th>\n",
       "      <td>politics</td>\n",
       "      <td>417</td>\n",
       "    </tr>\n",
       "    <tr>\n",
       "      <th>3</th>\n",
       "      <td>sport</td>\n",
       "      <td>511</td>\n",
       "    </tr>\n",
       "    <tr>\n",
       "      <th>4</th>\n",
       "      <td>tech</td>\n",
       "      <td>401</td>\n",
       "    </tr>\n",
       "  </tbody>\n",
       "</table>\n",
       "</div>"
      ],
      "text/plain": [
       "           Class  No. of Articels\n",
       "0       business              510\n",
       "1  entertainment              386\n",
       "2       politics              417\n",
       "3          sport              511\n",
       "4           tech              401"
      ]
     },
     "execution_count": 6,
     "metadata": {},
     "output_type": "execute_result"
    }
   ],
   "source": [
    "def class_distribution(directory):\n",
    "    \n",
    "    #count number of image in each classes\n",
    "    count= []\n",
    "    path_=[]\n",
    "    for path in pathlib.Path(directory).iterdir():\n",
    "        if path.is_dir():\n",
    "            count.append(len([name for name in os.listdir(path)\n",
    "                               if os.path.isfile(os.path.join(path, name))]))\n",
    "            path_.append([os.path.join(path, name) for name in os.listdir(path)\n",
    "                               if os.path.isfile(os.path.join(path, name))]) \n",
    "    \n",
    "    #name of the classes\n",
    "    Classes = [name for name in os.listdir(directory)\n",
    "                    if os.path.isdir(os.path.join(directory, name))]\n",
    "    \n",
    "    #return dataframe with image count and class.\n",
    "    return pd.DataFrame(list(zip(Classes,count)),columns =['Class', 'No. of Articels']),path_, Classes, count\n",
    "\n",
    "df,path_article,classes, count_category = class_distribution(Articels)\n",
    "df"
   ]
  },
  {
   "cell_type": "code",
   "execution_count": 7,
   "id": "f7f4b37c",
   "metadata": {},
   "outputs": [
    {
     "data": {
      "text/html": [
       "<div>\n",
       "<style scoped>\n",
       "    .dataframe tbody tr th:only-of-type {\n",
       "        vertical-align: middle;\n",
       "    }\n",
       "\n",
       "    .dataframe tbody tr th {\n",
       "        vertical-align: top;\n",
       "    }\n",
       "\n",
       "    .dataframe thead th {\n",
       "        text-align: right;\n",
       "    }\n",
       "</style>\n",
       "<table border=\"1\" class=\"dataframe\">\n",
       "  <thead>\n",
       "    <tr style=\"text-align: right;\">\n",
       "      <th></th>\n",
       "      <th>Class</th>\n",
       "      <th>No. of Articels</th>\n",
       "    </tr>\n",
       "  </thead>\n",
       "  <tbody>\n",
       "    <tr>\n",
       "      <th>0</th>\n",
       "      <td>business</td>\n",
       "      <td>510</td>\n",
       "    </tr>\n",
       "    <tr>\n",
       "      <th>1</th>\n",
       "      <td>entertainment</td>\n",
       "      <td>386</td>\n",
       "    </tr>\n",
       "    <tr>\n",
       "      <th>2</th>\n",
       "      <td>politics</td>\n",
       "      <td>417</td>\n",
       "    </tr>\n",
       "    <tr>\n",
       "      <th>3</th>\n",
       "      <td>sport</td>\n",
       "      <td>511</td>\n",
       "    </tr>\n",
       "    <tr>\n",
       "      <th>4</th>\n",
       "      <td>tech</td>\n",
       "      <td>401</td>\n",
       "    </tr>\n",
       "  </tbody>\n",
       "</table>\n",
       "</div>"
      ],
      "text/plain": [
       "           Class  No. of Articels\n",
       "0       business              510\n",
       "1  entertainment              386\n",
       "2       politics              417\n",
       "3          sport              511\n",
       "4           tech              401"
      ]
     },
     "execution_count": 7,
     "metadata": {},
     "output_type": "execute_result"
    }
   ],
   "source": [
    "# check for consistency of summaries and Articels\n",
    "df1,path_summary,_,_ = class_distribution(Summary)\n",
    "df1"
   ]
  },
  {
   "cell_type": "code",
   "execution_count": 8,
   "id": "0d82bae4",
   "metadata": {},
   "outputs": [
    {
     "name": "stdout",
     "output_type": "stream",
     "text": [
      "BBC News Summary\\News Articles\\business\\354.txt\n",
      "BBC News Summary\\Summaries\\business\\354.txt\n"
     ]
    }
   ],
   "source": [
    "# check for consistency of paths\n",
    "import random\n",
    "i=random.randint(0,len(classes)-1)\n",
    "j=random.randint(0,len(path_article[i])-1)\n",
    "print(path_article[i][j])\n",
    "print(path_summary[i][j])"
   ]
  },
  {
   "cell_type": "code",
   "execution_count": 9,
   "id": "ef55f6da",
   "metadata": {},
   "outputs": [
    {
     "name": "stdout",
     "output_type": "stream",
     "text": [
      "Article\n",
      "**************************************************\n",
      "Straw attacked on China arms\n",
      "\n",
      "Moves to lift the European Union's ban on arms exports to China have been condemned by human rights groups and the Conservatives.\n",
      "\n",
      "The 15 year embargo was imposed in the aftermath of China's crackdown on protesters in Tiananmen Square in 1989. UK Foreign Secretary Jack Straw, who will hold talks in Beijing on Thursday, said an EU arms code was more effective than the current ban. But Human Rights Watch says the EU is putting commerce above abuse concerns.\n",
      "\n",
      "In December, the EU pledged to work towards lifting the ban but said it was not ready to do so yet. Germany and France have repeatedly called for the embargo to be lifted. Britain has been more cautious but Mr Straw last week said he also wanted it to end, despite US objections.\n",
      "\n",
      "He expects it to be lifted over the next six months, a prediction which has alarmed critics. Brad Adams, from Human Rights Watch, said: \"This is a huge political signal from Europe that they are willing to forget about Tiananmen Square. \"There are still thousands of people who are unaccounted for.\"\n",
      "\n",
      "Mr Straw said it was wrong to put China under the same embargo as countries such as Zimbabwe and Burma. The scope of the embargo was very narrow and did not have any force of law behind it, he told BBC Radio 4's World At One. In the UK, more export licences were refused under the existing European Union arms code than under the embargo, he said. And only two of the licences denied under the embargo would have been granted under the code. \"The code of conduct is much more effective, it's a more powerful tool of and we intend to strengthen it as a pre-condition of lifting the embargo with China,\" he said.\n",
      "\n",
      "Mr Straw denied the decision would suggest to China that Tiananmen Square had been forgotten. The level of human rights was a key criteria under the EU arms exports code, he said. Human rights groups say the code of conduct is not legally binding - but Mr Straw said it would be given legal force by the laws of many EU countries. Conservative shadow foreign secretary Michael Ancram said the move would be \"profoundly wrong\". The decision could undermine Nato as it severely damaged relations with the US, which is opposed to ending the ban.\n",
      "\n",
      "Mr Ancram argued: \"What the British Government is doing is giving in to French and German pressure, especially the French, who see vast contracts available to them if the embargo is lifted... \"It gives the wrong signals to China, who are simply not prepared to accept that what happened at Tiananmen Square was wrong.\" Mr Straw's China trip is part of regular high-level meetings with Beijing ministers. He will meet Chinese counterpart Minister Li Zhaoxing to discuss developing relations between their two countries, Hong Kong and China's part in the talks on North Korea.\n",
      "\n",
      "\n",
      "\n",
      "Summary\n",
      "**************************************************\n",
      "Mr Straw said it was wrong to put China under the same embargo as countries such as Zimbabwe and Burma.The level of human rights was a key criteria under the EU arms exports code, he said.Human rights groups say the code of conduct is not legally binding - but Mr Straw said it would be given legal force by the laws of many EU countries.UK Foreign Secretary Jack Straw, who will hold talks in Beijing on Thursday, said an EU arms code was more effective than the current ban.In the UK, more export licences were refused under the existing European Union arms code than under the embargo, he said.\"The code of conduct is much more effective, it's a more powerful tool of and we intend to strengthen it as a pre-condition of lifting the embargo with China,\" he said.Mr Straw denied the decision would suggest to China that Tiananmen Square had been forgotten.Mr Ancram argued: \"What the British Government is doing is giving in to French and German pressure, especially the French, who see vast contracts available to them if the embargo is lifted... \"It gives the wrong signals to China, who are simply not prepared to accept that what happened at Tiananmen Square was wrong.\"And only two of the licences denied under the embargo would have been granted under the code.In December, the EU pledged to work towards lifting the ban but said it was not ready to do so yet.\n"
     ]
    }
   ],
   "source": [
    "\n",
    "i=random.randint(0,len(classes)-1)\n",
    "j=random.randint(0,len(path_article[i])-1)\n",
    "file_path=path_article[i][j]\n",
    "\n",
    "with open(file_path, \"r\") as f:\n",
    "    article = f.read()\n",
    "    print(\"Article\")\n",
    "    print(\"*\"*50)\n",
    "    print(article)\n",
    "\n",
    "summary_path=path_summary[i][j]\n",
    "with open(summary_path, \"r\") as f:\n",
    "    article = f.read()\n",
    "    print(\"\\n\")\n",
    "    print(\"Summary\")\n",
    "    print(\"*\"*50)\n",
    "    print(article)\n",
    "\n"
   ]
  },
  {
   "cell_type": "code",
   "execution_count": 10,
   "id": "903b731f",
   "metadata": {},
   "outputs": [
    {
     "data": {
      "text/plain": [
       "['business', 'entertainment', 'politics', 'sport', 'tech']"
      ]
     },
     "execution_count": 10,
     "metadata": {},
     "output_type": "execute_result"
    }
   ],
   "source": [
    "classes"
   ]
  },
  {
   "cell_type": "code",
   "execution_count": 11,
   "id": "7af88e83",
   "metadata": {},
   "outputs": [
    {
     "data": {
      "text/plain": [
       "[510, 386, 417, 511, 401]"
      ]
     },
     "execution_count": 11,
     "metadata": {},
     "output_type": "execute_result"
    }
   ],
   "source": [
    "count_category"
   ]
  },
  {
   "cell_type": "code",
   "execution_count": 12,
   "id": "d1eb37d7",
   "metadata": {},
   "outputs": [
    {
     "name": "stdout",
     "output_type": "stream",
     "text": [
      "2225\n",
      "2225\n"
     ]
    }
   ],
   "source": [
    "# reading the data\n",
    "Article_data=[]\n",
    "Summary_data=[]\n",
    "for i,class_ in enumerate(classes):\n",
    "    for j in range(count_category[i]):\n",
    "        file_path=path_article[i][j]\n",
    "        with open(file_path, \"r\") as f:\n",
    "            article = f.read()\n",
    "            Article_data.append(article)\n",
    "            f.close\n",
    "        art_path=path_summary[i][j]\n",
    "        with open(art_path, \"r\") as f:\n",
    "            article = f.read()\n",
    "            Summary_data.append(article)\n",
    "            f.close\n",
    "print(len(Article_data))\n",
    "print(len(Summary_data))              "
   ]
  },
  {
   "cell_type": "code",
   "execution_count": 13,
   "id": "0ba242e8",
   "metadata": {},
   "outputs": [],
   "source": [
    "dataset=(list(zip(Article_data, Summary_data)))"
   ]
  },
  {
   "cell_type": "code",
   "execution_count": 14,
   "id": "0b325a35",
   "metadata": {},
   "outputs": [],
   "source": [
    "random.shuffle(dataset)"
   ]
  },
  {
   "cell_type": "code",
   "execution_count": 15,
   "id": "e1020f7b",
   "metadata": {},
   "outputs": [
    {
     "name": "stdout",
     "output_type": "stream",
     "text": [
      "Keanu Reeves given Hollywood star\n",
      "\n",
      "Actor Keanu Reeves, best known for his role in the Matrix movies, has been awarded a star on the prestigious Hollywood Walk of Fame.\n",
      "\n",
      "The 40-year-old attended the unveiling of the star with his mother, Patricia, and thanked her for inspiring him to become an actor. \"When I was 15 years old I asked my mom if it was OK to be an actor,\" Reeves said. \"She said: 'Whatever you want'.\" His star is the 2,277th to be embedded in the pavement on Hollywood Boulevard.\n",
      "\n",
      "The actor, who was born in the Lebanese capital Beirut, also spoke of how he dropped out of school to pursue an acting career. \"Hollywood was calling,\" he said, \"So I got in my car, a 1969 British racing green Volvo with holes in the floor and bricks holding up the seats. I was a young man full of hopes and dreams.\" Reeves first found fame in the teen comedy Bill and Ted's Excellent Adventure, and went on to combine such blockbusters as Speed, The Devil's Advocate and the Matrix series, with smaller films including My Own Private Idaho. More recently he was seen in Something's Gotta Give alongside Jack Nicholson and Diane Keaton. His next film, the supernatural thriller Constantine, is released in the US later this month and opens in the UK in March.\n",
      "\n",
      "********************\n",
      "\"When I was 15 years old I asked my mom if it was OK to be an actor,\" Reeves said.Actor Keanu Reeves, best known for his role in the Matrix movies, has been awarded a star on the prestigious Hollywood Walk of Fame.\"Hollywood was calling,\" he said, \"So I got in my car, a 1969 British racing green Volvo with holes in the floor and bricks holding up the seats.The actor, who was born in the Lebanese capital Beirut, also spoke of how he dropped out of school to pursue an acting career.I was a young man full of hopes and dreams.\"\n"
     ]
    }
   ],
   "source": [
    "print(dataset[1][0])\n",
    "print(\"*\"*20)\n",
    "print(dataset[1][1])"
   ]
  },
  {
   "cell_type": "code",
   "execution_count": 16,
   "id": "606cee7d",
   "metadata": {},
   "outputs": [
    {
     "data": {
      "text/plain": [
       "1557.0"
      ]
     },
     "execution_count": 16,
     "metadata": {},
     "output_type": "execute_result"
    }
   ],
   "source": [
    "# split the data into test and train\n",
    "np.floor(.7*len(dataset))"
   ]
  },
  {
   "cell_type": "code",
   "execution_count": 17,
   "id": "d92c33ec",
   "metadata": {},
   "outputs": [],
   "source": [
    "\n",
    "train_data=tf.data.Dataset.from_tensor_slices(dataset[0:int(np.floor(.7*len(dataset)))])\n",
    "test_data=tf.data.Dataset.from_tensor_slices(dataset[int(np.floor(.7*len(dataset)))::])"
   ]
  },
  {
   "cell_type": "code",
   "execution_count": 18,
   "id": "883cb2ac",
   "metadata": {},
   "outputs": [],
   "source": [
    "train_X = train_data.map(lambda x : x[0])\n",
    "train_y = train_data.map(lambda x : x[1])"
   ]
  },
  {
   "cell_type": "code",
   "execution_count": 19,
   "id": "f363a91c",
   "metadata": {},
   "outputs": [
    {
     "name": "stdout",
     "output_type": "stream",
     "text": [
      "Article:  Farrell saga to drag on - Lindsay\n",
      "\n",
      "Wigan chairman Maurice Lindsay says he does not expect a quick solution to the on-going saga of captain Andy Farrell's possible switch to rugby union.\n",
      "\n",
      "Leicester and Saracens are leading the chase for the player, but Lindsay told the BBC it was not yet a done deal. \"As well as the Rugby Football Union, the league, the individual club and the England coaching team have a say, so it's not a quick decision,\" he said. \"He's given us 12 years service so if he wants to go, we'd support him.\" The prospect of Farrell switching codes has been the main talking point of the Super League season so far. \"It came as a bolt out of the blue to us,\" admitted Lindsay. \"But he's a very loyal friend to the club, so there's no question that he's deserting us. He just fancies a challenge.\"\n",
      "\n",
      "Although the move would be a lucrative one for both Farrell and Wigan, Lindsay said money was not a motivating factor for the club. \"The money side of things hasn't been concluded, but it's not the point for Wigan,\" he told Radio Five Live. \"A shortage of money has never been a problem for us. \"Even if we did have it, under the salary cap we can't spend a penny of it anyway - we'd rather have the player.\"\n",
      "\n",
      "Lindsay also said he understood why rugby union was so interested in signing up Farrell. \"It'd be a great loss for us but a great boost for them,\" said the Warriors chief. \"This guy is an absolute sporting icon. He's been at the top for so long and has demonstrated so many attributes that you need to make it in a tough contact sport. \"Athletes like him - Ellery Hanley and Martin Johnson - don't come along very often. You're very lucky to have them whilst you've got them.\"\n",
      "\n"
     ]
    }
   ],
   "source": [
    "for art in train_X.take(1):\n",
    "    print(\"Article: \", art.numpy().decode('utf-8'))"
   ]
  },
  {
   "cell_type": "code",
   "execution_count": 20,
   "id": "2893bc04",
   "metadata": {},
   "outputs": [],
   "source": [
    "#import bert_vocab_from_dataset to create vocablary using BERT\n",
    "from tensorflow_text.tools.wordpiece_vocab import bert_vocab_from_dataset as bert_vocab"
   ]
  },
  {
   "cell_type": "code",
   "execution_count": 21,
   "id": "962de68f",
   "metadata": {},
   "outputs": [],
   "source": [
    "# parameters to be passed to bert_vocab\n",
    "bert_tokenizer_params=dict(lower_case=True)\n",
    "reserved_tokens=[\"[PAD]\", \"[UNK]\", \"[START]\", \"[END]\"]\n",
    "\n",
    "bert_vocab_args = dict(\n",
    "    # The target vocabulary size\n",
    "    vocab_size = 8000,\n",
    "    # Reserved tokens that must be included in the vocabulary\n",
    "    reserved_tokens=reserved_tokens,\n",
    "    # Arguments for `text.BertTokenizer`\n",
    "    bert_tokenizer_params=bert_tokenizer_params,\n",
    "    # Arguments for `wordpiece_vocab.wordpiece_tokenizer_learner_lib.learn`\n",
    "    learn_params={},\n",
    ")"
   ]
  },
  {
   "cell_type": "code",
   "execution_count": 22,
   "id": "dd5a9576",
   "metadata": {},
   "outputs": [],
   "source": [
    "# genrate vocab from the training data\n",
    "vocab = bert_vocab.bert_vocab_from_dataset(train_X.batch(1000).prefetch(2),**bert_vocab_args)"
   ]
  },
  {
   "cell_type": "code",
   "execution_count": 23,
   "id": "9b0f8e13",
   "metadata": {},
   "outputs": [
    {
     "name": "stdout",
     "output_type": "stream",
     "text": [
      "6909\n"
     ]
    }
   ],
   "source": [
    "print(len(vocab))"
   ]
  },
  {
   "cell_type": "code",
   "execution_count": 24,
   "id": "c95d03ba",
   "metadata": {},
   "outputs": [
    {
     "name": "stdout",
     "output_type": "stream",
     "text": [
      "['[PAD]', '[UNK]', '[START]', '[END]', '!', '\"', '#', '$', '%', '&']\n",
      "['##ing', 'more', 'up', 'year', 'its', 'were', 'also', 'people', 'who', 'new']\n",
      "['social', 'talks', '##ne', 'air', 'audience', 'average', 'bit', 'download', 'gave', 'offered']\n",
      "['##.', '##/', '##:', '##;', '##=', '##?', '##[', '##]', '##`', '##£']\n"
     ]
    }
   ],
   "source": [
    "# random check vocab\n",
    "print(vocab[:10])\n",
    "print(vocab[100:110])\n",
    "print(vocab[1000:1010])\n",
    "print(vocab[-10:])"
   ]
  },
  {
   "cell_type": "code",
   "execution_count": 25,
   "id": "ab05e936",
   "metadata": {},
   "outputs": [],
   "source": [
    "def write_vocab_file(filepath, vocab):\n",
    "    with open(filepath, 'w') as f:\n",
    "        for token in vocab:\n",
    "            print(token, file=f)"
   ]
  },
  {
   "cell_type": "code",
   "execution_count": 26,
   "id": "756356a3",
   "metadata": {},
   "outputs": [],
   "source": [
    "# write vocab to text file\n",
    "write_vocab_file('vocab.txt', vocab)"
   ]
  },
  {
   "cell_type": "code",
   "execution_count": 27,
   "id": "6c5d0c10",
   "metadata": {},
   "outputs": [],
   "source": [
    "tokenizer = text.BertTokenizer('vocab.txt', **bert_tokenizer_params)"
   ]
  },
  {
   "cell_type": "code",
   "execution_count": 28,
   "id": "5501fadc",
   "metadata": {},
   "outputs": [
    {
     "name": "stdout",
     "output_type": "stream",
     "text": [
      "(2,)\n",
      "Farrell saga to drag on - Lindsay\n",
      "\n",
      "Wigan chairman Maurice Lindsay says he does not expect a quick solution to the on-going saga of captain Andy Farrell's possible switch to rugby union.\n",
      "\n",
      "Leicester and Saracens are leading the chase for the player, but Lindsay told the BBC it was not yet a done deal. \"As well as the Rugby Football Union, the league, the individual club and the England coaching team have a say, so it's not a quick decision,\" he said. \"He's given us 12 years service so if he wants to go, we'd support him.\" The prospect of Farrell switching codes has been the main talking point of the Super League season so far. \"It came as a bolt out of the blue to us,\" admitted Lindsay. \"But he's a very loyal friend to the club, so there's no question that he's deserting us. He just fancies a challenge.\"\n",
      "\n",
      "Although the move would be a lucrative one for both Farrell and Wigan, Lindsay said money was not a motivating factor for the club. \"The money side of things hasn't been concluded, but it's not the point for Wigan,\" he told Radio Five Live. \"A shortage of money has never been a problem for us. \"Even if we did have it, under the salary cap we can't spend a penny of it anyway - we'd rather have the player.\"\n",
      "\n",
      "Lindsay also said he understood why rugby union was so interested in signing up Farrell. \"It'd be a great loss for us but a great boost for them,\" said the Warriors chief. \"This guy is an absolute sporting icon. He's been at the top for so long and has demonstrated so many attributes that you need to make it in a tough contact sport. \"Athletes like him - Ellery Hanley and Martin Johnson - don't come along very often. You're very lucky to have them whilst you've got them.\"\n",
      "\n",
      "2\n"
     ]
    }
   ],
   "source": [
    "for art in train_X.batch(2).take(1):\n",
    "    print(art.shape)\n",
    "    print(art.numpy()[0].decode(\"utf-8\"))\n",
    "    \n",
    "print(len(art))"
   ]
  },
  {
   "cell_type": "code",
   "execution_count": 29,
   "id": "2086dfa9",
   "metadata": {},
   "outputs": [
    {
     "name": "stdout",
     "output_type": "stream",
     "text": [
      "Although the move would be a lucrative one for both Farrell and Wigan, Lindsay said money was not a motivating factor for the club.Lindsay also said he understood why rugby union was so interested in signing up Farrell.\"As well as the Rugby Football Union, the league, the individual club and the England coaching team have a say, so it's not a quick decision,\" he said.\"But he's a very loyal friend to the club, so there's no question that he's deserting us.Wigan chairman Maurice Lindsay says he does not expect a quick solution to the on-going saga of captain Andy Farrell's possible switch to rugby union.\"A shortage of money has never been a problem for us.\"It came as a bolt out of the blue to us,\" admitted Lindsay.Leicester and Saracens are leading the chase for the player, but Lindsay told the BBC it was not yet a done deal.\n"
     ]
    }
   ],
   "source": [
    "for summary in train_y.batch(2).take(1):\n",
    "    print(summary.numpy()[0].decode(\"utf-8\"))"
   ]
  },
  {
   "cell_type": "code",
   "execution_count": 30,
   "id": "b693607b",
   "metadata": {},
   "outputs": [
    {
     "name": "stdout",
     "output_type": "stream",
     "text": [
      "(2, None, None)\n"
     ]
    }
   ],
   "source": [
    "# Tokenize the examples -> (batch, word, word-piece)\n",
    "token_batch = tokenizer.tokenize(art)\n",
    "\n",
    "print(token_batch.shape)"
   ]
  },
  {
   "cell_type": "code",
   "execution_count": 31,
   "id": "b24ea936",
   "metadata": {},
   "outputs": [
    {
     "name": "stdout",
     "output_type": "stream",
     "text": [
      "(2, None)\n",
      "[3519, 54, 5873, 174, 64, 5674, 72, 16, 3983, 1784, 2148, 578, 48, 4925, 2878, 142, 3983, 188, 75, 442, 87, 1215, 36, 2931, 2936, 64, 63, 72, 16, 204, 54, 5873, 174, 65, 1149, 1169, 3519, 10, 54, 618, 3220, 64, 583, 833, 17, 1386, 66, 54, 6340, 713, 1623, 82, 842, 63, 4106, 68, 63, 393, 15, 85, 3983, 154, 63, 181, 71, 76, 87, 473, 36, 542, 290, 17, 5, 80, 180, 80, 63, 583, 831, 833, 15, 63, 633, 15, 63, 1328, 277, 66, 63, 202, 5651, 309, 81, 36, 228, 15, 139, 71, 10, 54, 87, 36, 2931, 356, 15, 5, 75, 73, 17, 5, 75, 10, 54, 407, 110, 448, 146, 303, 139, 123, 75, 712, 64, 224, 15, 91, 10, 39, 454, 203, 17, 5, 63, 4615, 65, 3519, 3220, 100, 6580, 79, 98, 63, 692, 1391, 551, 65, 63, 1844, 633, 418, 139, 354, 17, 5, 71, 390, 80, 36, 37, 2066, 171, 116, 65, 63, 1983, 64, 110, 15, 5, 1016, 3983, 17, 5, 85, 75, 10, 54, 36, 157, 6174, 6497, 2759, 64, 63, 277, 15, 139, 111, 10, 54, 145, 1533, 70, 75, 10, 54, 1213, 5971, 522, 110, 17, 75, 144, 2904, 3460, 36, 1123, 17, 5, 479, 63, 310, 96, 77, 36, 4351, 113, 68, 262, 3519, 66, 1784, 2148, 15, 3983, 73, 274, 76, 87, 36, 48, 2518, 238, 1701, 522, 2540, 68, 63, 277, 17, 5, 63, 274, 338, 65, 587, 5359, 10, 55, 98, 4111, 15, 85, 71, 10, 54, 87, 63, 551, 68, 1784, 2148, 15, 5, 75, 154, 378, 237, 663, 17, 5, 36, 710, 1448, 65, 274, 79, 401, 98, 36, 498, 68, 110, 17, 5, 264, 123, 91, 251, 81, 71, 15, 232, 63, 4391, 1918, 91, 117, 10, 55, 962, 36, 51, 423, 1722, 65, 71, 6534, 16, 91, 10, 39, 563, 81, 63, 393, 17, 5, 3983, 106, 73, 75, 3590, 768, 583, 833, 76, 139, 1480, 67, 2382, 102, 3519, 17, 5, 71, 10, 39, 77, 36, 331, 1482, 68, 110, 85, 36, 331, 848, 68, 143, 15, 5, 73, 63, 568, 1821, 1080, 272, 17, 5, 94, 3186, 69, 93, 4733, 2939, 5718, 17, 75, 10, 54, 98, 83, 63, 226, 68, 139, 285, 66, 79, 6608, 139, 163, 83, 171, 1821, 752, 2810, 74, 70, 122, 296, 64, 149, 71, 67, 36, 1107, 2745, 770, 17, 5, 2455, 162, 203, 16, 4795, 1754, 152, 43, 352, 895, 66, 816, 1239, 16, 292, 10, 55, 271, 1233, 157, 1079, 17, 122, 10, 323, 157, 4838, 64, 81, 143, 3230, 122, 10, 385, 328, 143, 17, 5]\n",
      "[6165, 5145, 407, 1155, 417, 605, 6165, 5145, 15, 150, 670, 68, 90, 413, 67, 63, 48, 1316, 4708, 1375, 15, 79, 98, 2740, 36, 417, 72, 63, 5779, 1155, 2866, 65, 5058, 17, 63, 811, 16, 103, 16, 261, 3765, 63, 4421, 100, 65, 63, 417, 78, 90, 2923, 15, 51, 1316, 2878, 799, 15, 66, 6301, 175, 68, 67, 6467, 4688, 203, 64, 386, 93, 605, 17, 5, 128, 44, 76, 648, 146, 261, 44, 642, 197, 48, 4244, 123, 71, 76, 6739, 64, 77, 93, 605, 15, 5, 5145, 73, 17, 5, 141, 73, 29, 10, 2336, 122, 235, 10, 17, 5, 90, 417, 69, 63, 21, 15, 1298, 826, 508, 64, 77, 40, 5543, 112, 1396, 67, 63, 51, 6343, 769, 72, 1155, 37, 222, 2957, 142, 1701, 1667, 17, 63, 605, 15, 108, 76, 1673, 67, 63, 5386, 5499, 6369, 1340, 77, 2445, 2735, 15, 106, 4633, 65, 196, 75, 1198, 116, 65, 764, 64, 5785, 93, 2818, 650, 17, 5, 1155, 76, 2529, 15, 5, 75, 73, 15, 5, 139, 44, 328, 67, 197, 884, 15, 36, 1081, 6327, 242, 4376, 1650, 57, 2066, 2880, 78, 4338, 74, 67, 63, 4558, 66, 37, 4957, 74, 1928, 102, 63, 2496, 17, 44, 76, 36, 569, 453, 484, 65, 899, 66, 4307, 74, 17, 5, 5145, 129, 388, 5058, 67, 63, 55, 4048, 862, 488, 66, 55, 112, 10, 54, 2538, 3363, 15, 66, 521, 72, 64, 5316, 159, 4995, 74, 80, 985, 15, 63, 1213, 6490, 10, 54, 4984, 2880, 4225, 66, 63, 48, 1316, 4708, 491, 15, 78, 1779, 470, 313, 197, 280, 999, 1435, 3131, 222, 17, 101, 744, 75, 76, 370, 67, 534, 10, 54, 328, 1624, 362, 1542, 2314, 49, 540, 5915, 1645, 252, 66, 39, 1231, 142, 46, 4929, 755, 17, 90, 173, 151, 15, 63, 1844, 1382, 171, 4485, 4651, 5655, 1137, 15, 69, 536, 67, 63, 110, 452, 94, 297, 66, 3835, 67, 63, 136, 67, 580, 17]\n"
     ]
    }
   ],
   "source": [
    "# tokaniser create a 3d tensor array\n",
    "# Merge the word and word-piece axes -> (batch, tokens)\n",
    "token_batch = token_batch.merge_dims(-2,-1)\n",
    "print(token_batch.shape)\n",
    "for ex in token_batch.to_list():\n",
    "    print(ex)"
   ]
  },
  {
   "cell_type": "code",
   "execution_count": 32,
   "id": "4340ed74",
   "metadata": {},
   "outputs": [],
   "source": [
    "def lookup(token_ids):\n",
    "    txt_tokens = tf.gather(vocab, token_batch)\n",
    "    \n",
    "    return txt_tokens"
   ]
  },
  {
   "cell_type": "code",
   "execution_count": 33,
   "id": "50817935",
   "metadata": {},
   "outputs": [
    {
     "data": {
      "text/plain": [
       "<tf.Tensor: shape=(2,), dtype=string, numpy=\n",
       "array([b'farrell s ##ag ##a to drag on - lindsay wi ##gan chairman m ##au ##ric ##e lindsay says he does not expect a quick solution to the on - going s ##ag ##a of captain andy farrell \\' s possible switch to rugby union . leicester and s ##ara ##ce ##ns are leading the chase for the player , but lindsay told the bbc it was not yet a done deal . \" as well as the rugby football union , the league , the individual club and the england coaching team have a say , so it \\' s not a quick decision , \" he said . \" he \\' s given us 12 years service so if he wants to go , we \\' d support him . \" the prospect of farrell switch ##ing codes has been the main talking point of the super league season so far . \" it came as a b ##ol ##t out of the blue to us , \" admitted lindsay . \" but he \\' s a very lo ##yal friend to the club , so there \\' s no question that he \\' s de ##ser ##ting us . he just fan ##cies a challenge . \" although the move would be a lucrative one for both farrell and wi ##gan , lindsay said money was not a m ##ot ##i ##va ##ting factor for the club . \" the money side of things hasn \\' t been concluded , but it \\' s not the point for wi ##gan , \" he told radio five live . \" a short ##age of money has never been a problem for us . \" even if we did have it , under the salary cap we can \\' t spend a p ##en ##ny of it anyway - we \\' d rather have the player . \" lindsay also said he understood why rugby union was so interested in signing up farrell . \" it \\' d be a great loss for us but a great boost for them , \" said the war ##ri ##ors chief . \" this guy is an absolute sporting icon . he \\' s been at the top for so long and has demonstrated so many at ##t ##ri ##b ##ute ##s that you need to make it in a tough contact sport . \" athletes like him - el ##ler ##y h ##an ##ley and martin johnson - don \\' t come along very often . you \\' re very lucky to have them whilst you \\' ve got them . \"',\n",
       "       b'keanu reeves given hollywood star actor keanu reeves , best known for his role in the m ##at ##rix movies , has been awarded a star on the prestigious hollywood walk of fame . the 40 - year - old attended the unveil ##ing of the star with his mother , p ##at ##ric ##ia , and thanked her for in ##sp ##iring him to become an actor . \" when i was 15 years old i asked my m ##om if it was ok to be an actor , \" reeves said . \" she said : \\' whatever you want \\' . \" his star is the 2 , 27 ##7 ##th to be e ##mb ##ed ##ded in the p ##ave ##ment on hollywood b ##o ##ul ##e ##va ##rd . the actor , who was born in the le ##ban ##ese capital be ##ir ##ut , also spoke of how he dropped out of school to pursue an acting career . \" hollywood was calling , \" he said , \" so i got in my car , a 19 ##69 british racing green v ##ol ##vo with hole ##s in the floor and b ##rick ##s holding up the seats . i was a young man full of hopes and dream ##s . \" reeves first found fame in the t ##een comedy bill and t ##ed \\' s excellent adventure , and went on to combine such blockbuster ##s as speed , the de ##vil \\' s ad ##vo ##cate and the m ##at ##rix series , with smaller films including my own private id ##ah ##o . more recently he was seen in something \\' s got ##ta give alongside jack n ##ic ##ho ##ls ##on and d ##ian ##e k ##ea ##ton . his next film , the super ##na ##t ##ural thriller constant ##ine , is released in the us later this month and opens in the uk in march .'],\n",
       "      dtype=object)>"
      ]
     },
     "execution_count": 33,
     "metadata": {},
     "output_type": "execute_result"
    }
   ],
   "source": [
    "txt_tokens = tf.gather(vocab, token_batch)\n",
    "# Join with spaces.\n",
    "tf.strings.reduce_join(txt_tokens, separator=' ', axis=-1)"
   ]
  },
  {
   "cell_type": "code",
   "execution_count": 34,
   "id": "ab4a02d3",
   "metadata": {},
   "outputs": [
    {
     "data": {
      "text/plain": [
       "'farrell saga to drag on - lindsay wigan chairman maurice lindsay says he does not expect a quick solution to the on - going saga of captain andy farrell \\' s possible switch to rugby union . leicester and saracens are leading the chase for the player , but lindsay told the bbc it was not yet a done deal . \" as well as the rugby football union , the league , the individual club and the england coaching team have a say , so it \\' s not a quick decision , \" he said . \" he \\' s given us 12 years service so if he wants to go , we \\' d support him . \" the prospect of farrell switching codes has been the main talking point of the super league season so far . \" it came as a bolt out of the blue to us , \" admitted lindsay . \" but he \\' s a very loyal friend to the club , so there \\' s no question that he \\' s deserting us . he just fancies a challenge . \" although the move would be a lucrative one for both farrell and wigan , lindsay said money was not a motivating factor for the club . \" the money side of things hasn \\' t been concluded , but it \\' s not the point for wigan , \" he told radio five live . \" a shortage of money has never been a problem for us . \" even if we did have it , under the salary cap we can \\' t spend a penny of it anyway - we \\' d rather have the player . \" lindsay also said he understood why rugby union was so interested in signing up farrell . \" it \\' d be a great loss for us but a great boost for them , \" said the warriors chief . \" this guy is an absolute sporting icon . he \\' s been at the top for so long and has demonstrated so many attributes that you need to make it in a tough contact sport . \" athletes like him - ellery hanley and martin johnson - don \\' t come along very often . you \\' re very lucky to have them whilst you \\' ve got them . \"'"
      ]
     },
     "execution_count": 34,
     "metadata": {},
     "output_type": "execute_result"
    }
   ],
   "source": [
    "words = tokenizer.detokenize(token_batch)\n",
    "words=tf.strings.reduce_join(words, separator=' ', axis=-1)\n",
    "words.numpy()[0].decode(\"utf-8\")"
   ]
  },
  {
   "cell_type": "code",
   "execution_count": 35,
   "id": "843cb9a3",
   "metadata": {},
   "outputs": [],
   "source": [
    "# adding [START] and [END] tokens to the input data.\n",
    "START = tf.argmax(tf.constant(reserved_tokens) == \"[START]\")\n",
    "END = tf.argmax(tf.constant(reserved_tokens) == \"[END]\")\n",
    "\n",
    "def add_start_end(ragged):\n",
    "    count = ragged.bounding_shape()[0]\n",
    "    starts = tf.fill([count,1], START)\n",
    "    ends = tf.fill([count,1], END)\n",
    "    return tf.concat([starts, ragged, ends], axis=1)"
   ]
  },
  {
   "cell_type": "code",
   "execution_count": 36,
   "id": "83bc4577",
   "metadata": {},
   "outputs": [
    {
     "data": {
      "text/plain": [
       "<tf.Tensor: shape=(2,), dtype=string, numpy=\n",
       "array([b'[START] farrell saga to drag on - lindsay wigan chairman maurice lindsay says he does not expect a quick solution to the on - going saga of captain andy farrell \\' s possible switch to rugby union . leicester and saracens are leading the chase for the player , but lindsay told the bbc it was not yet a done deal . \" as well as the rugby football union , the league , the individual club and the england coaching team have a say , so it \\' s not a quick decision , \" he said . \" he \\' s given us 12 years service so if he wants to go , we \\' d support him . \" the prospect of farrell switching codes has been the main talking point of the super league season so far . \" it came as a bolt out of the blue to us , \" admitted lindsay . \" but he \\' s a very loyal friend to the club , so there \\' s no question that he \\' s deserting us . he just fancies a challenge . \" although the move would be a lucrative one for both farrell and wigan , lindsay said money was not a motivating factor for the club . \" the money side of things hasn \\' t been concluded , but it \\' s not the point for wigan , \" he told radio five live . \" a shortage of money has never been a problem for us . \" even if we did have it , under the salary cap we can \\' t spend a penny of it anyway - we \\' d rather have the player . \" lindsay also said he understood why rugby union was so interested in signing up farrell . \" it \\' d be a great loss for us but a great boost for them , \" said the warriors chief . \" this guy is an absolute sporting icon . he \\' s been at the top for so long and has demonstrated so many attributes that you need to make it in a tough contact sport . \" athletes like him - ellery hanley and martin johnson - don \\' t come along very often . you \\' re very lucky to have them whilst you \\' ve got them . \" [END]',\n",
       "       b'[START] keanu reeves given hollywood star actor keanu reeves , best known for his role in the matrix movies , has been awarded a star on the prestigious hollywood walk of fame . the 40 - year - old attended the unveiling of the star with his mother , patricia , and thanked her for inspiring him to become an actor . \" when i was 15 years old i asked my mom if it was ok to be an actor , \" reeves said . \" she said : \\' whatever you want \\' . \" his star is the 2 , 277th to be embedded in the pavement on hollywood boulevard . the actor , who was born in the lebanese capital beirut , also spoke of how he dropped out of school to pursue an acting career . \" hollywood was calling , \" he said , \" so i got in my car , a 1969 british racing green volvo with holes in the floor and bricks holding up the seats . i was a young man full of hopes and dreams . \" reeves first found fame in the teen comedy bill and ted \\' s excellent adventure , and went on to combine such blockbusters as speed , the devil \\' s advocate and the matrix series , with smaller films including my own private idaho . more recently he was seen in something \\' s gotta give alongside jack nicholson and diane keaton . his next film , the supernatural thriller constantine , is released in the us later this month and opens in the uk in march . [END]'],\n",
       "      dtype=object)>"
      ]
     },
     "execution_count": 36,
     "metadata": {},
     "output_type": "execute_result"
    }
   ],
   "source": [
    "words = tokenizer.detokenize(add_start_end(token_batch))\n",
    "tf.strings.reduce_join(words, separator=' ', axis=-1)"
   ]
  },
  {
   "cell_type": "code",
   "execution_count": 37,
   "id": "38e0dea0",
   "metadata": {},
   "outputs": [],
   "source": [
    "\n",
    "import re\n",
    "def cleanup_text(reserved_tokens, token_txt):\n",
    "    # Drop the reserved tokens, except for \"[UNK]\".\n",
    "    bad_tokens = [re.escape(tok) for tok in reserved_tokens if tok != \"[UNK]\"]\n",
    "    bad_token_re = \"|\".join(bad_tokens)\n",
    "\n",
    "    bad_cells = tf.strings.regex_full_match(token_txt, bad_token_re)\n",
    "    result = tf.ragged.boolean_mask(token_txt, ~bad_cells)\n",
    "\n",
    "    # Join them into strings.\n",
    "    result = tf.strings.reduce_join(result, separator=' ', axis=-1)\n",
    "\n",
    "    \n",
    "  \n",
    "  \n",
    "    return result"
   ]
  },
  {
   "cell_type": "code",
   "execution_count": 38,
   "id": "3c09d80a",
   "metadata": {},
   "outputs": [
    {
     "data": {
      "text/plain": [
       "['\\\\[PAD\\\\]', '\\\\[START\\\\]', '\\\\[END\\\\]']"
      ]
     },
     "execution_count": 38,
     "metadata": {},
     "output_type": "execute_result"
    }
   ],
   "source": [
    "bad_tokens = [re.escape(tok) for tok in reserved_tokens if tok != \"[UNK]\"]\n",
    "bad_tokens\n"
   ]
  },
  {
   "cell_type": "code",
   "execution_count": 39,
   "id": "ed2242b5",
   "metadata": {},
   "outputs": [
    {
     "name": "stdout",
     "output_type": "stream",
     "text": [
      "**************************************************\n",
      "**************************************************\n"
     ]
    }
   ],
   "source": [
    "# check length of each article and its corresponding summary\n",
    "lengths_art = []\n",
    "lengths_summ=[]\n",
    "\n",
    "for Art in train_X.batch(1024):\n",
    "    art_tokens = tokenizer.tokenize(Art)\n",
    "    lengths_art.append(art_tokens.row_lengths())\n",
    "    print(\"*\"*50)\n",
    "\n",
    "\n",
    "for summ in train_y.batch(1024):\n",
    "  \n",
    "    sum_tokens = tokenizer.tokenize(summ)\n",
    "    lengths_summ.append(sum_tokens.row_lengths())"
   ]
  },
  {
   "cell_type": "code",
   "execution_count": 40,
   "id": "13acb2f2",
   "metadata": {},
   "outputs": [],
   "source": [
    "lengths_art = np.concatenate(lengths_art)\n",
    "lengths_summ = np.concatenate(lengths_summ)"
   ]
  },
  {
   "cell_type": "code",
   "execution_count": 41,
   "id": "52765cd6",
   "metadata": {},
   "outputs": [
    {
     "data": {
      "image/png": "[encoded data removed]",
      "text/plain": [
       "<Figure size 640x480 with 1 Axes>"
      ]
     },
     "metadata": {},
     "output_type": "display_data"
    }
   ],
   "source": [
    "plt.hist(lengths_art, np.linspace(0, 5000, 101))\n",
    "plt.ylim(plt.ylim())\n",
    "max_length = max(lengths_art)\n",
    "plt.plot([max_length, max_length], plt.ylim())\n",
    "plt.title(f'Maximum tokens per example: {max_length}');"
   ]
  },
  {
   "cell_type": "code",
   "execution_count": 42,
   "id": "b8e2846e",
   "metadata": {},
   "outputs": [
    {
     "data": {
      "image/png": "[encoded data removed]",
      "text/plain": [
       "<Figure size 640x480 with 1 Axes>"
      ]
     },
     "metadata": {},
     "output_type": "display_data"
    }
   ],
   "source": [
    "plt.hist(lengths_summ, np.linspace(0, 2500, 101))\n",
    "plt.ylim(plt.ylim())\n",
    "max_length = max(lengths_summ)\n",
    "plt.plot([max_length, max_length], plt.ylim())\n",
    "plt.title(f'Maximum tokens per example: {max_length}');"
   ]
  },
  {
   "cell_type": "code",
   "execution_count": 43,
   "id": "1e6bd151",
   "metadata": {},
   "outputs": [],
   "source": [
    "#train_x=[]\n",
    "#for Art,summ in train_data.batch(1).take(1):\n",
    "#    art_tokens = tokenizer.tokenize(Art)\n",
    "#    print(Art.shape)\n",
    "#    print(type(Art))\n",
    "#    print(Art.numpy()[0])\n",
    "#    print(type(art_tokens))\n",
    "#    print(art_tokens.get_shape())"
   ]
  },
  {
   "cell_type": "code",
   "execution_count": 44,
   "id": "e2fa388c",
   "metadata": {},
   "outputs": [],
   "source": [
    "# keeping articels and summaries with tokens<=512, to keep the model light\n",
    "train_x=[]\n",
    "train_y=[]\n",
    "\n",
    "summ_max_length =0\n",
    "for Art,summ in train_data:\n",
    "    art_tokens = tokenizer.tokenize(Art)\n",
    "    summ_tokens = tokenizer.tokenize(summ)\n",
    "    if art_tokens.row_lengths()<=512:\n",
    "        train_x.append(Art.numpy())\n",
    "        train_y.append(summ.numpy())\n",
    "        if summ_tokens.row_lengths()>summ_max_length:\n",
    "            summ_max_length= summ_tokens.row_lengths()\n",
    "            \n",
    "  \n",
    "    \n",
    "\n",
    "\n"
   ]
  },
  {
   "cell_type": "code",
   "execution_count": 45,
   "id": "40b606d7",
   "metadata": {},
   "outputs": [],
   "source": [
    "test_x=[]\n",
    "test_y=[]\n",
    "\n",
    "summ_max_length =0\n",
    "for Art,summ in test_data:\n",
    "    art_tokens = tokenizer.tokenize(Art)\n",
    "    summ_tokens = tokenizer.tokenize(summ)\n",
    "    if art_tokens.row_lengths()<=512:\n",
    "        test_x.append(Art.numpy())\n",
    "        test_y.append(summ.numpy())\n",
    "        if summ_tokens.row_lengths()>summ_max_length:\n",
    "            summ_max_length= summ_tokens.row_lengths()\n",
    "            "
   ]
  },
  {
   "cell_type": "code",
   "execution_count": 46,
   "id": "e5714e9c",
   "metadata": {},
   "outputs": [
    {
     "name": "stdout",
     "output_type": "stream",
     "text": [
      "1082\n",
      "1082\n"
     ]
    }
   ],
   "source": [
    "print(len(train_x))\n",
    "print(len(train_y))"
   ]
  },
  {
   "cell_type": "code",
   "execution_count": 47,
   "id": "2e16dba4",
   "metadata": {},
   "outputs": [
    {
     "name": "stdout",
     "output_type": "stream",
     "text": [
      "457\n",
      "457\n"
     ]
    }
   ],
   "source": [
    "print(len(test_x))\n",
    "print(len(test_y))"
   ]
  },
  {
   "cell_type": "code",
   "execution_count": 48,
   "id": "81a08f0d",
   "metadata": {},
   "outputs": [
    {
     "data": {
      "text/plain": [
       "<tf.Tensor: shape=(1,), dtype=int64, numpy=array([259], dtype=int64)>"
      ]
     },
     "execution_count": 48,
     "metadata": {},
     "output_type": "execute_result"
    }
   ],
   "source": [
    "summ_max_length"
   ]
  },
  {
   "cell_type": "code",
   "execution_count": 49,
   "id": "025dfe92",
   "metadata": {},
   "outputs": [],
   "source": [
    "lengths_art = []\n",
    "\n",
    "for Art in train_x:\n",
    "    art_tokens = tokenizer.tokenize(Art)\n",
    "    lengths_art.append(art_tokens.row_lengths().numpy()[0])\n",
    "\n",
    "lengths_summ=[]\n",
    "\n",
    "for summ in train_y:\n",
    "  \n",
    "    sum_tokens = tokenizer.tokenize(summ)\n",
    "    lengths_summ.append(sum_tokens.row_lengths().numpy()[0])"
   ]
  },
  {
   "cell_type": "code",
   "execution_count": 50,
   "id": "01618674",
   "metadata": {},
   "outputs": [
    {
     "data": {
      "image/png": "[encoded data removed]",
      "text/plain": [
       "<Figure size 640x480 with 1 Axes>"
      ]
     },
     "metadata": {},
     "output_type": "display_data"
    }
   ],
   "source": [
    "plt.hist(lengths_art, np.linspace(0, 600, 101))\n",
    "plt.ylim(plt.ylim())\n",
    "max_length = max(lengths_art)\n",
    "plt.plot([max_length, max_length], plt.ylim())\n",
    "plt.title(f'Maximum tokens per example: {max_length}');"
   ]
  },
  {
   "cell_type": "code",
   "execution_count": 51,
   "id": "ba8228bf",
   "metadata": {},
   "outputs": [
    {
     "data": {
      "image/png": "[encoded data removed]",
      "text/plain": [
       "<Figure size 640x480 with 1 Axes>"
      ]
     },
     "metadata": {},
     "output_type": "display_data"
    }
   ],
   "source": [
    "plt.hist(lengths_summ, np.linspace(0, 350, 101))\n",
    "plt.ylim(plt.ylim())\n",
    "max_length = max(lengths_summ)\n",
    "plt.plot([max_length, max_length], plt.ylim())\n",
    "plt.title(f'Maximum tokens per example: {max_length}');"
   ]
  },
  {
   "cell_type": "code",
   "execution_count": 52,
   "id": "cd7f691d",
   "metadata": {},
   "outputs": [],
   "source": [
    "train_data=tf.data.Dataset.from_tensor_slices((train_x,train_y))"
   ]
  },
  {
   "cell_type": "code",
   "execution_count": 53,
   "id": "78c31981",
   "metadata": {},
   "outputs": [],
   "source": [
    "test_data=tf.data.Dataset.from_tensor_slices((test_x,test_y))"
   ]
  },
  {
   "cell_type": "code",
   "execution_count": 54,
   "id": "bef77741",
   "metadata": {},
   "outputs": [
    {
     "data": {
      "text/plain": [
       "(TensorSpec(shape=(), dtype=tf.string, name=None),\n",
       " TensorSpec(shape=(), dtype=tf.string, name=None))"
      ]
     },
     "execution_count": 54,
     "metadata": {},
     "output_type": "execute_result"
    }
   ],
   "source": [
    "train_data.element_spec"
   ]
  },
  {
   "cell_type": "code",
   "execution_count": 55,
   "id": "c1e45f21",
   "metadata": {},
   "outputs": [],
   "source": [
    "MAX_TOKENS_X=512\n",
    "MAX_TOKENS_Y=256\n",
    "\n",
    "def prepare_batch(x, y):\n",
    "    x = tokenizer.tokenize(x)      # Output is ragged.\n",
    "    x=x.merge_dims(-2,-1)\n",
    "    x= add_start_end(x)\n",
    "    x = x[:, :MAX_TOKENS_X]    # Trim to MAX_TOKENS.\n",
    "  \n",
    "    x = x.to_tensor()  # Convert to 0-padded dense Tensor\n",
    "    \n",
    "\n",
    "    y = tokenizer.tokenize(y)\n",
    "    y=y.merge_dims(-2,-1)\n",
    "    y= add_start_end(y)\n",
    "    y = y[:, :(MAX_TOKENS_Y+1)]\n",
    "    y_inp = y[:, :-1].to_tensor()  # Drop the [END] tokens\n",
    "    y_out = y[:, 1:].to_tensor()   # Drop the [START] tokens\n",
    "\n",
    "    return (x,y_inp), y_out"
   ]
  },
  {
   "cell_type": "code",
   "execution_count": 56,
   "id": "322d051f",
   "metadata": {},
   "outputs": [],
   "source": [
    "BUFFER_SIZE = 1000\n",
    "BATCH_SIZE = 64\n",
    "def make_batches(ds):\n",
    "    return (\n",
    "        ds.shuffle(BUFFER_SIZE).batch(BATCH_SIZE)\n",
    "        .map(prepare_batch, tf.data.AUTOTUNE)\n",
    "        .prefetch(buffer_size=tf.data.AUTOTUNE))"
   ]
  },
  {
   "cell_type": "code",
   "execution_count": 57,
   "id": "db107a0f",
   "metadata": {},
   "outputs": [],
   "source": [
    "train_batches = make_batches(train_data)"
   ]
  },
  {
   "cell_type": "code",
   "execution_count": 58,
   "id": "2bc29f5d",
   "metadata": {},
   "outputs": [],
   "source": [
    "test_batches = make_batches(test_data)"
   ]
  },
  {
   "cell_type": "code",
   "execution_count": 59,
   "id": "32e34310",
   "metadata": {},
   "outputs": [
    {
     "name": "stdout",
     "output_type": "stream",
     "text": [
      "(64, 512)\n",
      "(64, 256)\n",
      "(64, 256)\n"
     ]
    }
   ],
   "source": [
    "for (art, summ), out in train_batches.take(1):\n",
    "    break\n",
    "\n",
    "print(art.shape)\n",
    "print(summ.shape)\n",
    "print(out.shape)\n",
    "\n"
   ]
  },
  {
   "cell_type": "markdown",
   "id": "09468958",
   "metadata": {},
   "source": [
    "## Define the components"
   ]
  },
  {
   "cell_type": "markdown",
   "id": "92cfa64d",
   "metadata": {},
   "source": [
    "### Positional Encoding"
   ]
  },
  {
   "cell_type": "code",
   "execution_count": 60,
   "id": "b4600b90",
   "metadata": {},
   "outputs": [],
   "source": [
    "def positional_encoding(length, emb_dim):\n",
    "    depth = emb_dim/2\n",
    "\n",
    "    positions = np.arange(length)[:, np.newaxis]     # (seq, 1)\n",
    "    depths = np.arange(depth)[np.newaxis, :]/depth   # (1, depth)\n",
    "\n",
    "    angle_rates = 1 / (10000**depths)         # (1, depth)\n",
    "    angle_rads = positions * angle_rates      # (pos, depth)\n",
    "    pos_encoding=np.zeros((length,emb_dim))\n",
    "    sin_angels= np.sin(angle_rads) \n",
    "    cos_angels= np.cos(angle_rads)\n",
    "   \n",
    "    pos_encoding[:,0::2]=cos_angels\n",
    "    pos_encoding[:,1::2]=sin_angels\n",
    "\n",
    "    return tf.cast(pos_encoding, dtype=tf.float32)"
   ]
  },
  {
   "cell_type": "markdown",
   "id": "d2483f71",
   "metadata": {},
   "source": [
    "## Positional Embeddings"
   ]
  },
  {
   "cell_type": "code",
   "execution_count": 61,
   "id": "ce866097",
   "metadata": {},
   "outputs": [],
   "source": [
    "class PositionalEmbedding(tf.keras.layers.Layer):\n",
    "    \n",
    "    def __init__(self, vocab_size, d_model):\n",
    "        \n",
    "        super().__init__()\n",
    "        self.d_model = d_model\n",
    "        self.embedding = tf.keras.layers.Embedding(vocab_size, d_model, mask_zero=True) \n",
    "        self.pos_encoding = positional_encoding(length=2048, emb_dim=d_model)\n",
    "\n",
    "    def compute_mask(self, *args, **kwargs):\n",
    "        return self.embedding.compute_mask(*args, **kwargs)\n",
    "\n",
    "    def call(self, x):\n",
    "        length = tf.shape(x)[1]\n",
    "        x = self.embedding(x)\n",
    "        # This factor sets the relative scale of the embedding and positonal_encoding.\n",
    "        x *= tf.math.sqrt(tf.cast(self.d_model, tf.float32))\n",
    "        x = x + self.pos_encoding[tf.newaxis, :length, :]\n",
    "        return x"
   ]
  },
  {
   "cell_type": "code",
   "execution_count": 62,
   "id": "81f29f5b",
   "metadata": {},
   "outputs": [],
   "source": [
    "embedings = PositionalEmbedding(vocab_size=len(vocab), d_model=512)"
   ]
  },
  {
   "cell_type": "markdown",
   "id": "ee906f97",
   "metadata": {},
   "source": [
    "### Base Attention Layer\n",
    "this serves as base later for all attention heads"
   ]
  },
  {
   "cell_type": "code",
   "execution_count": 63,
   "id": "95326453",
   "metadata": {},
   "outputs": [],
   "source": [
    "class BaseAttention(tf.keras.layers.Layer):\n",
    "    def __init__(self, num_heads, key_dims):\n",
    "        super().__init__()\n",
    "        self.mha = tf.keras.layers.MultiHeadAttention(num_heads=num_heads,key_dim=key_dims)\n",
    "        self.layernorm = tf.keras.layers.LayerNormalization()\n",
    "        self.add = tf.keras.layers.Add()\n",
    "    def call(self,*args,**kwargs):\n",
    "        encoder = kwargs[\"encoder\"]\n",
    "        use_causal_mask = kwargs[\"mask_value\"]\n",
    "        \n",
    "        if encoder:\n",
    "            x=args[0]\n",
    "            attn_output, attn_scores = self.mha(query=x,key=x, value=x,return_attention_scores = True,\n",
    "                                                use_causal_mask = False )\n",
    "        elif use_causal_mask:\n",
    "            x=args[0]\n",
    "            attn_output, attn_scores = self.mha(query=x,key=x, value=x,\n",
    "                                                return_attention_scores = True, use_causal_mask = True)\n",
    "        else :\n",
    "            x=args[0]\n",
    "            context=args[1]\n",
    "            attn_output, attn_scores = self.mha(query=x,key=context,value=context,\n",
    "                                                return_attention_scores = True,use_causal_mask = False)\n",
    "            \n",
    "        x = self.add([x, attn_output])\n",
    "        x = self.layernorm(x) \n",
    "        \n",
    "\n",
    "        return x, attn_scores"
   ]
  },
  {
   "cell_type": "code",
   "execution_count": 64,
   "id": "b5e2ee83",
   "metadata": {},
   "outputs": [],
   "source": [
    "class FeedForward(tf.keras.layers.Layer):\n",
    "    def __init__(self, d_model, dff, dropout_rate=0.1):\n",
    "        super().__init__()\n",
    "        self.seq = tf.keras.Sequential([\n",
    "            tf.keras.layers.Dense(dff, activation='relu'),\n",
    "            tf.keras.layers.Dense(d_model),\n",
    "            tf.keras.layers.Dropout(dropout_rate)\n",
    "        ])\n",
    "        self.add = tf.keras.layers.Add()\n",
    "        self.layer_norm = tf.keras.layers.LayerNormalization()\n",
    "\n",
    "    def call(self, x):\n",
    "        x = self.add([x, self.seq(x)])\n",
    "        x=self.layer_norm(x)\n",
    "        \n",
    "        return x"
   ]
  },
  {
   "cell_type": "code",
   "execution_count": 65,
   "id": "8e6b50c7",
   "metadata": {},
   "outputs": [],
   "source": [
    "class Encoder(tf.keras.layers.Layer):\n",
    "    def __init__(self, d_model,num_heads, num_layers,dff,dropout_rate=.1):\n",
    "        super().__init__()\n",
    "        self.d_model = d_model\n",
    "        self.num_layers = num_layers\n",
    "        \n",
    "        self.enc_layers= [\n",
    "            BaseAttention(key_dims= d_model,\n",
    "                         num_heads=num_heads)\n",
    "            for _ in range(num_layers)]\n",
    "        self.ffn_layers= [\n",
    "            FeedForward(d_model=d_model,dff=dff)\n",
    "            for _ in range(num_layers)]\n",
    "        self.dropout = tf.keras.layers.Dropout(rate = dropout_rate)\n",
    "    def call(self, x):\n",
    "        \n",
    "        \n",
    "\n",
    "        # Add dropout.\n",
    "        x = self.dropout(x)\n",
    "\n",
    "        for i in range(self.num_layers):\n",
    "            x, _ = self.enc_layers[i](x, mask_value =False, encoder =True)\n",
    "            x    = self.ffn_layers[i](x)\n",
    "            \n",
    "        return x\n"
   ]
  },
  {
   "cell_type": "code",
   "execution_count": 66,
   "id": "e3ba4ee4",
   "metadata": {},
   "outputs": [],
   "source": [
    "class Decoder(tf.keras.layers.Layer):\n",
    "    def __init__(self, d_model,num_heads, num_layers,dff,dropout_rate=.1):\n",
    "        super().__init__()\n",
    "        self.d_model = d_model\n",
    "        self.num_layers = num_layers\n",
    "        \n",
    "        self.casual_attn_layers= [\n",
    "            BaseAttention(key_dims= d_model,\n",
    "                         num_heads=num_heads)\n",
    "            for _ in range(num_layers)]\n",
    "        self.ffn_layers_1= [\n",
    "            FeedForward(d_model=d_model,dff=dff)\n",
    "            for _ in range(num_layers)]\n",
    "        self.decoder_layers= [\n",
    "            BaseAttention(key_dims= d_model,\n",
    "                         num_heads=num_heads)\n",
    "            \n",
    "            for _ in range(num_layers)]\n",
    "        \n",
    "        self.ffn_layers_2= [\n",
    "            FeedForward(d_model=d_model,dff=dff)\n",
    "            for _ in range(num_layers)]\n",
    "        self.dropout = tf.keras.layers.Dropout(rate=dropout_rate)\n",
    "        self.last_attn_scores = None\n",
    "    def call(self, x, context):\n",
    "        \n",
    "      \n",
    "        # Add dropout.\n",
    "        x = self.dropout(x)\n",
    "\n",
    "        for i in range(self.num_layers):\n",
    "            x, _ = self.casual_attn_layers[i](x, mask_value=True, encoder=False)\n",
    "            x    = self.ffn_layers_1[i](x)\n",
    "            x, final_attn_scores = self.decoder_layers[i](x,context, mask_value=False, encoder=False)\n",
    "            x    = self.ffn_layers_2[i](x)\n",
    "        self.last_attn_scores = final_attn_scores    \n",
    "        return x"
   ]
  },
  {
   "cell_type": "code",
   "execution_count": 67,
   "id": "fca7830b",
   "metadata": {},
   "outputs": [],
   "source": [
    "class Transformer(tf.keras.Model):\n",
    "    def __init__(self,*,vocab_size, d_model,num_heads, num_layers,dff,dropout_rate=.1):\n",
    "        super().__init__()\n",
    "        self.emb = PositionalEmbedding(vocab_size=vocab_size, d_model=d_model)\n",
    "        \n",
    "        self.encoder = Encoder(d_model=d_model,num_heads=num_heads,\n",
    "                               num_layers=num_layers,dff=dff,dropout_rate=.1)\n",
    "        \n",
    "        self.decoder  = Decoder(d_model=d_model,num_heads=num_heads,\n",
    "                               num_layers=num_layers,dff=dff,dropout_rate=.1)\n",
    "        self.final_layer = tf.keras.layers.Dense(vocab_size)\n",
    "\n",
    "    def call(self, inputs):\n",
    "        context , x = inputs\n",
    "        context     = self.emb(context)\n",
    "        x           = self.emb(x)\n",
    "        context     = self.encoder(context)\n",
    "        x           = self.decoder (x, context)\n",
    "        x           = self.decoder (x, context)\n",
    "        logits      = self.final_layer(x)\n",
    "        try:\n",
    "            # Drop the keras mask, so it doesn't scale the losses/metrics.\n",
    "            # b/250038731\n",
    "            del logits._keras_mask\n",
    "            \n",
    "        except AttributeError:\n",
    "            pass\n",
    "\n",
    "        # Return the final output and the attention weights.\n",
    "        return logits\n",
    "        \n",
    "    "
   ]
  },
  {
   "cell_type": "code",
   "execution_count": 68,
   "id": "ecf7c949",
   "metadata": {},
   "outputs": [],
   "source": [
    "num_layers = 3\n",
    "d_model = 128\n",
    "dff = 1024\n",
    "num_heads = 4\n"
   ]
  },
  {
   "cell_type": "code",
   "execution_count": 69,
   "id": "16871125",
   "metadata": {},
   "outputs": [],
   "source": [
    "transformer =Transformer(vocab_size=len(vocab),d_model=d_model,num_layers=num_layers, num_heads=num_heads,dff=dff)"
   ]
  },
  {
   "cell_type": "code",
   "execution_count": 70,
   "id": "6e93b622",
   "metadata": {},
   "outputs": [],
   "source": [
    "for inputs, out in train_batches.take(1):\n",
    "    output= transformer(inputs)\n",
    "    "
   ]
  },
  {
   "cell_type": "code",
   "execution_count": 71,
   "id": "1b22da54",
   "metadata": {},
   "outputs": [
    {
     "name": "stdout",
     "output_type": "stream",
     "text": [
      "Model: \"transformer\"\n",
      "_________________________________________________________________\n",
      " Layer (type)                Output Shape              Param #   \n",
      "=================================================================\n",
      " positional_embedding_1 (Pos  multiple                 884352    \n",
      " itionalEmbedding)                                               \n",
      "                                                                 \n",
      " encoder (Encoder)           multiple                  1582848   \n",
      "                                                                 \n",
      " decoder (Decoder)           multiple                  3165696   \n",
      "                                                                 \n",
      " dense_18 (Dense)            multiple                  891261    \n",
      "                                                                 \n",
      "=================================================================\n",
      "Total params: 6,524,157\n",
      "Trainable params: 6,524,157\n",
      "Non-trainable params: 0\n",
      "_________________________________________________________________\n"
     ]
    }
   ],
   "source": [
    "transformer.summary()"
   ]
  },
  {
   "cell_type": "code",
   "execution_count": 72,
   "id": "be2d55b7",
   "metadata": {},
   "outputs": [],
   "source": [
    "class CustomSchedule(tf.keras.optimizers.schedules.LearningRateSchedule):\n",
    "    def __init__(self, d_model, warmup_steps=10):\n",
    "        \n",
    "        super().__init__()\n",
    "\n",
    "        self.d_model = d_model\n",
    "        self.d_model = tf.cast(self.d_model, tf.float32)\n",
    "\n",
    "        self.warmup_steps = warmup_steps\n",
    "\n",
    "    def __call__(self, step):\n",
    "        step=step\n",
    "        step = tf.cast(step, dtype=tf.float32)\n",
    "        arg1 = tf.math.rsqrt(step)\n",
    "        arg2 = step * (self.warmup_steps ** -1.5)\n",
    "\n",
    "        return tf.math.rsqrt(self.d_model) * tf.math.minimum(arg1, arg2)"
   ]
  },
  {
   "cell_type": "code",
   "execution_count": 73,
   "id": "1a41d0b7",
   "metadata": {},
   "outputs": [],
   "source": [
    "learning_rate = CustomSchedule(d_model)"
   ]
  },
  {
   "cell_type": "code",
   "execution_count": 74,
   "id": "00d17a3d",
   "metadata": {},
   "outputs": [
    {
     "data": {
      "text/plain": [
       "Text(0.5, 0, 'Train Step')"
      ]
     },
     "execution_count": 74,
     "metadata": {},
     "output_type": "execute_result"
    },
    {
     "data": {
      "image/png": "[encoded data removed]",
      "text/plain": [
       "<Figure size 640x480 with 1 Axes>"
      ]
     },
     "metadata": {},
     "output_type": "display_data"
    }
   ],
   "source": [
    "plt.plot(learning_rate(tf.range(400, dtype=tf.float32)))\n",
    "plt.ylabel('Learning Rate')\n",
    "plt.xlabel('Train Step')"
   ]
  },
  {
   "cell_type": "code",
   "execution_count": 75,
   "id": "c9b20d7f",
   "metadata": {},
   "outputs": [],
   "source": [
    "optimizer = tf.keras.optimizers.Adam(learning_rate, beta_1=0.9, beta_2=0.98,\n",
    "                                     epsilon=1e-9)"
   ]
  },
  {
   "cell_type": "code",
   "execution_count": 76,
   "id": "7f689096",
   "metadata": {},
   "outputs": [],
   "source": [
    "def masked_loss(label, pred):\n",
    "    mask = label != 0\n",
    "    loss_object = tf.keras.losses.SparseCategoricalCrossentropy(\n",
    "        from_logits=True, reduction=\"none\")\n",
    "    loss = loss_object(label, pred)\n",
    "\n",
    "    mask = tf.cast(mask, dtype=loss.dtype)\n",
    "    loss *= mask\n",
    "\n",
    "    loss = tf.reduce_sum(loss)/tf.reduce_sum(mask)\n",
    "    /return loss\n",
    "\n",
    "\n",
    "def masked_accuracy(label, pred):\n",
    "    pred = tf.argmax(pred, axis=2)\n",
    "    label = tf.cast(label, pred.dtype)\n",
    "    match = label == pred\n",
    "\n",
    "    mask = label != 0\n",
    "\n",
    "    match = match & mask\n",
    " \n",
    "    match = tf.cast(match, dtype=tf.float32)\n",
    "    mask = tf.cast(mask, dtype=tf.float32)\n",
    "    return tf.reduce_sum(match)/tf.reduce_sum(mask)"
   ]
  },
  {
   "cell_type": "code",
   "execution_count": 77,
   "id": "9ab21102",
   "metadata": {},
   "outputs": [],
   "source": [
    "transformer.compile(\n",
    "    loss=masked_loss,\n",
    "    optimizer=optimizer, \n",
    "    metrics=[masked_accuracy])"
   ]
  },
  {
   "cell_type": "code",
   "execution_count": 78,
   "id": "46aba933",
   "metadata": {},
   "outputs": [
    {
     "name": "stdout",
     "output_type": "stream",
     "text": [
      "Epoch 1/5\n",
      "17/17 [==============================] - 12618s 747s/step - loss: 7.6137 - masked_accuracy: 0.0400\n",
      "Epoch 2/5\n",
      " 3/17 [====>.........................] - ETA: 3:25:24 - loss: 7.0805 - masked_accuracy: 0.0426"
     ]
    },
    {
     "ename": "KeyboardInterrupt",
     "evalue": "",
     "output_type": "error",
     "traceback": [
      "\u001b[1;31m---------------------------------------------------------------------------\u001b[0m",
      "\u001b[1;31mKeyboardInterrupt\u001b[0m                         Traceback (most recent call last)",
      "Cell \u001b[1;32mIn[78], line 1\u001b[0m\n\u001b[1;32m----> 1\u001b[0m \u001b[43mtransformer\u001b[49m\u001b[38;5;241;43m.\u001b[39;49m\u001b[43mfit\u001b[49m\u001b[43m(\u001b[49m\u001b[43mtrain_batches\u001b[49m\u001b[43m,\u001b[49m\n\u001b[0;32m      2\u001b[0m \u001b[43m                \u001b[49m\u001b[43mepochs\u001b[49m\u001b[38;5;241;43m=\u001b[39;49m\u001b[38;5;241;43m5\u001b[39;49m\u001b[43m)\u001b[49m\n",
      "File \u001b[1;32m~\\anaconda3.1\\lib\\site-packages\\keras\\utils\\traceback_utils.py:65\u001b[0m, in \u001b[0;36mfilter_traceback.<locals>.error_handler\u001b[1;34m(*args, **kwargs)\u001b[0m\n\u001b[0;32m     63\u001b[0m filtered_tb \u001b[38;5;241m=\u001b[39m \u001b[38;5;28;01mNone\u001b[39;00m\n\u001b[0;32m     64\u001b[0m \u001b[38;5;28;01mtry\u001b[39;00m:\n\u001b[1;32m---> 65\u001b[0m     \u001b[38;5;28;01mreturn\u001b[39;00m fn(\u001b[38;5;241m*\u001b[39margs, \u001b[38;5;241m*\u001b[39m\u001b[38;5;241m*\u001b[39mkwargs)\n\u001b[0;32m     66\u001b[0m \u001b[38;5;28;01mexcept\u001b[39;00m \u001b[38;5;167;01mException\u001b[39;00m \u001b[38;5;28;01mas\u001b[39;00m e:\n\u001b[0;32m     67\u001b[0m     filtered_tb \u001b[38;5;241m=\u001b[39m _process_traceback_frames(e\u001b[38;5;241m.\u001b[39m__traceback__)\n",
      "File \u001b[1;32m~\\anaconda3.1\\lib\\site-packages\\keras\\engine\\training.py:1564\u001b[0m, in \u001b[0;36mModel.fit\u001b[1;34m(self, x, y, batch_size, epochs, verbose, callbacks, validation_split, validation_data, shuffle, class_weight, sample_weight, initial_epoch, steps_per_epoch, validation_steps, validation_batch_size, validation_freq, max_queue_size, workers, use_multiprocessing)\u001b[0m\n\u001b[0;32m   1556\u001b[0m \u001b[38;5;28;01mwith\u001b[39;00m tf\u001b[38;5;241m.\u001b[39mprofiler\u001b[38;5;241m.\u001b[39mexperimental\u001b[38;5;241m.\u001b[39mTrace(\n\u001b[0;32m   1557\u001b[0m     \u001b[38;5;124m\"\u001b[39m\u001b[38;5;124mtrain\u001b[39m\u001b[38;5;124m\"\u001b[39m,\n\u001b[0;32m   1558\u001b[0m     epoch_num\u001b[38;5;241m=\u001b[39mepoch,\n\u001b[1;32m   (...)\u001b[0m\n\u001b[0;32m   1561\u001b[0m     _r\u001b[38;5;241m=\u001b[39m\u001b[38;5;241m1\u001b[39m,\n\u001b[0;32m   1562\u001b[0m ):\n\u001b[0;32m   1563\u001b[0m     callbacks\u001b[38;5;241m.\u001b[39mon_train_batch_begin(step)\n\u001b[1;32m-> 1564\u001b[0m     tmp_logs \u001b[38;5;241m=\u001b[39m \u001b[38;5;28;43mself\u001b[39;49m\u001b[38;5;241;43m.\u001b[39;49m\u001b[43mtrain_function\u001b[49m\u001b[43m(\u001b[49m\u001b[43miterator\u001b[49m\u001b[43m)\u001b[49m\n\u001b[0;32m   1565\u001b[0m     \u001b[38;5;28;01mif\u001b[39;00m data_handler\u001b[38;5;241m.\u001b[39mshould_sync:\n\u001b[0;32m   1566\u001b[0m         context\u001b[38;5;241m.\u001b[39masync_wait()\n",
      "File \u001b[1;32m~\\anaconda3.1\\lib\\site-packages\\tensorflow\\python\\util\\traceback_utils.py:150\u001b[0m, in \u001b[0;36mfilter_traceback.<locals>.error_handler\u001b[1;34m(*args, **kwargs)\u001b[0m\n\u001b[0;32m    148\u001b[0m filtered_tb \u001b[38;5;241m=\u001b[39m \u001b[38;5;28;01mNone\u001b[39;00m\n\u001b[0;32m    149\u001b[0m \u001b[38;5;28;01mtry\u001b[39;00m:\n\u001b[1;32m--> 150\u001b[0m   \u001b[38;5;28;01mreturn\u001b[39;00m fn(\u001b[38;5;241m*\u001b[39margs, \u001b[38;5;241m*\u001b[39m\u001b[38;5;241m*\u001b[39mkwargs)\n\u001b[0;32m    151\u001b[0m \u001b[38;5;28;01mexcept\u001b[39;00m \u001b[38;5;167;01mException\u001b[39;00m \u001b[38;5;28;01mas\u001b[39;00m e:\n\u001b[0;32m    152\u001b[0m   filtered_tb \u001b[38;5;241m=\u001b[39m _process_traceback_frames(e\u001b[38;5;241m.\u001b[39m__traceback__)\n",
      "File \u001b[1;32m~\\anaconda3.1\\lib\\site-packages\\tensorflow\\python\\eager\\def_function.py:915\u001b[0m, in \u001b[0;36mFunction.__call__\u001b[1;34m(self, *args, **kwds)\u001b[0m\n\u001b[0;32m    912\u001b[0m compiler \u001b[38;5;241m=\u001b[39m \u001b[38;5;124m\"\u001b[39m\u001b[38;5;124mxla\u001b[39m\u001b[38;5;124m\"\u001b[39m \u001b[38;5;28;01mif\u001b[39;00m \u001b[38;5;28mself\u001b[39m\u001b[38;5;241m.\u001b[39m_jit_compile \u001b[38;5;28;01melse\u001b[39;00m \u001b[38;5;124m\"\u001b[39m\u001b[38;5;124mnonXla\u001b[39m\u001b[38;5;124m\"\u001b[39m\n\u001b[0;32m    914\u001b[0m \u001b[38;5;28;01mwith\u001b[39;00m OptionalXlaContext(\u001b[38;5;28mself\u001b[39m\u001b[38;5;241m.\u001b[39m_jit_compile):\n\u001b[1;32m--> 915\u001b[0m   result \u001b[38;5;241m=\u001b[39m \u001b[38;5;28mself\u001b[39m\u001b[38;5;241m.\u001b[39m_call(\u001b[38;5;241m*\u001b[39margs, \u001b[38;5;241m*\u001b[39m\u001b[38;5;241m*\u001b[39mkwds)\n\u001b[0;32m    917\u001b[0m new_tracing_count \u001b[38;5;241m=\u001b[39m \u001b[38;5;28mself\u001b[39m\u001b[38;5;241m.\u001b[39mexperimental_get_tracing_count()\n\u001b[0;32m    918\u001b[0m without_tracing \u001b[38;5;241m=\u001b[39m (tracing_count \u001b[38;5;241m==\u001b[39m new_tracing_count)\n",
      "File \u001b[1;32m~\\anaconda3.1\\lib\\site-packages\\tensorflow\\python\\eager\\def_function.py:947\u001b[0m, in \u001b[0;36mFunction._call\u001b[1;34m(self, *args, **kwds)\u001b[0m\n\u001b[0;32m    944\u001b[0m   \u001b[38;5;28mself\u001b[39m\u001b[38;5;241m.\u001b[39m_lock\u001b[38;5;241m.\u001b[39mrelease()\n\u001b[0;32m    945\u001b[0m   \u001b[38;5;66;03m# In this case we have created variables on the first call, so we run the\u001b[39;00m\n\u001b[0;32m    946\u001b[0m   \u001b[38;5;66;03m# defunned version which is guaranteed to never create variables.\u001b[39;00m\n\u001b[1;32m--> 947\u001b[0m   \u001b[38;5;28;01mreturn\u001b[39;00m \u001b[38;5;28mself\u001b[39m\u001b[38;5;241m.\u001b[39m_stateless_fn(\u001b[38;5;241m*\u001b[39margs, \u001b[38;5;241m*\u001b[39m\u001b[38;5;241m*\u001b[39mkwds)  \u001b[38;5;66;03m# pylint: disable=not-callable\u001b[39;00m\n\u001b[0;32m    948\u001b[0m \u001b[38;5;28;01melif\u001b[39;00m \u001b[38;5;28mself\u001b[39m\u001b[38;5;241m.\u001b[39m_stateful_fn \u001b[38;5;129;01mis\u001b[39;00m \u001b[38;5;129;01mnot\u001b[39;00m \u001b[38;5;28;01mNone\u001b[39;00m:\n\u001b[0;32m    949\u001b[0m   \u001b[38;5;66;03m# Release the lock early so that multiple threads can perform the call\u001b[39;00m\n\u001b[0;32m    950\u001b[0m   \u001b[38;5;66;03m# in parallel.\u001b[39;00m\n\u001b[0;32m    951\u001b[0m   \u001b[38;5;28mself\u001b[39m\u001b[38;5;241m.\u001b[39m_lock\u001b[38;5;241m.\u001b[39mrelease()\n",
      "File \u001b[1;32m~\\anaconda3.1\\lib\\site-packages\\tensorflow\\python\\eager\\function.py:2496\u001b[0m, in \u001b[0;36mFunction.__call__\u001b[1;34m(self, *args, **kwargs)\u001b[0m\n\u001b[0;32m   2493\u001b[0m \u001b[38;5;28;01mwith\u001b[39;00m \u001b[38;5;28mself\u001b[39m\u001b[38;5;241m.\u001b[39m_lock:\n\u001b[0;32m   2494\u001b[0m   (graph_function,\n\u001b[0;32m   2495\u001b[0m    filtered_flat_args) \u001b[38;5;241m=\u001b[39m \u001b[38;5;28mself\u001b[39m\u001b[38;5;241m.\u001b[39m_maybe_define_function(args, kwargs)\n\u001b[1;32m-> 2496\u001b[0m \u001b[38;5;28;01mreturn\u001b[39;00m \u001b[43mgraph_function\u001b[49m\u001b[38;5;241;43m.\u001b[39;49m\u001b[43m_call_flat\u001b[49m\u001b[43m(\u001b[49m\n\u001b[0;32m   2497\u001b[0m \u001b[43m    \u001b[49m\u001b[43mfiltered_flat_args\u001b[49m\u001b[43m,\u001b[49m\u001b[43m \u001b[49m\u001b[43mcaptured_inputs\u001b[49m\u001b[38;5;241;43m=\u001b[39;49m\u001b[43mgraph_function\u001b[49m\u001b[38;5;241;43m.\u001b[39;49m\u001b[43mcaptured_inputs\u001b[49m\u001b[43m)\u001b[49m\n",
      "File \u001b[1;32m~\\anaconda3.1\\lib\\site-packages\\tensorflow\\python\\eager\\function.py:1862\u001b[0m, in \u001b[0;36mConcreteFunction._call_flat\u001b[1;34m(self, args, captured_inputs, cancellation_manager)\u001b[0m\n\u001b[0;32m   1858\u001b[0m possible_gradient_type \u001b[38;5;241m=\u001b[39m gradients_util\u001b[38;5;241m.\u001b[39mPossibleTapeGradientTypes(args)\n\u001b[0;32m   1859\u001b[0m \u001b[38;5;28;01mif\u001b[39;00m (possible_gradient_type \u001b[38;5;241m==\u001b[39m gradients_util\u001b[38;5;241m.\u001b[39mPOSSIBLE_GRADIENT_TYPES_NONE\n\u001b[0;32m   1860\u001b[0m     \u001b[38;5;129;01mand\u001b[39;00m executing_eagerly):\n\u001b[0;32m   1861\u001b[0m   \u001b[38;5;66;03m# No tape is watching; skip to running the function.\u001b[39;00m\n\u001b[1;32m-> 1862\u001b[0m   \u001b[38;5;28;01mreturn\u001b[39;00m \u001b[38;5;28mself\u001b[39m\u001b[38;5;241m.\u001b[39m_build_call_outputs(\u001b[38;5;28;43mself\u001b[39;49m\u001b[38;5;241;43m.\u001b[39;49m\u001b[43m_inference_function\u001b[49m\u001b[38;5;241;43m.\u001b[39;49m\u001b[43mcall\u001b[49m\u001b[43m(\u001b[49m\n\u001b[0;32m   1863\u001b[0m \u001b[43m      \u001b[49m\u001b[43mctx\u001b[49m\u001b[43m,\u001b[49m\u001b[43m \u001b[49m\u001b[43margs\u001b[49m\u001b[43m,\u001b[49m\u001b[43m \u001b[49m\u001b[43mcancellation_manager\u001b[49m\u001b[38;5;241;43m=\u001b[39;49m\u001b[43mcancellation_manager\u001b[49m\u001b[43m)\u001b[49m)\n\u001b[0;32m   1864\u001b[0m forward_backward \u001b[38;5;241m=\u001b[39m \u001b[38;5;28mself\u001b[39m\u001b[38;5;241m.\u001b[39m_select_forward_and_backward_functions(\n\u001b[0;32m   1865\u001b[0m     args,\n\u001b[0;32m   1866\u001b[0m     possible_gradient_type,\n\u001b[0;32m   1867\u001b[0m     executing_eagerly)\n\u001b[0;32m   1868\u001b[0m forward_function, args_with_tangents \u001b[38;5;241m=\u001b[39m forward_backward\u001b[38;5;241m.\u001b[39mforward()\n",
      "File \u001b[1;32m~\\anaconda3.1\\lib\\site-packages\\tensorflow\\python\\eager\\function.py:499\u001b[0m, in \u001b[0;36m_EagerDefinedFunction.call\u001b[1;34m(self, ctx, args, cancellation_manager)\u001b[0m\n\u001b[0;32m    497\u001b[0m \u001b[38;5;28;01mwith\u001b[39;00m _InterpolateFunctionError(\u001b[38;5;28mself\u001b[39m):\n\u001b[0;32m    498\u001b[0m   \u001b[38;5;28;01mif\u001b[39;00m cancellation_manager \u001b[38;5;129;01mis\u001b[39;00m \u001b[38;5;28;01mNone\u001b[39;00m:\n\u001b[1;32m--> 499\u001b[0m     outputs \u001b[38;5;241m=\u001b[39m \u001b[43mexecute\u001b[49m\u001b[38;5;241;43m.\u001b[39;49m\u001b[43mexecute\u001b[49m\u001b[43m(\u001b[49m\n\u001b[0;32m    500\u001b[0m \u001b[43m        \u001b[49m\u001b[38;5;28;43mstr\u001b[39;49m\u001b[43m(\u001b[49m\u001b[38;5;28;43mself\u001b[39;49m\u001b[38;5;241;43m.\u001b[39;49m\u001b[43msignature\u001b[49m\u001b[38;5;241;43m.\u001b[39;49m\u001b[43mname\u001b[49m\u001b[43m)\u001b[49m\u001b[43m,\u001b[49m\n\u001b[0;32m    501\u001b[0m \u001b[43m        \u001b[49m\u001b[43mnum_outputs\u001b[49m\u001b[38;5;241;43m=\u001b[39;49m\u001b[38;5;28;43mself\u001b[39;49m\u001b[38;5;241;43m.\u001b[39;49m\u001b[43m_num_outputs\u001b[49m\u001b[43m,\u001b[49m\n\u001b[0;32m    502\u001b[0m \u001b[43m        \u001b[49m\u001b[43minputs\u001b[49m\u001b[38;5;241;43m=\u001b[39;49m\u001b[43margs\u001b[49m\u001b[43m,\u001b[49m\n\u001b[0;32m    503\u001b[0m \u001b[43m        \u001b[49m\u001b[43mattrs\u001b[49m\u001b[38;5;241;43m=\u001b[39;49m\u001b[43mattrs\u001b[49m\u001b[43m,\u001b[49m\n\u001b[0;32m    504\u001b[0m \u001b[43m        \u001b[49m\u001b[43mctx\u001b[49m\u001b[38;5;241;43m=\u001b[39;49m\u001b[43mctx\u001b[49m\u001b[43m)\u001b[49m\n\u001b[0;32m    505\u001b[0m   \u001b[38;5;28;01melse\u001b[39;00m:\n\u001b[0;32m    506\u001b[0m     outputs \u001b[38;5;241m=\u001b[39m execute\u001b[38;5;241m.\u001b[39mexecute_with_cancellation(\n\u001b[0;32m    507\u001b[0m         \u001b[38;5;28mstr\u001b[39m(\u001b[38;5;28mself\u001b[39m\u001b[38;5;241m.\u001b[39msignature\u001b[38;5;241m.\u001b[39mname),\n\u001b[0;32m    508\u001b[0m         num_outputs\u001b[38;5;241m=\u001b[39m\u001b[38;5;28mself\u001b[39m\u001b[38;5;241m.\u001b[39m_num_outputs,\n\u001b[1;32m   (...)\u001b[0m\n\u001b[0;32m    511\u001b[0m         ctx\u001b[38;5;241m=\u001b[39mctx,\n\u001b[0;32m    512\u001b[0m         cancellation_manager\u001b[38;5;241m=\u001b[39mcancellation_manager)\n",
      "File \u001b[1;32m~\\anaconda3.1\\lib\\site-packages\\tensorflow\\python\\eager\\execute.py:54\u001b[0m, in \u001b[0;36mquick_execute\u001b[1;34m(op_name, num_outputs, inputs, attrs, ctx, name)\u001b[0m\n\u001b[0;32m     52\u001b[0m \u001b[38;5;28;01mtry\u001b[39;00m:\n\u001b[0;32m     53\u001b[0m   ctx\u001b[38;5;241m.\u001b[39mensure_initialized()\n\u001b[1;32m---> 54\u001b[0m   tensors \u001b[38;5;241m=\u001b[39m \u001b[43mpywrap_tfe\u001b[49m\u001b[38;5;241;43m.\u001b[39;49m\u001b[43mTFE_Py_Execute\u001b[49m\u001b[43m(\u001b[49m\u001b[43mctx\u001b[49m\u001b[38;5;241;43m.\u001b[39;49m\u001b[43m_handle\u001b[49m\u001b[43m,\u001b[49m\u001b[43m \u001b[49m\u001b[43mdevice_name\u001b[49m\u001b[43m,\u001b[49m\u001b[43m \u001b[49m\u001b[43mop_name\u001b[49m\u001b[43m,\u001b[49m\n\u001b[0;32m     55\u001b[0m \u001b[43m                                      \u001b[49m\u001b[43minputs\u001b[49m\u001b[43m,\u001b[49m\u001b[43m \u001b[49m\u001b[43mattrs\u001b[49m\u001b[43m,\u001b[49m\u001b[43m \u001b[49m\u001b[43mnum_outputs\u001b[49m\u001b[43m)\u001b[49m\n\u001b[0;32m     56\u001b[0m \u001b[38;5;28;01mexcept\u001b[39;00m core\u001b[38;5;241m.\u001b[39m_NotOkStatusException \u001b[38;5;28;01mas\u001b[39;00m e:\n\u001b[0;32m     57\u001b[0m   \u001b[38;5;28;01mif\u001b[39;00m name \u001b[38;5;129;01mis\u001b[39;00m \u001b[38;5;129;01mnot\u001b[39;00m \u001b[38;5;28;01mNone\u001b[39;00m:\n",
      "\u001b[1;31mKeyboardInterrupt\u001b[0m: "
     ]
    }
   ],
   "source": [
    "transformer.fit(train_batches,\n",
    "                epochs=5)"
   ]
  },
  {
   "cell_type": "code",
   "execution_count": 145,
   "id": "cce879c8",
   "metadata": {},
   "outputs": [
    {
     "name": "stdout",
     "output_type": "stream",
     "text": [
      "(64, 512)\n",
      "(64, 512)\n",
      "(64, 256)\n",
      "1/1 [==============================] - 13s 13s/step\n"
     ]
    }
   ],
   "source": [
    "  \n",
    "for inp, out in train_batches.take(1):\n",
    "    print(inp[0].shape)\n",
    "    inp_x=inp[0][0][tf.newaxis]\n",
    "    inp_y=inp[1][0][tf.newaxis]\n",
    "    print(inp[0].numpy().shape)\n",
    "    print(inp[1].numpy().shape)\n",
    "    prediction=transformer.predict((inp_x,inp_y))\n",
    "        \n",
    "    \n",
    "    break\n",
    "             \n"
   ]
  },
  {
   "cell_type": "code",
   "execution_count": 146,
   "id": "bae68bdd",
   "metadata": {},
   "outputs": [
    {
     "name": "stdout",
     "output_type": "stream",
     "text": [
      "Article\n",
      "**************************************************\n"
     ]
    },
    {
     "data": {
      "text/plain": [
       "'hewitt falls to dent lleyton hewitt suffered a shock defeat to taylor dent in the quarter - finals of the australian hardcourt championships in adelaide on friday . the top seed was a strong favourite for the title but went down 7 - 6 ( 7 - 4 ) 6 - 3 to the american . dent will face juan ignacio chela next after the fourth seed was too strong for jurgen melzer . olivier rochus beat third seed nicolas kiefer 6 - 7 ( 4 - 7 ) 7 - 6 ( 8 - 6 ) 7 - 5 and will take on second seed joachim johansson . the swede reached the last four by beating compatriot thomas enqvist 6 - 3 4 - 6 6 - 1 . \" i felt like i was striking the ball much better , \" said johansson . \" i felt like i had a lot of break chances , i didn \\' t take care of them all , but i broke him four times and he only broke me once . \" i felt that was the key to get up in the set early . \"'"
      ]
     },
     "execution_count": 146,
     "metadata": {},
     "output_type": "execute_result"
    }
   ],
   "source": [
    "print(\"Article\")\n",
    "print(\"*\"*50)\n",
    "words=tokenizer.detokenize(inp_x)\n",
    "words=cleanup_text(reserved_tokens,words )\n",
    "words.numpy()[0].decode(\"utf-8\")\n",
    "\n"
   ]
  },
  {
   "cell_type": "code",
   "execution_count": 147,
   "id": "fc43dab1",
   "metadata": {},
   "outputs": [
    {
     "data": {
      "text/plain": [
       "'dent will face juan ignacio chela next after the fourth seed was too strong for jurgen melzer . \" i felt like i was striking the ball much better , \" said johansson . the top seed was a strong favourite for the title but went down 7 - 6 ( 7 - 4 ) 6 - 3 to the american . \" i felt that was the key to get up in the set early . \"'"
      ]
     },
     "execution_count": 147,
     "metadata": {},
     "output_type": "execute_result"
    }
   ],
   "source": [
    "words = tokenizer.detokenize(inp_y)\n",
    "words=cleanup_text(reserved_tokens,words )\n",
    "words.numpy()[0].decode(\"utf_8\")"
   ]
  },
  {
   "cell_type": "code",
   "execution_count": 148,
   "id": "96849f4e",
   "metadata": {},
   "outputs": [
    {
     "name": "stdout",
     "output_type": "stream",
     "text": [
      "(1, 256, 6825)\n"
     ]
    },
    {
     "data": {
      "text/plain": [
       "'the the the the the the the the the the the the the the the the the the the the the the the the the the the the the the the the the the the the the the the the the the the the the the the the the the the the the the the the the the the the the the the the the the the the the the the the the the the the the the the the the the the the the the the the the the the the the the the the the the the the the the the the the the the the the the the the the the the the the the the the the the the the the the the the the the the the the the the the the the the the the the the the the the the the the the the the the the the the the the the the the the the the the the the the the the the the the the the the the the the the the the the the the the the the the the the the the the the the the the the the the the the the the the the the the the the the the the the the the the the the the the the the the the the the the the the the the the the the the the the the the the the the the the the the the the the the the the the the'"
      ]
     },
     "execution_count": 148,
     "metadata": {},
     "output_type": "execute_result"
    }
   ],
   "source": [
    "print(prediction.shape)\n",
    "prediction= tf.argmax(prediction,axis=-1)\n",
    "words = tokenizer.detokenize(prediction)\n",
    "words=cleanup_text(reserved_tokens,words )\n",
    "words.numpy()[0].decode(\"utf_8\")\n",
    "\n"
   ]
  },
  {
   "cell_type": "code",
   "execution_count": 227,
   "id": "c5ee5978",
   "metadata": {},
   "outputs": [],
   "source": [
    "class CustomTokenizer(tf.Module):\n",
    "    def __init__(self, reserved_tokens, vocab_path,name=None):\n",
    "        super().__init__(name=name)\n",
    "        self.tokenizer = text.BertTokenizer(vocab_path, lower_case=True)\n",
    "        self._reserved_tokens = reserved_tokens\n",
    "        self._vocab_path = tf.saved_model.Asset(vocab_path)\n",
    "\n",
    "        vocab = pathlib.Path(vocab_path).read_text().splitlines()\n",
    "        self.vocab = tf.Variable(vocab)\n",
    "\n",
    "        ## Create the signatures for export:   \n",
    "\n",
    "        # Include a tokenize signature for a batch of strings. \n",
    "        self.tokenize.get_concrete_function(\n",
    "            tf.TensorSpec(shape=[None], dtype=tf.string))\n",
    "\n",
    "        # Include `detokenize` and `lookup` signatures for:\n",
    "        #   * `Tensors` with shapes [tokens] and [batch, tokens]\n",
    "        #   * `RaggedTensors` with shape [batch, tokens]\n",
    "        self.detokenize.get_concrete_function(\n",
    "            tf.TensorSpec(shape=[None, None], dtype=tf.int64))\n",
    "        self.detokenize.get_concrete_function(\n",
    "              tf.RaggedTensorSpec(shape=[None, None], dtype=tf.int64))\n",
    "\n",
    "        self.lookup.get_concrete_function(\n",
    "            tf.TensorSpec(shape=[None, None], dtype=tf.int64))\n",
    "        self.lookup.get_concrete_function(\n",
    "              tf.RaggedTensorSpec(shape=[None, None], dtype=tf.int64))\n",
    "\n",
    "        # These `get_*` methods take no arguments\n",
    "        self.get_vocab_size.get_concrete_function()\n",
    "        self.get_vocab_path.get_concrete_function()\n",
    "        self.get_reserved_tokens.get_concrete_function()\n",
    "\n",
    "    @tf.function\n",
    "    def tokenize(self, strings):\n",
    "        enc = self.tokenizer.tokenize(strings)\n",
    "        # Merge the `word` and `word-piece` axes.\n",
    "        enc = enc.merge_dims(-2,-1)\n",
    "        enc = add_start_end(enc)\n",
    "        return enc\n",
    "\n",
    "    @tf.function\n",
    "    def detokenize(self, tokenized):\n",
    "        words = self.tokenizer.detokenize(tokenized)\n",
    "        return cleanup_text(self._reserved_tokens, words)\n",
    "\n",
    "    @tf.function\n",
    "    def lookup(self, token_ids):\n",
    "        return tf.gather(self.vocab, token_ids)\n",
    "\n",
    "    @tf.function\n",
    "    def get_vocab_size(self):\n",
    "        return tf.shape(self.vocab)[0]\n",
    "\n",
    "    @tf.function\n",
    "    def get_vocab_path(self):\n",
    "        return self._vocab_path\n",
    "\n",
    "    @tf.function\n",
    "    def get_reserved_tokens(self):\n",
    "        return tf.constant(self._reserved_tokens)"
   ]
  },
  {
   "cell_type": "code",
   "execution_count": 228,
   "id": "318c9722",
   "metadata": {},
   "outputs": [],
   "source": [
    "tokenizer = CustomTokenizer(reserved_tokens, 'vocab.txt')"
   ]
  },
  {
   "cell_type": "code",
   "execution_count": 367,
   "id": "f6a179e0",
   "metadata": {},
   "outputs": [],
   "source": [
    "class Summarizer(tf.Module):\n",
    "    def __init__(self, tokenizer, transformer):\n",
    "        super().__init__()\n",
    "        \n",
    "        self.tokenizer = tokenizer\n",
    "        self.transformer = transformer\n",
    "\n",
    "    def __call__(self, sentence, max_length=256):\n",
    "        # The input sentence is Portuguese, hence adding the `[START]` and `[END]` tokens.\n",
    "        assert isinstance(sentence, tf.Tensor)\n",
    "        if len(sentence.shape) == 0:\n",
    "            sentence = sentence[tf.newaxis]\n",
    "\n",
    "        sentence = self.tokenizer.tokenize(sentence).to_tensor()\n",
    "\n",
    "        inp      = sentence\n",
    "\n",
    "        # As the output language is English, initialize the output with the\n",
    "        # English `[START]` token.\n",
    "        start_end = self.tokenizer.tokenize([''])[0]\n",
    "        start = start_end[0][tf.newaxis]  # shape(1,)\n",
    "        end = start_end[1][tf.newaxis]    # shape(1,)\n",
    "\n",
    "        # `tf.TensorArray` is required here (instead of a Python list), so that the\n",
    "        # dynamic-loop can be traced by `tf.function`.\n",
    "        output_array = tf.TensorArray(dtype=tf.int64, size=0, dynamic_size=True)\n",
    "        output_array = output_array.write(0, start)\n",
    "\n",
    "        for i in tf.range(max_length):\n",
    "            \n",
    "            output = tf.transpose(output_array.stack())\n",
    "            predictions = self.transformer([inp, output], training=False)\n",
    "\n",
    "            # Select the last token from the `seq_len` dimension.\n",
    "            predictions = predictions[:, -1:, :]  # Shape `(batch_size, 1, vocab_size)`.\n",
    "\n",
    "            predicted_id = tf.argmax(predictions, axis=-1)\n",
    "            \n",
    "\n",
    "            # Concatenate the `predicted_id` to the output which is given to the\n",
    "            # decoder as its input.\n",
    "            output_array = output_array.write(i+1, predicted_id[0])\n",
    "\n",
    "            if predicted_id == end:\n",
    "                break\n",
    "\n",
    "        output = tf.transpose(output_array.stack())\n",
    "        # The output shape is `(1, tokens)`.\n",
    "        text = tokenizer.detokenize(output)[0]  # Shape: `()`.\n",
    "\n",
    "        tokens = tokenizer.lookup(output)[0]\n",
    "\n",
    "        # `tf.function` prevents us from using the attention_weights that were\n",
    "        # calculated on the last iteration of the loop.\n",
    "        # So, recalculate them outside the loop.\n",
    "        self.transformer([inp, output[:,:-1]], training=False)\n",
    "        attention_weights = self.transformer.decoder.last_attn_scores\n",
    "\n",
    "        return text, tokens, attention_weights"
   ]
  },
  {
   "cell_type": "code",
   "execution_count": 368,
   "id": "d8c55d4f",
   "metadata": {},
   "outputs": [],
   "source": [
    "summarizer = Summarizer(tokenizer, transformer)"
   ]
  },
  {
   "cell_type": "code",
   "execution_count": 369,
   "id": "c1706abe",
   "metadata": {},
   "outputs": [],
   "source": [
    "translated_text, translated_tokens, attention_weights=summarizer( (Article_data[1]))"
   ]
  },
  {
   "cell_type": "code",
   "execution_count": 370,
   "id": "69d29c0b",
   "metadata": {},
   "outputs": [
    {
     "data": {
      "text/plain": [
       "<tf.Tensor: shape=(), dtype=string, numpy=b'the the the the the the the the the the the the the the the the the the the the the the the the the the the the the the the the the the the the the the the the the the the the the the the the the the the the the the the the the the the the the the the the the the the the the the the the the the the the the the the the the the the the the the the the the the the the the the the the the the the the the the the the the the the the the the the the the the the the the the the the the the the the the the the the the the the the the the the the the the the the the the the the the the the the the the the the the the the the the the the the the the the the the the the the the the the the the the the the the the the the the the the the the the the the the the the the the the the the the the the the the the the the the the the the the the the the the the the the the the the the the the the the the the the the the the the the the the the the the the the the the the the the the the the the the the the the the the the the'>"
      ]
     },
     "execution_count": 370,
     "metadata": {},
     "output_type": "execute_result"
    }
   ],
   "source": [
    "translated_text"
   ]
  },
  {
   "cell_type": "code",
   "execution_count": 371,
   "id": "a64f423d",
   "metadata": {},
   "outputs": [
    {
     "data": {
      "text/plain": [
       "'Dollar gains on Greenspan speech\\n\\nThe dollar has hit its highest level against the euro in almost three months after the Federal Reserve head said the US trade deficit is set to stabilise.\\n\\nAnd Alan Greenspan highlighted the US government\\'s willingness to curb spending and rising household savings as factors which may help to reduce it. In late trading in New York, the dollar reached $1.2871 against the euro, from $1.2974 on Thursday. Market concerns about the deficit has hit the greenback in recent months. On Friday, Federal Reserve chairman Mr Greenspan\\'s speech in London ahead of the meeting of G7 finance ministers sent the dollar higher after it had earlier tumbled on the back of worse-than-expected US jobs data. \"I think the chairman\\'s taking a much more sanguine view on the current account deficit than he\\'s taken for some time,\" said Robert Sinche, head of currency strategy at Bank of America in New York. \"He\\'s taking a longer-term view, laying out a set of conditions under which the current account deficit can improve this year and next.\"\\n\\nWorries about the deficit concerns about China do, however, remain. China\\'s currency remains pegged to the dollar and the US currency\\'s sharp falls in recent months have therefore made Chinese export prices highly competitive. But calls for a shift in Beijing\\'s policy have fallen on deaf ears, despite recent comments in a major Chinese newspaper that the \"time is ripe\" for a loosening of the peg. The G7 meeting is thought unlikely to produce any meaningful movement in Chinese policy. In the meantime, the US Federal Reserve\\'s decision on 2 February to boost interest rates by a quarter of a point - the sixth such move in as many months - has opened up a differential with European rates. The half-point window, some believe, could be enough to keep US assets looking more attractive, and could help prop up the dollar. The recent falls have partly been the result of big budget deficits, as well as the US\\'s yawning current account gap, both of which need to be funded by the buying of US bonds and assets by foreign firms and governments. The White House will announce its budget on Monday, and many commentators believe the deficit will remain at close to half a trillion dollars.\\n'"
      ]
     },
     "execution_count": 371,
     "metadata": {},
     "output_type": "execute_result"
    }
   ],
   "source": [
    "Article_data[1]"
   ]
  },
  {
   "cell_type": "code",
   "execution_count": 372,
   "id": "8aa8d564",
   "metadata": {},
   "outputs": [],
   "source": [
    "def print_summary(sentence, tokens, ground_truth):\n",
    "    print(f'{\"Input:\":15s}: {sentence}')\n",
    "    print(f'{\"Prediction\":15s}: {tokens.numpy().decode(\"utf-8\")}')\n",
    "    print(f'{\"Ground truth\":15s}: {ground_truth}')"
   ]
  },
  {
   "cell_type": "code",
   "execution_count": 373,
   "id": "ee8f3739",
   "metadata": {},
   "outputs": [],
   "source": [
    "class ExportSummarizer(tf.Module):\n",
    "    def __init__(self, summarizer):\n",
    "        self.summarizer = summarizer\n",
    "\n",
    "    @tf.function(input_signature=[tf.TensorSpec(shape=[], dtype=tf.string)])\n",
    "    def __call__(self, sentence):\n",
    "        \n",
    "        (result,\n",
    "        tokens,\n",
    "        attention_weights) = self.summarizer(sentence, max_length=256)\n",
    "\n",
    "        return result"
   ]
  },
  {
   "cell_type": "code",
   "execution_count": 374,
   "id": "5023668c",
   "metadata": {},
   "outputs": [],
   "source": [
    "summarizer = ExportSummarizer(summarizer)"
   ]
  },
  {
   "cell_type": "code",
   "execution_count": 375,
   "id": "68018af6",
   "metadata": {},
   "outputs": [
    {
     "name": "stderr",
     "output_type": "stream",
     "text": [
      "WARNING:absl:Found untraced functions such as embedding_1_layer_call_fn, embedding_1_layer_call_and_return_conditional_losses, dropout_3_layer_call_fn, dropout_3_layer_call_and_return_conditional_losses, dropout_10_layer_call_fn while saving (showing 5 of 240). These functions will not be directly callable after loading.\n"
     ]
    },
    {
     "name": "stdout",
     "output_type": "stream",
     "text": [
      "INFO:tensorflow:Assets written to: summarizer\\assets\n"
     ]
    },
    {
     "name": "stderr",
     "output_type": "stream",
     "text": [
      "INFO:tensorflow:Assets written to: summarizer\\assets\n"
     ]
    }
   ],
   "source": [
    "tf.saved_model.save(summarizer, export_dir='summarizer')"
   ]
  }
 ],
 "metadata": {
  "kernelspec": {
   "display_name": "Python 3 (ipykernel)",
   "language": "python",
   "name": "python3"
  },
  "language_info": {
   "codemirror_mode": {
    "name": "ipython",
    "version": 3
   },
   "file_extension": ".py",
   "mimetype": "text/x-python",
   "name": "python",
   "nbconvert_exporter": "python",
   "pygments_lexer": "ipython3",
   "version": "3.9.16"
  }
 },
 "nbformat": 4,
 "nbformat_minor": 5
}
